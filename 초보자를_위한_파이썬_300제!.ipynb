{
  "nbformat": 4,
  "nbformat_minor": 0,
  "metadata": {
    "colab": {
      "provenance": [],
      "authorship_tag": "ABX9TyNG9PnMiOChcwzUjWubLFBi",
      "include_colab_link": true
    },
    "kernelspec": {
      "name": "python3",
      "display_name": "Python 3"
    },
    "language_info": {
      "name": "python"
    }
  },
  "cells": [
    {
      "cell_type": "markdown",
      "metadata": {
        "id": "view-in-github",
        "colab_type": "text"
      },
      "source": [
        "<a href=\"https://colab.research.google.com/github/kimyeoju/PythonCodingPractice/blob/main/%EC%B4%88%EB%B3%B4%EC%9E%90%EB%A5%BC_%EC%9C%84%ED%95%9C_%ED%8C%8C%EC%9D%B4%EC%8D%AC_300%EC%A0%9C!.ipynb\" target=\"_parent\"><img src=\"https://colab.research.google.com/assets/colab-badge.svg\" alt=\"Open In Colab\"/></a>"
      ]
    },
    {
      "cell_type": "markdown",
      "source": [
        "# 01. 파이썬 시작하기"
      ],
      "metadata": {
        "id": "n034VoTi44Le"
      }
    },
    {
      "cell_type": "code",
      "execution_count": null,
      "metadata": {
        "colab": {
          "base_uri": "https://localhost:8080/"
        },
        "id": "Do3jGuGa43WR",
        "outputId": "55153b37-dfec-4386-e3d8-e94a12e728ff"
      },
      "outputs": [
        {
          "output_type": "stream",
          "name": "stdout",
          "text": [
            "Hello world\n"
          ]
        }
      ],
      "source": [
        "# 001 print 기초\n",
        "print('Hello world')"
      ]
    },
    {
      "cell_type": "code",
      "source": [
        "# 002 print 기초\n",
        "print(\"Mary's cosmetics\")"
      ],
      "metadata": {
        "colab": {
          "base_uri": "https://localhost:8080/"
        },
        "id": "3oEissEz8QlT",
        "outputId": "5dc4529a-6960-437e-ea53-4491cbfb8de6"
      },
      "execution_count": null,
      "outputs": [
        {
          "output_type": "stream",
          "name": "stdout",
          "text": [
            "Mary's cosmetics\n"
          ]
        }
      ]
    },
    {
      "cell_type": "code",
      "source": [
        "# 003 print 기초\n",
        "print('신씨가 소리질렀다. \"도둑이야\".')"
      ],
      "metadata": {
        "colab": {
          "base_uri": "https://localhost:8080/"
        },
        "id": "FZLwbkOS87BV",
        "outputId": "e7aa36e3-b3d1-4706-b9fc-ab7496b3afda"
      },
      "execution_count": null,
      "outputs": [
        {
          "output_type": "stream",
          "name": "stdout",
          "text": [
            "신씨가 소리질렀다. \"도둑이야\".\n"
          ]
        }
      ]
    },
    {
      "cell_type": "code",
      "source": [
        "# 004 print 기초\n",
        "print('\"C:/Windows\"')"
      ],
      "metadata": {
        "colab": {
          "base_uri": "https://localhost:8080/"
        },
        "id": "TeLeaKhx8_89",
        "outputId": "00b016d6-e1e5-4319-9122-aa3cec56d573"
      },
      "execution_count": null,
      "outputs": [
        {
          "output_type": "stream",
          "name": "stdout",
          "text": [
            "\"C:/Windows\"\n"
          ]
        }
      ]
    },
    {
      "cell_type": "code",
      "source": [
        "# 005 Print 탭과 줄바꿈\n",
        "print('안녕하세요.\\n만나서\\t\\t반갑습니다.')"
      ],
      "metadata": {
        "colab": {
          "base_uri": "https://localhost:8080/"
        },
        "id": "OaanDtlf9MhG",
        "outputId": "612798eb-56d9-4296-faab-3fa201041b0c"
      },
      "execution_count": null,
      "outputs": [
        {
          "output_type": "stream",
          "name": "stdout",
          "text": [
            "안녕하세요.\n",
            "만나서\t\t반갑습니다.\n"
          ]
        }
      ]
    },
    {
      "cell_type": "code",
      "source": [
        "# 006 print 여러 데이터 출력\n",
        "print('오늘은','일요일')"
      ],
      "metadata": {
        "colab": {
          "base_uri": "https://localhost:8080/"
        },
        "id": "mBd3yAUX9aUa",
        "outputId": "a0363c26-ce18-4e42-800e-a4ad0845179d"
      },
      "execution_count": null,
      "outputs": [
        {
          "output_type": "stream",
          "name": "stdout",
          "text": [
            "오늘은 일요일\n"
          ]
        }
      ]
    },
    {
      "cell_type": "code",
      "source": [
        "# 007 print 기초\n",
        "print('naver','kakao','sk','samsung',sep=';')"
      ],
      "metadata": {
        "colab": {
          "base_uri": "https://localhost:8080/"
        },
        "id": "o_xWVoB99k-O",
        "outputId": "202e2e48-ed54-4066-84a8-4a7ff6690ee2"
      },
      "execution_count": null,
      "outputs": [
        {
          "output_type": "stream",
          "name": "stdout",
          "text": [
            "naver;kakao;sk;samsung\n"
          ]
        }
      ]
    },
    {
      "cell_type": "code",
      "source": [
        "# 008 print 기초\n",
        "print('naver','kakao','sk','samsung',sep='/')"
      ],
      "metadata": {
        "colab": {
          "base_uri": "https://localhost:8080/"
        },
        "id": "JqOuL-Iv-plV",
        "outputId": "7e54694a-d31c-4759-aa25-be5ddaadabf7"
      },
      "execution_count": null,
      "outputs": [
        {
          "output_type": "stream",
          "name": "stdout",
          "text": [
            "naver/kakao/sk/samsung\n"
          ]
        }
      ]
    },
    {
      "cell_type": "code",
      "source": [
        "# 009 print 줄바꿈\n",
        "print('first',end=\"\");print('second')\n",
        "# end는 이어 붙이기"
      ],
      "metadata": {
        "colab": {
          "base_uri": "https://localhost:8080/"
        },
        "id": "5NRDrSJi-H6c",
        "outputId": "f7baf1f9-2d48-43df-d4d9-b120f21abdd1"
      },
      "execution_count": null,
      "outputs": [
        {
          "output_type": "stream",
          "name": "stdout",
          "text": [
            "firstsecond\n"
          ]
        }
      ]
    },
    {
      "cell_type": "code",
      "source": [
        "# 010 연산 결과 출력\n",
        "print(5/3)"
      ],
      "metadata": {
        "colab": {
          "base_uri": "https://localhost:8080/"
        },
        "id": "awWSxq_5-mpC",
        "outputId": "ac86c0e8-09bf-4e04-9be5-26b045c49d6b"
      },
      "execution_count": null,
      "outputs": [
        {
          "output_type": "stream",
          "name": "stdout",
          "text": [
            "1.6666666666666667\n"
          ]
        }
      ]
    },
    {
      "cell_type": "markdown",
      "source": [
        "# 02. 파이썬 변수"
      ],
      "metadata": {
        "id": "lZa9iwqI_HVd"
      }
    },
    {
      "cell_type": "code",
      "source": [
        "# 011 변수 사용하기\n",
        "삼성전자 = 50000\n",
        "총평가금액 = 삼성전자 * 10\n",
        "print(총평가금액)"
      ],
      "metadata": {
        "colab": {
          "base_uri": "https://localhost:8080/"
        },
        "id": "BYuoLibT_GqA",
        "outputId": "71d10d60-06ec-4984-86e8-f8ccaf83e340"
      },
      "execution_count": null,
      "outputs": [
        {
          "output_type": "stream",
          "name": "stdout",
          "text": [
            "500000\n"
          ]
        }
      ]
    },
    {
      "cell_type": "code",
      "source": [
        "# 012 변수 사용하기\n",
        "시가총액 = 2980000000000\n",
        "현재가 = 50000\n",
        "PER = 15.79\n",
        "print(시가총액, type(시가총액))\n",
        "print(현재가, type(현재가))\n",
        "print(PER, type(PER))"
      ],
      "metadata": {
        "colab": {
          "base_uri": "https://localhost:8080/"
        },
        "id": "5qhKRHBd_jaU",
        "outputId": "dabbf270-f892-44c8-f21a-dc29c9c170b1"
      },
      "execution_count": null,
      "outputs": [
        {
          "output_type": "stream",
          "name": "stdout",
          "text": [
            "2980000000000 <class 'int'>\n",
            "50000 <class 'int'>\n",
            "15.79 <class 'float'>\n"
          ]
        }
      ]
    },
    {
      "cell_type": "code",
      "source": [
        "# 013 문자열 출력\n",
        "s = 'hello'\n",
        "t = 'python'\n",
        "print(s,t, sep='!')"
      ],
      "metadata": {
        "colab": {
          "base_uri": "https://localhost:8080/"
        },
        "id": "q6OnpTzo_4yi",
        "outputId": "e1948534-a35e-4e0a-8554-d53b13cf2cd8"
      },
      "execution_count": null,
      "outputs": [
        {
          "output_type": "stream",
          "name": "stdout",
          "text": [
            "hello!python\n"
          ]
        }
      ]
    },
    {
      "cell_type": "code",
      "source": [
        "# 014 파이썬을 이용한 값 계산\n",
        "print(2 + 2 * 3) # 곱하기가 먼저"
      ],
      "metadata": {
        "colab": {
          "base_uri": "https://localhost:8080/"
        },
        "id": "DXg2FKCXAQSL",
        "outputId": "6d6d3ea7-77e6-4b49-88c1-9fe7dd0c1b99"
      },
      "execution_count": null,
      "outputs": [
        {
          "output_type": "stream",
          "name": "stdout",
          "text": [
            "8\n"
          ]
        }
      ]
    },
    {
      "cell_type": "code",
      "source": [
        "# 015 type 함수\n",
        "a = 128\n",
        "print(type(a))\n",
        "\n",
        "a = '132'\n",
        "print(type(a))"
      ],
      "metadata": {
        "colab": {
          "base_uri": "https://localhost:8080/"
        },
        "id": "eo1ekzK4AYge",
        "outputId": "2fc4c865-77bd-441d-a8ca-09133291893d"
      },
      "execution_count": null,
      "outputs": [
        {
          "output_type": "stream",
          "name": "stdout",
          "text": [
            "<class 'int'>\n",
            "<class 'str'>\n"
          ]
        }
      ]
    },
    {
      "cell_type": "code",
      "source": [
        "# 016 문자열을 정수로 변환\n",
        "num_str = '720'\n",
        "print(int(num_str))"
      ],
      "metadata": {
        "colab": {
          "base_uri": "https://localhost:8080/"
        },
        "id": "2idB8aaZArN2",
        "outputId": "8bf3513c-f71e-44d9-ac51-0b7e0535fabc"
      },
      "execution_count": null,
      "outputs": [
        {
          "output_type": "stream",
          "name": "stdout",
          "text": [
            "720\n"
          ]
        }
      ]
    },
    {
      "cell_type": "code",
      "source": [
        "# 017 정수를 문자열 100으로 변환\n",
        "num = 100\n",
        "result = str(num)\n",
        "print(result, type(result))"
      ],
      "metadata": {
        "colab": {
          "base_uri": "https://localhost:8080/"
        },
        "id": "AwRFfj0aA19H",
        "outputId": "3746570b-2772-4526-fe31-be742f69441b"
      },
      "execution_count": null,
      "outputs": [
        {
          "output_type": "stream",
          "name": "stdout",
          "text": [
            "100 <class 'str'>\n"
          ]
        }
      ]
    },
    {
      "cell_type": "code",
      "source": [
        "# 018 문자열을 실수로 변환\n",
        "a = '15.79'\n",
        "b = float(a)\n",
        "print(b,type(b))"
      ],
      "metadata": {
        "colab": {
          "base_uri": "https://localhost:8080/"
        },
        "id": "5dGODZlbBGxd",
        "outputId": "697ee67a-b56a-4324-cbea-9fb632cb0f4f"
      },
      "execution_count": null,
      "outputs": [
        {
          "output_type": "stream",
          "name": "stdout",
          "text": [
            "15.79 <class 'float'>\n"
          ]
        }
      ]
    },
    {
      "cell_type": "code",
      "source": [
        "# 019 문자열을 정수로 변환\n",
        "year = '2020'\n",
        "data = int(year)\n",
        "print(data+1)\n",
        "print(data+2)\n",
        "print(data+3)"
      ],
      "metadata": {
        "colab": {
          "base_uri": "https://localhost:8080/"
        },
        "id": "4qtMuMU6BUvd",
        "outputId": "9f74d338-7156-429e-a97d-196b7434a7e7"
      },
      "execution_count": null,
      "outputs": [
        {
          "output_type": "stream",
          "name": "stdout",
          "text": [
            "2021\n",
            "2022\n",
            "2023\n"
          ]
        }
      ]
    },
    {
      "cell_type": "code",
      "source": [
        "# 020 파이썬 계산\n",
        "month = 48584\n",
        "date = 36\n",
        "total = print(month*date)"
      ],
      "metadata": {
        "colab": {
          "base_uri": "https://localhost:8080/"
        },
        "id": "W3yZ2H-2CUwK",
        "outputId": "cf24d3da-877f-43c8-8cc1-c4e718b659d2"
      },
      "execution_count": null,
      "outputs": [
        {
          "output_type": "stream",
          "name": "stdout",
          "text": [
            "1749024\n"
          ]
        }
      ]
    },
    {
      "cell_type": "markdown",
      "source": [
        "# 03. 파이썬 문자열"
      ],
      "metadata": {
        "id": "OGVFQINRCo8v"
      }
    },
    {
      "cell_type": "markdown",
      "source": [
        "## Str 문자열\n",
        "- 시퀀스 자료형 (문자열, 리스트, 튜플) 딕셔너리,set은 시퀀스 자료형이 아님 x\n",
        "- 인덱싱, 슬라이싱 [start:stop:step]\n",
        "- str은 immutable 변경이 불가능한 객체 -> replace를 할 때 변수를 새롭게 바인딩 해야함\n",
        "- 참고로 str은 append를 쓸 수 없음\n",
        "\n",
        "## 자주 쓰이는 method\n",
        "- lower() / upper()\n",
        "- find() 오류 출력 x -1로 반환 / index() 오류 출력 o\n",
        "- count()\n",
        "- strip() / rstip() / lstrip()\n",
        "- replace()\n",
        "- split() / join() -> '\\n'.join(변수)\n",
        "- isalnum() / isdigit() / isalpha() / isascii()\n",
        "- rjust() / ljust() / center() 정렬\n",
        "- zfill(데이터의 빈공간을 0으로 채워줌)\n",
        "- translate()"
      ],
      "metadata": {
        "id": "0evzJqjKpvy1"
      }
    },
    {
      "cell_type": "code",
      "source": [
        "# 021 문자열 인덱싱\n",
        "letters = 'python'\n",
        "print(letters[0], letters[2])"
      ],
      "metadata": {
        "colab": {
          "base_uri": "https://localhost:8080/"
        },
        "id": "1ZWa1jfJCrYJ",
        "outputId": "eec3ef01-f25a-44ac-c445-4be8a6c1aa94"
      },
      "execution_count": null,
      "outputs": [
        {
          "output_type": "stream",
          "name": "stdout",
          "text": [
            "p t\n"
          ]
        }
      ]
    },
    {
      "cell_type": "code",
      "source": [
        "# 022 문자열 슬라이싱\n",
        "license_plate = '24가 2210'\n",
        "print(license_plate[4:])"
      ],
      "metadata": {
        "colab": {
          "base_uri": "https://localhost:8080/"
        },
        "id": "XsnTjt8vC8jW",
        "outputId": "af416137-0318-4aec-f1cd-dc5c161844ce"
      },
      "execution_count": null,
      "outputs": [
        {
          "output_type": "stream",
          "name": "stdout",
          "text": [
            "2210\n"
          ]
        }
      ]
    },
    {
      "cell_type": "code",
      "source": [
        "# 023 문자열 인덱싱\n",
        "string = '홀짝홀짝홀짝'\n",
        "print(string[0::2])"
      ],
      "metadata": {
        "colab": {
          "base_uri": "https://localhost:8080/"
        },
        "id": "8qf6J4EMEzjO",
        "outputId": "fa406448-8c77-4df2-b889-ab5980f244e2"
      },
      "execution_count": null,
      "outputs": [
        {
          "output_type": "stream",
          "name": "stdout",
          "text": [
            "홀홀홀\n"
          ]
        }
      ]
    },
    {
      "cell_type": "code",
      "source": [
        "# 024 문자열 슬라이싱\n",
        "string = \"PYTHON\"\n",
        "print(string[::-1])"
      ],
      "metadata": {
        "colab": {
          "base_uri": "https://localhost:8080/"
        },
        "id": "n5v5H-GrFKyr",
        "outputId": "2b98e803-8ce8-462b-87b0-6de9d9d95d63"
      },
      "execution_count": null,
      "outputs": [
        {
          "output_type": "stream",
          "name": "stdout",
          "text": [
            "NOHTYP\n"
          ]
        }
      ]
    },
    {
      "cell_type": "code",
      "source": [
        "# 025 문자열 치환\n",
        "phone_number = '010-1111-2222'\n",
        "phone_number.replace('-',' ')"
      ],
      "metadata": {
        "colab": {
          "base_uri": "https://localhost:8080/",
          "height": 36
        },
        "id": "SRZk6vx-FVgo",
        "outputId": "a788802d-3e4c-4697-ce14-0e0b484e73ed"
      },
      "execution_count": null,
      "outputs": [
        {
          "output_type": "execute_result",
          "data": {
            "text/plain": [
              "'010 1111 2222'"
            ],
            "application/vnd.google.colaboratory.intrinsic+json": {
              "type": "string"
            }
          },
          "metadata": {},
          "execution_count": 37
        }
      ]
    },
    {
      "cell_type": "code",
      "source": [
        "# 026 문자열 다루기\n",
        "phone_number = '010-1111-2222'\n",
        "phone_number.replace('-','')"
      ],
      "metadata": {
        "colab": {
          "base_uri": "https://localhost:8080/",
          "height": 36
        },
        "id": "YoOIjVcUFv5N",
        "outputId": "ba623447-c2e7-431f-c6b3-ab32b1ce3ff6"
      },
      "execution_count": null,
      "outputs": [
        {
          "output_type": "execute_result",
          "data": {
            "text/plain": [
              "'01011112222'"
            ],
            "application/vnd.google.colaboratory.intrinsic+json": {
              "type": "string"
            }
          },
          "metadata": {},
          "execution_count": 38
        }
      ]
    },
    {
      "cell_type": "code",
      "source": [
        "# 027 문자열 다루기\n",
        "url = \"http://sharebook.kr\"\n",
        "a = url.split('.')\n",
        "a[1]"
      ],
      "metadata": {
        "colab": {
          "base_uri": "https://localhost:8080/",
          "height": 36
        },
        "id": "Efv13AL4F6bc",
        "outputId": "e2a40280-714b-41ab-982e-c57b1c28d2f0"
      },
      "execution_count": null,
      "outputs": [
        {
          "output_type": "execute_result",
          "data": {
            "text/plain": [
              "'kr'"
            ],
            "application/vnd.google.colaboratory.intrinsic+json": {
              "type": "string"
            }
          },
          "metadata": {},
          "execution_count": 51
        }
      ]
    },
    {
      "cell_type": "code",
      "source": [
        "# 028 문자열은 immnutable\n",
        "lang = 'python'\n",
        "lang[0] = 'P'\n",
        "print(lang)\n",
        "# 문자열은 수정할 수 없다.\n",
        "# 여기서 복습 !!\n",
        "# immutable은 str(문자열), tuple(튜플), dict key만(딕셔너리), boolean, 숫자형\n",
        "# 결론적으로는 숫자형, 문자열, 튜플, boolean들은 전부 변경할 수 없는 타입들이며\n",
        "# 얘네들을 변경하고 싶으면 새로운 주소값을 받아다가 다시 할당해야 합니다!\n",
        "# string= string.replace('a','A')은 string이라는 변수를 새로 정의해주었기 때문에 값이 변한 것 입니다 🙂\n"
      ],
      "metadata": {
        "colab": {
          "base_uri": "https://localhost:8080/",
          "height": 222
        },
        "id": "Ze1PZu7hGoCm",
        "outputId": "56b1ed52-3712-47a3-a807-b0c97dea413e"
      },
      "execution_count": null,
      "outputs": [
        {
          "output_type": "error",
          "ename": "TypeError",
          "evalue": "ignored",
          "traceback": [
            "\u001b[0;31m---------------------------------------------------------------------------\u001b[0m",
            "\u001b[0;31mTypeError\u001b[0m                                 Traceback (most recent call last)",
            "\u001b[0;32m<ipython-input-52-3ccfb909bec1>\u001b[0m in \u001b[0;36m<cell line: 3>\u001b[0;34m()\u001b[0m\n\u001b[1;32m      1\u001b[0m \u001b[0;31m# 028 문자열은 immnutable\u001b[0m\u001b[0;34m\u001b[0m\u001b[0;34m\u001b[0m\u001b[0m\n\u001b[1;32m      2\u001b[0m \u001b[0mlang\u001b[0m \u001b[0;34m=\u001b[0m \u001b[0;34m'python'\u001b[0m\u001b[0;34m\u001b[0m\u001b[0;34m\u001b[0m\u001b[0m\n\u001b[0;32m----> 3\u001b[0;31m \u001b[0mlang\u001b[0m\u001b[0;34m[\u001b[0m\u001b[0;36m0\u001b[0m\u001b[0;34m]\u001b[0m \u001b[0;34m=\u001b[0m \u001b[0;34m'P'\u001b[0m\u001b[0;34m\u001b[0m\u001b[0;34m\u001b[0m\u001b[0m\n\u001b[0m\u001b[1;32m      4\u001b[0m \u001b[0mprint\u001b[0m\u001b[0;34m(\u001b[0m\u001b[0mlang\u001b[0m\u001b[0;34m)\u001b[0m\u001b[0;34m\u001b[0m\u001b[0;34m\u001b[0m\u001b[0m\n",
            "\u001b[0;31mTypeError\u001b[0m: 'str' object does not support item assignment"
          ]
        }
      ]
    },
    {
      "cell_type": "code",
      "source": [
        "# 029 replace 메서드\n",
        "string = 'abcdfe2a354a32a'\n",
        "String = string.replace('a','A')\n",
        "print(String)\n",
        "# immutable을 변경하고 싶을 땐 새로운 주소값을 받아다가 다시 할당해야 한다.\n",
        "# 고로 String이라는 새로운 변수를 만들어주어서 replace 메서드를 이용함"
      ],
      "metadata": {
        "colab": {
          "base_uri": "https://localhost:8080/"
        },
        "id": "a7l_QY2PHxZ2",
        "outputId": "3a51804c-3fda-4f98-cc99-46d39c2ec362"
      },
      "execution_count": null,
      "outputs": [
        {
          "output_type": "stream",
          "name": "stdout",
          "text": [
            "Abcdfe2A354A32A\n"
          ]
        }
      ]
    },
    {
      "cell_type": "code",
      "source": [
        "# 030 replace 메서드\n",
        "string = 'abcd'\n",
        "string.replace('b','B')\n",
        "print(string) # --> 결과는 abcd\n",
        "\n",
        "string = 'abcd'\n",
        "String = string.replace('b','B')\n",
        "print(String) # --> 새로운 변수로 할당해주니 제대로 출력이 된다."
      ],
      "metadata": {
        "colab": {
          "base_uri": "https://localhost:8080/"
        },
        "id": "dIsriKDvH9-t",
        "outputId": "c72a3e98-7cd1-47b9-df6c-138927a06aa1"
      },
      "execution_count": null,
      "outputs": [
        {
          "output_type": "stream",
          "name": "stdout",
          "text": [
            "abcd\n",
            "aBcd\n"
          ]
        }
      ]
    },
    {
      "cell_type": "code",
      "source": [
        "# 031 문자열 합치기\n",
        "a = '3'\n",
        "b = '4'\n",
        "print(a+b)"
      ],
      "metadata": {
        "id": "C2vezvl8emEx",
        "colab": {
          "base_uri": "https://localhost:8080/"
        },
        "outputId": "e1b4b093-327e-4653-b795-1739dc12f86c"
      },
      "execution_count": null,
      "outputs": [
        {
          "output_type": "stream",
          "name": "stdout",
          "text": [
            "34\n"
          ]
        }
      ]
    },
    {
      "cell_type": "code",
      "source": [
        "# 032 문자열 곱하기\n",
        "print('Hi'*3)"
      ],
      "metadata": {
        "colab": {
          "base_uri": "https://localhost:8080/"
        },
        "id": "M5tzpJz_huCd",
        "outputId": "03c62343-1191-40df-aaf9-ac45ab85c17f"
      },
      "execution_count": null,
      "outputs": [
        {
          "output_type": "stream",
          "name": "stdout",
          "text": [
            "HiHiHi\n"
          ]
        }
      ]
    },
    {
      "cell_type": "code",
      "source": [
        "# 033 문자열 곱하기\n",
        "print('-'*80)"
      ],
      "metadata": {
        "colab": {
          "base_uri": "https://localhost:8080/"
        },
        "id": "QdoIYp6ZhyCs",
        "outputId": "941977a6-aaee-44b5-fb8f-05cc41f25221"
      },
      "execution_count": null,
      "outputs": [
        {
          "output_type": "stream",
          "name": "stdout",
          "text": [
            "--------------------------------------------------------------------------------\n"
          ]
        }
      ]
    },
    {
      "cell_type": "code",
      "source": [
        "# 034 문자열 곱하기\n",
        "t1 = 'python'\n",
        "t2 = 'java'\n",
        "print((t1 +' '+ t2 +' ')*3)"
      ],
      "metadata": {
        "colab": {
          "base_uri": "https://localhost:8080/"
        },
        "id": "yi_2byqDh5gj",
        "outputId": "50c2251c-514d-4f50-ccb1-3e9bcdcfccd0"
      },
      "execution_count": null,
      "outputs": [
        {
          "output_type": "stream",
          "name": "stdout",
          "text": [
            "python java python java python java \n"
          ]
        }
      ]
    },
    {
      "cell_type": "code",
      "source": [
        "# 035 문자열 출력\n",
        "# f string\n",
        "name1 = '김민수'\n",
        "age1 = 10\n",
        "name2 = '이철희'\n",
        "age2 = 13\n",
        "print(f'이름: {name1} 나이: {age1}')\n",
        "print(f'이름: {name2} 나이: {age2}')"
      ],
      "metadata": {
        "colab": {
          "base_uri": "https://localhost:8080/"
        },
        "id": "9gJe4WBEiX8a",
        "outputId": "c1930cc7-6c2d-44dc-ac91-0df2ea79e0e3"
      },
      "execution_count": null,
      "outputs": [
        {
          "output_type": "stream",
          "name": "stdout",
          "text": [
            "이름: 김민수 나이: 10\n",
            "이름: 이철희 나이: 13\n"
          ]
        }
      ]
    },
    {
      "cell_type": "code",
      "source": [
        "# 036 문자열 출력\n",
        "# format\n",
        "name1 = '김민수'\n",
        "age1 = 10\n",
        "name2 = '이철희'\n",
        "age2 = 13\n",
        "print('이름: {} 나이: {}'.format(name1,age1))\n",
        "print('이름: {} 나이: {}'.format(name2,age2))"
      ],
      "metadata": {
        "colab": {
          "base_uri": "https://localhost:8080/"
        },
        "id": "x4J2FeT0i9of",
        "outputId": "46d65642-295d-4318-824d-11dfe026f4d2"
      },
      "execution_count": null,
      "outputs": [
        {
          "output_type": "stream",
          "name": "stdout",
          "text": [
            "이름: 김민수 나이: 10\n",
            "이름: 이철희 나이: 13\n"
          ]
        }
      ]
    },
    {
      "cell_type": "code",
      "source": [
        "# 037 문자열 출력\n",
        "# formatting\n",
        "# %s는 str %d는 정수\n",
        "name1 = '김민수'\n",
        "age1 = 10\n",
        "name2 = '이철희'\n",
        "age2 = 13\n",
        "print('이름: %s 나이: %d'%(name1,age1))\n",
        "print('이름: %s 나이: %d'%(name2,age2))"
      ],
      "metadata": {
        "colab": {
          "base_uri": "https://localhost:8080/"
        },
        "id": "8opWDKczjUGP",
        "outputId": "e4f6bb68-2060-4d64-a16d-bd303416fca7"
      },
      "execution_count": null,
      "outputs": [
        {
          "output_type": "stream",
          "name": "stdout",
          "text": [
            "이름: 김민수 나이: 10\n",
            "이름: 이철희 나이: 13\n"
          ]
        }
      ]
    },
    {
      "cell_type": "code",
      "source": [
        "# 038 컴마 제거하기\n",
        "상장주식수 = \"5,969,782,550\"\n",
        "컴마제거 = 상장주식수.replace(',','')\n",
        "타입변환 = int(컴마제거)\n",
        "print(타입변환, type(타입변환))"
      ],
      "metadata": {
        "colab": {
          "base_uri": "https://localhost:8080/"
        },
        "id": "8AMODo9ekEiw",
        "outputId": "57b75041-e926-4d35-91cf-d4fbb0df5097"
      },
      "execution_count": null,
      "outputs": [
        {
          "output_type": "stream",
          "name": "stdout",
          "text": [
            "5969782550 <class 'int'>\n"
          ]
        }
      ]
    },
    {
      "cell_type": "code",
      "source": [
        "# 039 문자열 슬라이싱\n",
        "분기 = \"2020/03(E) (IFRS연결)\"\n",
        "print(분기[0:7])"
      ],
      "metadata": {
        "colab": {
          "base_uri": "https://localhost:8080/"
        },
        "id": "ETz1ut2Dkp1f",
        "outputId": "b48f9573-94c3-46ed-f907-1f68b13cba1c"
      },
      "execution_count": null,
      "outputs": [
        {
          "output_type": "stream",
          "name": "stdout",
          "text": [
            "2020/03\n"
          ]
        }
      ]
    },
    {
      "cell_type": "code",
      "source": [
        "# 040 strip 메서드\n",
        "data = '        삼성전자        '\n",
        "data1 = data.strip()\n",
        "data1\n",
        "\n",
        "#  원본 문자열은 그대로 유지 공백이 제거된 새로운 문자열 반환"
      ],
      "metadata": {
        "colab": {
          "base_uri": "https://localhost:8080/",
          "height": 36
        },
        "id": "AsiTaUk0k_iB",
        "outputId": "2fd6cec5-ecff-4277-d395-1d8c33a3d1d6"
      },
      "execution_count": null,
      "outputs": [
        {
          "output_type": "execute_result",
          "data": {
            "text/plain": [
              "'삼성전자'"
            ],
            "application/vnd.google.colaboratory.intrinsic+json": {
              "type": "string"
            }
          },
          "metadata": {},
          "execution_count": 26
        }
      ]
    },
    {
      "cell_type": "code",
      "source": [
        "# 041 upper 메서드\n",
        "ticker = 'btc_krw'\n",
        "ticker2 = ticker.upper()\n",
        "print(ticker2)\n",
        "# 원본 문자열은 유지되고 대문자로 변경된 새로운 문자열 객체가 반환"
      ],
      "metadata": {
        "colab": {
          "base_uri": "https://localhost:8080/",
          "height": 36
        },
        "id": "a_GJmkfplWHc",
        "outputId": "6db7dba3-5f47-465a-cee3-fe54f037f4ca"
      },
      "execution_count": null,
      "outputs": [
        {
          "output_type": "execute_result",
          "data": {
            "text/plain": [
              "'BTC_KRW'"
            ],
            "application/vnd.google.colaboratory.intrinsic+json": {
              "type": "string"
            }
          },
          "metadata": {},
          "execution_count": 27
        }
      ]
    },
    {
      "cell_type": "code",
      "source": [
        "# 042 lower 메서드\n",
        "ticker = \"BTC_KRW\"\n",
        "ticker2 = ticker.lower()\n",
        "print(ticker2)"
      ],
      "metadata": {
        "colab": {
          "base_uri": "https://localhost:8080/"
        },
        "id": "2I8SvJi8ltyt",
        "outputId": "43683595-f927-4e2d-d2b0-13c785f07396"
      },
      "execution_count": null,
      "outputs": [
        {
          "output_type": "stream",
          "name": "stdout",
          "text": [
            "btc_krw\n"
          ]
        }
      ]
    },
    {
      "cell_type": "code",
      "source": [
        "# 043 capitalize 메서드\n",
        "a = 'hello'\n",
        "a = a.capitalize()\n",
        "a"
      ],
      "metadata": {
        "colab": {
          "base_uri": "https://localhost:8080/",
          "height": 36
        },
        "id": "qNxkL3X8l4Jt",
        "outputId": "574ba7d0-1198-4264-9852-d7f061cc7304"
      },
      "execution_count": null,
      "outputs": [
        {
          "output_type": "execute_result",
          "data": {
            "text/plain": [
              "'Hello'"
            ],
            "application/vnd.google.colaboratory.intrinsic+json": {
              "type": "string"
            }
          },
          "metadata": {},
          "execution_count": 31
        }
      ]
    },
    {
      "cell_type": "code",
      "source": [
        "# 044 endswith 메서드\n",
        "# endswith - 문자열이 지정 문자열로 끝나는지 확인\n",
        "file_name = \"보고서.xlsx\"\n",
        "file_name = file_name.endswith('xlsx')\n",
        "file_name"
      ],
      "metadata": {
        "colab": {
          "base_uri": "https://localhost:8080/"
        },
        "id": "5y0Trt7WmHkt",
        "outputId": "567502dd-641a-43bf-daf1-cb5d86fe0dff"
      },
      "execution_count": null,
      "outputs": [
        {
          "output_type": "execute_result",
          "data": {
            "text/plain": [
              "True"
            ]
          },
          "metadata": {},
          "execution_count": 33
        }
      ]
    },
    {
      "cell_type": "code",
      "source": [
        "# 045 endswith 메서드\n",
        "file_name = \"보고서.xlsx\"\n",
        "file_name = file_name.endswith(('xlsx','xls'))\n",
        "file_name"
      ],
      "metadata": {
        "colab": {
          "base_uri": "https://localhost:8080/"
        },
        "id": "w6OeqPV-mf9H",
        "outputId": "9ed1c404-85a9-41ad-fc7a-62434a4b4355"
      },
      "execution_count": null,
      "outputs": [
        {
          "output_type": "execute_result",
          "data": {
            "text/plain": [
              "True"
            ]
          },
          "metadata": {},
          "execution_count": 35
        }
      ]
    },
    {
      "cell_type": "code",
      "source": [
        "# 046 startswith 메서드\n",
        "# startswith - 문자열이 지정 문자열로 시작하는지 확인\n",
        "file_name = '2020_보고서.xlsx'\n",
        "file_name.startswith('2020')"
      ],
      "metadata": {
        "colab": {
          "base_uri": "https://localhost:8080/"
        },
        "id": "nRFrcsaIm3SF",
        "outputId": "b99f5184-7582-47f9-ef46-aa2068ca6577"
      },
      "execution_count": null,
      "outputs": [
        {
          "output_type": "execute_result",
          "data": {
            "text/plain": [
              "True"
            ]
          },
          "metadata": {},
          "execution_count": 36
        }
      ]
    },
    {
      "cell_type": "code",
      "source": [
        "# 047 split 메서드\n",
        "a = 'hello world'\n",
        "a.split(' ')"
      ],
      "metadata": {
        "colab": {
          "base_uri": "https://localhost:8080/"
        },
        "id": "MLWwvikQnO2d",
        "outputId": "e361f861-9c6b-4745-8b5d-18f96955ff24"
      },
      "execution_count": null,
      "outputs": [
        {
          "output_type": "execute_result",
          "data": {
            "text/plain": [
              "['hello', 'world']"
            ]
          },
          "metadata": {},
          "execution_count": 39
        }
      ]
    },
    {
      "cell_type": "code",
      "source": [
        "# 048 split 메서드\n",
        "ticker = \"btc_krw\"\n",
        "ticker.split('_')"
      ],
      "metadata": {
        "colab": {
          "base_uri": "https://localhost:8080/"
        },
        "id": "5ZZ424fqoivD",
        "outputId": "0691b45b-62cc-4a6e-be56-f17b3bccbefe"
      },
      "execution_count": null,
      "outputs": [
        {
          "output_type": "execute_result",
          "data": {
            "text/plain": [
              "['btc', 'krw']"
            ]
          },
          "metadata": {},
          "execution_count": 40
        }
      ]
    },
    {
      "cell_type": "code",
      "source": [
        "# 049 split 메서드\n",
        "date = \"2020-05-01\"\n",
        "date.split('-')"
      ],
      "metadata": {
        "colab": {
          "base_uri": "https://localhost:8080/"
        },
        "id": "aYy58kKuovsX",
        "outputId": "72d88e06-0106-4253-bb9f-c4955cba1217"
      },
      "execution_count": null,
      "outputs": [
        {
          "output_type": "execute_result",
          "data": {
            "text/plain": [
              "['2020', '05', '01']"
            ]
          },
          "metadata": {},
          "execution_count": 42
        }
      ]
    },
    {
      "cell_type": "code",
      "source": [
        "# 050 rstrip 메서드\n",
        "data = \"039490     \"\n",
        "data.rstrip()\n",
        "\n",
        "# rstript() 오른쪽공백\n",
        "# lstript() 왼쪽공백\n",
        "# strip() 양쪽공백"
      ],
      "metadata": {
        "colab": {
          "base_uri": "https://localhost:8080/",
          "height": 36
        },
        "id": "QTIUKOE8pDaF",
        "outputId": "10474f95-643f-4767-af0a-5b8bdef6deef"
      },
      "execution_count": null,
      "outputs": [
        {
          "output_type": "execute_result",
          "data": {
            "text/plain": [
              "'039490'"
            ],
            "application/vnd.google.colaboratory.intrinsic+json": {
              "type": "string"
            }
          },
          "metadata": {},
          "execution_count": 43
        }
      ]
    },
    {
      "cell_type": "markdown",
      "source": [
        "# 04. 파이썬 리스트"
      ],
      "metadata": {
        "id": "c9rtFGZrtilh"
      }
    },
    {
      "cell_type": "markdown",
      "source": [
        "## List(리스트) // mutable\n",
        "- 순서를 가진 데이터들의 집합(시퀀스)\n",
        "- 값 변경 가능\n",
        "- 리스트 안에 리스트로 다차원의 리스트 가능\n",
        "- 리스트 안에 다른 object(딕셔너리,셋,튜플) 넣는 것 가능\n",
        "- 중복 허락(set 자료형은 불가능)\n",
        "- 인덱스를 사용하여 인덱싱과 슬라이싱을 사용\n",
        "- 컨벤션 자료형(딕셔너리, 튜플, 셋, 리스트)에서는 메모리 효율을 위해 같은 값이 있을 경우 같은 곳을 가리키게 설계\n",
        "\n",
        "- index() -> 인덱스\n",
        "- indexing[0] -> 인덱싱으로 값을 찾아올 수 있음\n",
        "- index[0]=1000 -> 인덱스로 접근하여 값 변경\n",
        "- slicing[1:]\n",
        "\n",
        "## 자주 쓰이는 method\n",
        "!! 헷갈리는 것 ('요소'들이 들어감)\n",
        "!! 만약 '글자'면 remove('글자')\n",
        "!! 만약 숫자면 remove(1)\n",
        "- append() 1 개 추가\n",
        "- extend() 여러 개 추가\n",
        "- copy()\n",
        "- count()\n",
        "- clear()\n",
        "- index()\n",
        "- insert()\n",
        "- pop()\n",
        "- remove()\n",
        "- reverse()\n",
        "원본을 만짐, return none\n",
        "- reversed() built in function\n",
        "원본을 만지지 않음, return 역순\n",
        "- sort()\n",
        "원본을 만짐, return none\n",
        "- sorted() built in function\n",
        "원본을 만지지 않음, return 정렬\n",
        "\n",
        "## 내장함수 list, tuple, 문자열(iterable 반복가능한객체)\n",
        "- min(), max(), sum()\n"
      ],
      "metadata": {
        "id": "77MEFSOftr8X"
      }
    },
    {
      "cell_type": "markdown",
      "source": [
        "### lambda 사용법 주의!\n",
        "\n",
        "- '20' 중복을 없애라 [10,20,30,40,50,20,20,20]\n",
        "list(filter(lambda x:x!=20,[10,20,30,40,50,20,20,20]))\n",
        " - filter(lambda x:x)\n",
        "\n",
        "- a = [[1,2,3],[11,22,23],[10,2000,30]]\n",
        "print(max(a, key=lambda x:x[1]))\n",
        " - max(a, key=lambda x:x)"
      ],
      "metadata": {
        "id": "isbWN10xzSVZ"
      }
    },
    {
      "cell_type": "code",
      "source": [
        "# sort() vs sorted()\n",
        "l = [1,5,4,2,8,5,10,9,2,3]\n",
        "l.sort(reverse=True) # 내림차순\n",
        "l"
      ],
      "metadata": {
        "colab": {
          "base_uri": "https://localhost:8080/"
        },
        "id": "N6U3ab4dzI-V",
        "outputId": "76f465f8-6404-4bb0-8618-f5325552c2d6"
      },
      "execution_count": null,
      "outputs": [
        {
          "output_type": "execute_result",
          "data": {
            "text/plain": [
              "[10, 9, 8, 5, 5, 4, 3, 2, 2, 1]"
            ]
          },
          "metadata": {},
          "execution_count": 8
        }
      ]
    },
    {
      "cell_type": "code",
      "source": [
        "# sort() vs sorted()\n",
        "l = [1,5,4,2,8,5,10,9,2,3]\n",
        "l.sort(reverse=False) # 오름차순\n",
        "l"
      ],
      "metadata": {
        "colab": {
          "base_uri": "https://localhost:8080/"
        },
        "id": "oHQ78lpvzgqw",
        "outputId": "0744d03c-e980-42fe-b8f3-f52cfc0b0eec"
      },
      "execution_count": null,
      "outputs": [
        {
          "output_type": "execute_result",
          "data": {
            "text/plain": [
              "[1, 2, 2, 3, 4, 5, 5, 8, 9, 10]"
            ]
          },
          "metadata": {},
          "execution_count": 9
        }
      ]
    },
    {
      "cell_type": "code",
      "source": [
        "print(sorted([1,5,4,2,8,5,10,9,2,3]))"
      ],
      "metadata": {
        "colab": {
          "base_uri": "https://localhost:8080/"
        },
        "id": "niUkKcGWzqow",
        "outputId": "8c6ada93-8fe2-478c-e60b-961048675cf2"
      },
      "execution_count": null,
      "outputs": [
        {
          "output_type": "stream",
          "name": "stdout",
          "text": [
            "[1, 2, 2, 3, 4, 5, 5, 8, 9, 10]\n"
          ]
        }
      ]
    },
    {
      "cell_type": "code",
      "source": [
        "# index 메서드 예시\n",
        "a = [10, 1, 1, 11, 2, 2, 3, 12]\n",
        "a.index(11) # 3\n",
        "a[a.index(10)] # 10\n",
        "a[:a.index(2)] # [10,1,1,11]"
      ],
      "metadata": {
        "colab": {
          "base_uri": "https://localhost:8080/"
        },
        "id": "sFk9maWSdOWn",
        "outputId": "d3fce57d-d468-4124-e41a-ec18c84b2dfc"
      },
      "execution_count": null,
      "outputs": [
        {
          "output_type": "execute_result",
          "data": {
            "text/plain": [
              "[10, 1, 1, 11]"
            ]
          },
          "metadata": {},
          "execution_count": 37
        }
      ]
    },
    {
      "cell_type": "code",
      "source": [
        "# '20' 중복을 없애라 [10,20,30,40,50,20,20,20]\n",
        "list(filter(lambda x:x!=20,[10,20,30,40,50,20,20,20]))"
      ],
      "metadata": {
        "colab": {
          "base_uri": "https://localhost:8080/"
        },
        "id": "ScJ-YGx5d5AR",
        "outputId": "a2b5def8-e4de-4028-fce8-645866e29307"
      },
      "execution_count": null,
      "outputs": [
        {
          "output_type": "execute_result",
          "data": {
            "text/plain": [
              "[10, 30, 40, 50]"
            ]
          },
          "metadata": {},
          "execution_count": 38
        }
      ]
    },
    {
      "cell_type": "code",
      "source": [
        "a = [10,20,30,40,50,20,20,20]\n",
        "list(filter(lambda x: x!=20,a))"
      ],
      "metadata": {
        "colab": {
          "base_uri": "https://localhost:8080/"
        },
        "id": "aDuC641Ega4P",
        "outputId": "2013d784-4a13-4003-d452-27b298962ec8"
      },
      "execution_count": null,
      "outputs": [
        {
          "output_type": "execute_result",
          "data": {
            "text/plain": [
              "[10, 30, 40, 50]"
            ]
          },
          "metadata": {},
          "execution_count": 54
        }
      ]
    },
    {
      "cell_type": "code",
      "source": [
        "# 리스트 메서드 20 중복 없애는 것\n",
        "a = [10,20,30,40,50,20,20,20]\n",
        "b = []\n",
        "for i in a:\n",
        "    if i not in b:\n",
        "        b.append(i)\n",
        "print(b)"
      ],
      "metadata": {
        "colab": {
          "base_uri": "https://localhost:8080/"
        },
        "id": "V13g82HPgFTi",
        "outputId": "f6df9727-1ce0-4d16-bf5f-a0def9455752"
      },
      "execution_count": null,
      "outputs": [
        {
          "output_type": "stream",
          "name": "stdout",
          "text": [
            "[10, 20, 30, 40, 50]\n"
          ]
        }
      ]
    },
    {
      "cell_type": "code",
      "source": [
        "def f(x):\n",
        "    return x!=20\n",
        "list(filter(f,[10,20,30,40,50,20,20,20]))"
      ],
      "metadata": {
        "colab": {
          "base_uri": "https://localhost:8080/"
        },
        "id": "SC1tDENwgvFP",
        "outputId": "f6bd1368-9a11-4e9b-81e8-32c0b813eb8b"
      },
      "execution_count": null,
      "outputs": [
        {
          "output_type": "execute_result",
          "data": {
            "text/plain": [
              "[10, 30, 40, 50]"
            ]
          },
          "metadata": {},
          "execution_count": 55
        }
      ]
    },
    {
      "cell_type": "code",
      "source": [
        "# 다차원 리스트\n",
        "# [2] 1차원 리스트(vector)\n",
        "# [[2]] 2차원 리스트(Matrix)\n",
        "# [[[2]]] 3차원 리스트(Tensor)"
      ],
      "metadata": {
        "id": "9dB9grjE0KwN"
      },
      "execution_count": null,
      "outputs": []
    },
    {
      "cell_type": "code",
      "source": [
        "a = [[1,2,3],[11,22,23],[10,2000,30]]\n",
        "max(a)\n",
        "# 주의! 대괄호 안에 있는 첫번째 값을 기준으로 출력\n",
        "# 1, 11, 10 중에 제일 큰 것은 11이 들어있는 [11,22,23]"
      ],
      "metadata": {
        "colab": {
          "base_uri": "https://localhost:8080/"
        },
        "id": "mvMH8W_M1cUA",
        "outputId": "584e8a7f-b885-4888-ab7f-86e1fc32a7bd"
      },
      "execution_count": null,
      "outputs": [
        {
          "output_type": "execute_result",
          "data": {
            "text/plain": [
              "[11, 22, 23]"
            ]
          },
          "metadata": {},
          "execution_count": 12
        }
      ]
    },
    {
      "cell_type": "code",
      "source": [
        "a = [[1,2,3],[11,22,23],[10,2000,30]]\n",
        "min(a)\n",
        "# 주의! 대괄호 안에 있는 첫번째 값을 기준으로 출력\n",
        "# 1, 11, 10 중에 제일 작은 것은 1이 들어있는 [1,2,3]"
      ],
      "metadata": {
        "colab": {
          "base_uri": "https://localhost:8080/"
        },
        "id": "VR18Ayif1vDK",
        "outputId": "476a57d0-4dbe-4db5-d512-4f52126bbd21"
      },
      "execution_count": null,
      "outputs": [
        {
          "output_type": "execute_result",
          "data": {
            "text/plain": [
              "[1, 2, 3]"
            ]
          },
          "metadata": {},
          "execution_count": 13
        }
      ]
    },
    {
      "cell_type": "code",
      "source": [
        "a = [[1,2,3],[11,22,23],[10,2000,30]]\n",
        "print(max(a, key=lambda x:x[1]))\n",
        "# x[1] 첫번째 있는 값이 큰 값을 출력"
      ],
      "metadata": {
        "colab": {
          "base_uri": "https://localhost:8080/"
        },
        "id": "_a9wC-qX13xN",
        "outputId": "b3039a4d-18b1-454c-ceca-9a429ea760e7"
      },
      "execution_count": null,
      "outputs": [
        {
          "output_type": "stream",
          "name": "stdout",
          "text": [
            "[10, 2000, 30]\n"
          ]
        }
      ]
    },
    {
      "cell_type": "code",
      "source": [
        "a = [[1,2,3],[11,22,23],[10,2000,30]]\n",
        "print(min(a, key=lambda x:x[1]))\n",
        "# x[1] 첫번째 있는 값이 작은 값을 출력"
      ],
      "metadata": {
        "colab": {
          "base_uri": "https://localhost:8080/"
        },
        "id": "R1ONAoEt2PVV",
        "outputId": "23ed96f7-bad2-4a05-ec87-bbc4ee6a2e01"
      },
      "execution_count": null,
      "outputs": [
        {
          "output_type": "stream",
          "name": "stdout",
          "text": [
            "[1, 2, 3]\n"
          ]
        }
      ]
    },
    {
      "cell_type": "code",
      "source": [
        "a = [[1,2,3,'a'],[11,22,33,'aaa'],[10,2000,30,'aa']]\n",
        "print(max(a, key=lambda x:len(x[3])))"
      ],
      "metadata": {
        "colab": {
          "base_uri": "https://localhost:8080/"
        },
        "id": "95z2CMRg2egW",
        "outputId": "a82d5082-d989-4dd7-b364-c5da91b25cf1"
      },
      "execution_count": null,
      "outputs": [
        {
          "output_type": "stream",
          "name": "stdout",
          "text": [
            "[11, 22, 33, 'aaa']\n"
          ]
        }
      ]
    },
    {
      "cell_type": "code",
      "source": [
        "# built in function lambda\n",
        "a = [[1,2,3,'a'],[11,22,33,'aaa'],[10,2000,30,'aa']]\n",
        "min(a, key=lambda x:len(x[3]))\n",
        "\n",
        "# lambda 위의 lambda와 차이법 알아두기\n",
        "a = [10,20,30,40,50,20,20,20]\n",
        "list(filter(lambda x:x!=20,a))"
      ],
      "metadata": {
        "colab": {
          "base_uri": "https://localhost:8080/"
        },
        "id": "3x07pbA52_IX",
        "outputId": "5b76a9a4-d708-4456-b69a-b4ab38d2c266"
      },
      "execution_count": null,
      "outputs": [
        {
          "output_type": "execute_result",
          "data": {
            "text/plain": [
              "[1, 2, 3, 'a']"
            ]
          },
          "metadata": {},
          "execution_count": 21
        }
      ]
    },
    {
      "cell_type": "code",
      "source": [
        "# list 요소별로 순회하기\n",
        "a = [[1,2,3],[11,22,33],[13,20000,300000]]\n",
        "for i in a:\n",
        "    for j in i:\n",
        "        print(j)"
      ],
      "metadata": {
        "colab": {
          "base_uri": "https://localhost:8080/"
        },
        "id": "hLFZB2A63j7i",
        "outputId": "3b2eaf94-689f-48ee-c582-464708f8dc5a"
      },
      "execution_count": null,
      "outputs": [
        {
          "output_type": "stream",
          "name": "stdout",
          "text": [
            "1\n",
            "2\n",
            "3\n",
            "11\n",
            "22\n",
            "33\n",
            "13\n",
            "20000\n",
            "300000\n"
          ]
        }
      ]
    },
    {
      "cell_type": "code",
      "source": [
        "list(range(0,101,2)) #짝수\n",
        "list(range(1,101,2)) #홀수"
      ],
      "metadata": {
        "id": "reZH4_CD5NQo"
      },
      "execution_count": null,
      "outputs": []
    },
    {
      "cell_type": "code",
      "source": [
        "# list comprehenstion\n",
        "# append를 사용하지 않고 빠르게 리스트를 만드는 방법\n",
        "l = []\n",
        "for i in range(10):\n",
        "    l.append(i)\n",
        "print(l)"
      ],
      "metadata": {
        "colab": {
          "base_uri": "https://localhost:8080/"
        },
        "id": "2hvEQPh869Gf",
        "outputId": "ae6b3ee1-5f0d-40a7-e33d-f900e43f5d29"
      },
      "execution_count": null,
      "outputs": [
        {
          "output_type": "stream",
          "name": "stdout",
          "text": [
            "[0, 1, 2, 3, 4, 5, 6, 7, 8, 9]\n"
          ]
        }
      ]
    },
    {
      "cell_type": "code",
      "source": [
        "l = [i for i in range(10)]"
      ],
      "metadata": {
        "colab": {
          "base_uri": "https://localhost:8080/"
        },
        "id": "Xun0CTd28WRn",
        "outputId": "15c38520-00d7-41d5-8bf5-9067ead16c92"
      },
      "execution_count": null,
      "outputs": [
        {
          "output_type": "execute_result",
          "data": {
            "text/plain": [
              "[0, 1, 2, 3, 4, 5, 6, 7, 8, 9]"
            ]
          },
          "metadata": {},
          "execution_count": 26
        }
      ]
    },
    {
      "cell_type": "code",
      "source": [
        "# for문\n",
        "l = []\n",
        "for i in range(1,101):\n",
        "    if i % 3 ==0 or i % 5 ==0:\n",
        "        l.append(i)\n",
        "print(l)\n",
        "\n",
        "# list comprehension\n",
        "[i for i in range(1,101) if i%3 ==0 or i%5==0]"
      ],
      "metadata": {
        "colab": {
          "base_uri": "https://localhost:8080/"
        },
        "id": "fpJ7p23187L0",
        "outputId": "f7ca1e01-c004-47de-a63a-3575d3c07513"
      },
      "execution_count": null,
      "outputs": [
        {
          "output_type": "stream",
          "name": "stdout",
          "text": [
            "[3, 5, 6, 9, 10, 12, 15, 18, 20, 21, 24, 25, 27, 30, 33, 35, 36, 39, 40, 42, 45, 48, 50, 51, 54, 55, 57, 60, 63, 65, 66, 69, 70, 72, 75, 78, 80, 81, 84, 85, 87, 90, 93, 95, 96, 99, 100]\n"
          ]
        }
      ]
    },
    {
      "cell_type": "code",
      "source": [
        "# 구구단 for문\n",
        "l = []\n",
        "for i in range(2,10):\n",
        "    for j in range(1,10):\n",
        "        l.append(f'{i}x{j}={i*j}')\n",
        "l\n",
        "\n",
        "# list comprehension\n",
        "[f'{i}x{j}={i*j}' for i in range(2,10) for j in range(1,10)]"
      ],
      "metadata": {
        "id": "YFx-1Dj99UvC"
      },
      "execution_count": null,
      "outputs": []
    },
    {
      "cell_type": "code",
      "source": [
        "# 51 리스트 생성\n",
        "movie_rank = ['닥터 스트레인지','스플릿','럭키']"
      ],
      "metadata": {
        "id": "vFPqPIzsk4D4"
      },
      "execution_count": null,
      "outputs": []
    },
    {
      "cell_type": "code",
      "source": [
        "# 052 리스트에 원소 추가\n",
        "movie_rank.append('베트맨')\n",
        "movie_rank"
      ],
      "metadata": {
        "colab": {
          "base_uri": "https://localhost:8080/"
        },
        "id": "sf6wyOiWlpX2",
        "outputId": "36239f4d-49ae-4bf8-9400-beda1a5269e8"
      },
      "execution_count": null,
      "outputs": [
        {
          "output_type": "execute_result",
          "data": {
            "text/plain": [
              "['닥터 스트레인지', '스플릿', '럭키', '베트맨']"
            ]
          },
          "metadata": {},
          "execution_count": 7
        }
      ]
    },
    {
      "cell_type": "code",
      "source": [
        "# 053\n",
        "movie_rank.insert(1,'슈퍼맨')\n",
        "movie_rank"
      ],
      "metadata": {
        "colab": {
          "base_uri": "https://localhost:8080/"
        },
        "id": "ZnNRfEYylx2l",
        "outputId": "55f5cc48-e84b-4a09-b06f-afd914b295fd"
      },
      "execution_count": null,
      "outputs": [
        {
          "output_type": "execute_result",
          "data": {
            "text/plain": [
              "['닥터 스트레인지', '슈퍼맨', '스플릿', '럭키', '베트맨']"
            ]
          },
          "metadata": {},
          "execution_count": 8
        }
      ]
    },
    {
      "cell_type": "code",
      "source": [
        "# 054\n",
        "# 1)\n",
        "# movie_rank.remove('럭키')\n",
        "# movie_rank\n",
        "\n",
        "# 2)\n",
        "del movie_rank[3]\n",
        "movie_rank"
      ],
      "metadata": {
        "colab": {
          "base_uri": "https://localhost:8080/"
        },
        "id": "sW654sRol-RV",
        "outputId": "8a11ed92-9b34-492a-b0de-2585902bf630"
      },
      "execution_count": null,
      "outputs": [
        {
          "output_type": "execute_result",
          "data": {
            "text/plain": [
              "['닥터 스트레인지', '슈퍼맨', '스플릿']"
            ]
          },
          "metadata": {},
          "execution_count": 10
        }
      ]
    },
    {
      "cell_type": "code",
      "source": [
        "# 055 '스플릿'과 '베트맨'을 삭제하라\n",
        "movie_rank = ['닥터 스트레인지', '슈퍼맨', '스플릿', '배트맨']\n",
        "del movie_rank[2:]\n",
        "movie_rank"
      ],
      "metadata": {
        "colab": {
          "base_uri": "https://localhost:8080/"
        },
        "id": "OI57qMR_mSg-",
        "outputId": "d21ee9ec-881e-460d-fa77-f364a1367363"
      },
      "execution_count": null,
      "outputs": [
        {
          "output_type": "execute_result",
          "data": {
            "text/plain": [
              "['닥터 스트레인지', '슈퍼맨']"
            ]
          },
          "metadata": {},
          "execution_count": 11
        }
      ]
    },
    {
      "cell_type": "code",
      "source": [
        "# 056\n",
        "lang1 = [\"C\", \"C++\", \"JAVA\"]\n",
        "lang2 = [\"Python\", \"Go\", \"C#\"]\n",
        "langs = lang1 + lang2\n",
        "langs"
      ],
      "metadata": {
        "colab": {
          "base_uri": "https://localhost:8080/"
        },
        "id": "mS-yE5urmt6Q",
        "outputId": "c9424ac3-3b63-4ae4-b152-0078e76282d7"
      },
      "execution_count": null,
      "outputs": [
        {
          "output_type": "execute_result",
          "data": {
            "text/plain": [
              "['C', 'C++', 'JAVA', 'Python', 'Go', 'C#']"
            ]
          },
          "metadata": {},
          "execution_count": 12
        }
      ]
    },
    {
      "cell_type": "code",
      "source": [
        "# 057\n",
        "nums = [1, 2, 3, 4, 5, 6, 7]\n",
        "print(f'max :', max(nums))\n",
        "print(f'min :', min(nums))"
      ],
      "metadata": {
        "colab": {
          "base_uri": "https://localhost:8080/"
        },
        "id": "oC5mk2_jnCFo",
        "outputId": "8ca2a8a0-edc2-4e45-e555-09a2688b28f6"
      },
      "execution_count": null,
      "outputs": [
        {
          "output_type": "stream",
          "name": "stdout",
          "text": [
            "max : 7\n",
            "min : 1\n"
          ]
        }
      ]
    },
    {
      "cell_type": "code",
      "source": [
        "# 058\n",
        "nums = [1, 2, 3, 4, 5]\n",
        "sum(nums)"
      ],
      "metadata": {
        "colab": {
          "base_uri": "https://localhost:8080/"
        },
        "id": "qoO_14YrnaV-",
        "outputId": "65ba229c-e9f5-471d-a1a2-0c04e34bc774"
      },
      "execution_count": null,
      "outputs": [
        {
          "output_type": "execute_result",
          "data": {
            "text/plain": [
              "15"
            ]
          },
          "metadata": {},
          "execution_count": 18
        }
      ]
    },
    {
      "cell_type": "code",
      "source": [
        "# 059\n",
        "cook = [\"피자\", \"김밥\", \"만두\", \"양념치킨\", \"족발\", \"피자\", \"김치만두\", \"쫄면\", \"소시지\", \"라면\", \"팥빙수\", \"김치전\"]\n",
        "\n",
        "len(cook)"
      ],
      "metadata": {
        "colab": {
          "base_uri": "https://localhost:8080/"
        },
        "id": "bT_4_JtYnfUN",
        "outputId": "2c318a3f-aad0-4d86-deee-35933e9bc8cf"
      },
      "execution_count": null,
      "outputs": [
        {
          "output_type": "execute_result",
          "data": {
            "text/plain": [
              "12"
            ]
          },
          "metadata": {},
          "execution_count": 19
        }
      ]
    },
    {
      "cell_type": "code",
      "source": [
        "# 060\n",
        "# 평균을 구할 땐 sum 함수와 len(리스트)를 해주면 평균이 구해진다.\n",
        "nums = [1, 2, 3, 4, 5]\n",
        "\n",
        "print(sum(nums)/len(nums))"
      ],
      "metadata": {
        "colab": {
          "base_uri": "https://localhost:8080/"
        },
        "id": "d6ldlRvbnr_Y",
        "outputId": "ec2e0a68-0b62-41e1-d8af-99a9bb511d0d"
      },
      "execution_count": null,
      "outputs": [
        {
          "output_type": "stream",
          "name": "stdout",
          "text": [
            "3.0\n"
          ]
        }
      ]
    },
    {
      "cell_type": "code",
      "source": [
        "# 061\n",
        "price = ['20180728', 100, 130, 140, 150, 160, 170]\n",
        "price[1:]"
      ],
      "metadata": {
        "colab": {
          "base_uri": "https://localhost:8080/"
        },
        "id": "0Z-Wd_WYof__",
        "outputId": "021d8e4b-ee7a-419b-c1b2-c334dc5d210b"
      },
      "execution_count": null,
      "outputs": [
        {
          "output_type": "execute_result",
          "data": {
            "text/plain": [
              "[100, 130, 140, 150, 160, 170]"
            ]
          },
          "metadata": {},
          "execution_count": 21
        }
      ]
    },
    {
      "cell_type": "code",
      "source": [
        "# 062 홀수만 출력\n",
        "nums = [1, 2, 3, 4, 5, 6, 7, 8, 9, 10]\n",
        "nums[0::2]"
      ],
      "metadata": {
        "colab": {
          "base_uri": "https://localhost:8080/"
        },
        "id": "txrR_zihovDh",
        "outputId": "f2061edd-5a27-43f9-f373-1ca4e2b85293"
      },
      "execution_count": null,
      "outputs": [
        {
          "output_type": "execute_result",
          "data": {
            "text/plain": [
              "[1, 3, 5, 7, 9]"
            ]
          },
          "metadata": {},
          "execution_count": 22
        }
      ]
    },
    {
      "cell_type": "code",
      "source": [
        "# 063 짝수만 출력\n",
        "nums = [1, 2, 3, 4, 5, 6, 7, 8, 9, 10]\n",
        "nums[1::2]"
      ],
      "metadata": {
        "colab": {
          "base_uri": "https://localhost:8080/"
        },
        "id": "OOvyK8R0o2Vb",
        "outputId": "4b3ce618-7c44-4def-b020-a9ef25a7e2af"
      },
      "execution_count": null,
      "outputs": [
        {
          "output_type": "execute_result",
          "data": {
            "text/plain": [
              "[2, 4, 6, 8, 10]"
            ]
          },
          "metadata": {},
          "execution_count": 23
        }
      ]
    },
    {
      "cell_type": "code",
      "source": [
        "# 064 역방향 출력\n",
        "nums = [1, 2, 3, 4, 5]\n",
        "nums[::-1]\n",
        "# ::-1 은 역방향\n",
        "# :-1은 [1,2,3,4] 마지막에 '5'를 빼고 출력"
      ],
      "metadata": {
        "colab": {
          "base_uri": "https://localhost:8080/"
        },
        "id": "SytxrsB9pIRj",
        "outputId": "514e9fa7-5a8a-446f-e42c-ffbb4a80484a"
      },
      "execution_count": null,
      "outputs": [
        {
          "output_type": "execute_result",
          "data": {
            "text/plain": [
              "[5, 4, 3, 2, 1]"
            ]
          },
          "metadata": {},
          "execution_count": 24
        }
      ]
    },
    {
      "cell_type": "code",
      "source": [
        "# 065\n",
        "interest = ['삼성전자', 'LG전자', 'Naver']\n",
        "print(interest[0], interest[2])"
      ],
      "metadata": {
        "colab": {
          "base_uri": "https://localhost:8080/"
        },
        "id": "qyJp4Q9FpVQj",
        "outputId": "76dd1594-b20b-4636-bf09-8238e7d9a3a6"
      },
      "execution_count": null,
      "outputs": [
        {
          "output_type": "stream",
          "name": "stdout",
          "text": [
            "삼성전자 Naver\n"
          ]
        }
      ]
    },
    {
      "cell_type": "code",
      "source": [
        "# 066 join 메서드\n",
        "# 떨어져 있는 리스트를 붙이는 역할\n",
        "interest = ['삼성전자', 'LG전자', 'Naver', 'SK하이닉스', '미래에셋대우']\n",
        "print(' '.join(interest))"
      ],
      "metadata": {
        "colab": {
          "base_uri": "https://localhost:8080/"
        },
        "id": "42uom1YqqiGM",
        "outputId": "e9a24753-1f0d-4855-b4ed-f9a5790f67cd"
      },
      "execution_count": null,
      "outputs": [
        {
          "output_type": "stream",
          "name": "stdout",
          "text": [
            "삼성전자 LG전자 Naver SK하이닉스 미래에셋대우\n"
          ]
        }
      ]
    },
    {
      "cell_type": "code",
      "source": [
        "# 067 join 메서드\n",
        "interest = ['삼성전자', 'LG전자', 'Naver', 'SK하이닉스', '미래에셋대우']\n",
        "'/'.join(interest)"
      ],
      "metadata": {
        "colab": {
          "base_uri": "https://localhost:8080/",
          "height": 36
        },
        "id": "aOHdAs36rnNU",
        "outputId": "89dc3885-a3bb-4dc6-d78d-d928d54481bc"
      },
      "execution_count": null,
      "outputs": [
        {
          "output_type": "execute_result",
          "data": {
            "text/plain": [
              "'삼성전자/LG전자/Naver/SK하이닉스/미래에셋대우'"
            ],
            "application/vnd.google.colaboratory.intrinsic+json": {
              "type": "string"
            }
          },
          "metadata": {},
          "execution_count": 42
        }
      ]
    },
    {
      "cell_type": "code",
      "source": [
        "# 068 join 메서드\n",
        "interest = ['삼성전자', 'LG전자', 'Naver', 'SK하이닉스', '미래에셋대우']\n",
        "print('\\n'.join(interest))"
      ],
      "metadata": {
        "colab": {
          "base_uri": "https://localhost:8080/"
        },
        "id": "P-W59cJgsCW3",
        "outputId": "67c9f3ca-be58-495b-9766-2cb19f65cc65"
      },
      "execution_count": null,
      "outputs": [
        {
          "output_type": "stream",
          "name": "stdout",
          "text": [
            "삼성전자\n",
            "LG전자\n",
            "Naver\n",
            "SK하이닉스\n",
            "미래에셋대우\n"
          ]
        }
      ]
    },
    {
      "cell_type": "code",
      "source": [
        "# 069 문자열 split 메서드\n",
        "string = \"삼성전자/LG전자/Naver\"\n",
        "interest = list(string.split('/'))\n",
        "interest"
      ],
      "metadata": {
        "colab": {
          "base_uri": "https://localhost:8080/"
        },
        "id": "ZLFZ6EcnuRcR",
        "outputId": "0ce02a66-cc7d-4669-e5fd-34d64230c380"
      },
      "execution_count": null,
      "outputs": [
        {
          "output_type": "execute_result",
          "data": {
            "text/plain": [
              "['삼성전자', 'LG전자', 'Naver']"
            ]
          },
          "metadata": {},
          "execution_count": 57
        }
      ]
    },
    {
      "cell_type": "code",
      "source": [
        "# 069 문자열 split 메서드\n",
        "string = \"삼성전자/LG전자/Naver\"\n",
        "interest = string.split('/')\n",
        "interest"
      ],
      "metadata": {
        "colab": {
          "base_uri": "https://localhost:8080/"
        },
        "id": "khDQVXW4vUr3",
        "outputId": "ed6402f6-b305-43fe-c1a0-e6cecc30a218"
      },
      "execution_count": null,
      "outputs": [
        {
          "output_type": "execute_result",
          "data": {
            "text/plain": [
              "['삼성전자', 'LG전자', 'Naver']"
            ]
          },
          "metadata": {},
          "execution_count": 58
        }
      ]
    },
    {
      "cell_type": "code",
      "source": [
        "# 070 리스트 정렬\n",
        "data = [2, 4, 3, 1, 5, 10, 9]\n",
        "data.sort()\n",
        "data"
      ],
      "metadata": {
        "colab": {
          "base_uri": "https://localhost:8080/"
        },
        "id": "JF8xiYQcvaTP",
        "outputId": "ff44775d-8b93-41b9-b7bc-c180055bd098"
      },
      "execution_count": null,
      "outputs": [
        {
          "output_type": "execute_result",
          "data": {
            "text/plain": [
              "[1, 2, 3, 4, 5, 9, 10]"
            ]
          },
          "metadata": {},
          "execution_count": 62
        }
      ]
    },
    {
      "cell_type": "code",
      "source": [
        "data = [2, 4, 3, 1, 5, 10, 9]\n",
        "data2 = sorted(data) # 원본을 만지지 않음\n",
        "print(data2)"
      ],
      "metadata": {
        "colab": {
          "base_uri": "https://localhost:8080/"
        },
        "id": "QKVEqg9KvrsK",
        "outputId": "0e4a4c07-d88c-4d6a-c3cb-a7d0a2f6e855"
      },
      "execution_count": null,
      "outputs": [
        {
          "output_type": "stream",
          "name": "stdout",
          "text": [
            "[1, 2, 3, 4, 5, 9, 10]\n"
          ]
        }
      ]
    },
    {
      "cell_type": "markdown",
      "source": [
        "# 05. 파이썬 튜플"
      ],
      "metadata": {
        "id": "ZnhSVQ2p0RgG"
      }
    },
    {
      "cell_type": "markdown",
      "source": [
        "## 튜플(tuple)\n",
        "- 튜플은 순서가 있는 시퀀스형 자료형\n",
        "- 참조값은 변경이 불가능(immutable)\n",
        "- 다른 자료형 입력할 수 있음, 튜플 안의 튜플로 다차원의 튜플을 만드는 것도 가능\n",
        "- 값의 중복을 허락\n",
        "\n",
        "## 튜플의 method\n",
        "- 변경이 불가능하기 때문에 사용할 수 있는 메서드가 제한적\n",
        "- count()\n",
        "- index() 인덱싱, 슬라이싱 가능"
      ],
      "metadata": {
        "id": "WjweF3xxxiKe"
      }
    },
    {
      "cell_type": "code",
      "source": [
        "# 튜플의 method\n",
        "t = (1,2,3,4,5,6)\n",
        "t.count(1)\n",
        "t.index(5)"
      ],
      "metadata": {
        "colab": {
          "base_uri": "https://localhost:8080/"
        },
        "id": "bdkpWeUT0sqH",
        "outputId": "bc8d654f-c134-4b54-c1a5-8d255b7c601f"
      },
      "execution_count": null,
      "outputs": [
        {
          "output_type": "execute_result",
          "data": {
            "text/plain": [
              "4"
            ]
          },
          "metadata": {},
          "execution_count": 69
        }
      ]
    },
    {
      "cell_type": "code",
      "source": [
        "t = (10,20,30,40,50)\n",
        "t[:3]"
      ],
      "metadata": {
        "colab": {
          "base_uri": "https://localhost:8080/"
        },
        "id": "MzLQlnHQ1NJS",
        "outputId": "f7c0a050-91aa-468b-c5f3-f2a4c8c30e9b"
      },
      "execution_count": null,
      "outputs": [
        {
          "output_type": "execute_result",
          "data": {
            "text/plain": [
              "(10, 20, 30)"
            ]
          },
          "metadata": {},
          "execution_count": 70
        }
      ]
    },
    {
      "cell_type": "code",
      "source": [
        "# immutable 객체여서 에러\n",
        "t = (10,20,30)\n",
        "t[1] = 1000"
      ],
      "metadata": {
        "id": "yAwc7qWx1ZHs"
      },
      "execution_count": null,
      "outputs": []
    },
    {
      "cell_type": "code",
      "source": [
        "# but, list는 mutable 객체라 값 변경 가능\n",
        "t = [10,20,30,40]\n",
        "t[2] = 3000\n",
        "t"
      ],
      "metadata": {
        "colab": {
          "base_uri": "https://localhost:8080/"
        },
        "id": "pQIAsifqbzxR",
        "outputId": "01e1e10d-a937-4599-cf13-dfacdead05f1"
      },
      "execution_count": null,
      "outputs": [
        {
          "output_type": "execute_result",
          "data": {
            "text/plain": [
              "[10, 20, 3000, 40]"
            ]
          },
          "metadata": {},
          "execution_count": 9
        }
      ]
    },
    {
      "cell_type": "code",
      "source": [
        "# 071\n",
        "my_variable = ()\n",
        "print(type(my_variable))"
      ],
      "metadata": {
        "colab": {
          "base_uri": "https://localhost:8080/"
        },
        "id": "aWi4CFBn16bN",
        "outputId": "5d53cd88-8c81-4f7e-feed-b755ca2341f7"
      },
      "execution_count": null,
      "outputs": [
        {
          "output_type": "stream",
          "name": "stdout",
          "text": [
            "<class 'tuple'>\n"
          ]
        }
      ]
    },
    {
      "cell_type": "code",
      "source": [
        "# 072\n",
        "movie_rank = ('닥터 스트레인지','스플릿','럭키')\n",
        "movie_rank"
      ],
      "metadata": {
        "colab": {
          "base_uri": "https://localhost:8080/"
        },
        "id": "J2bZKOHS27-I",
        "outputId": "45098b23-4821-465b-85d3-04be0ac566ef"
      },
      "execution_count": null,
      "outputs": [
        {
          "output_type": "execute_result",
          "data": {
            "text/plain": [
              "('닥터 스트레인지', '스플릿', '럭키')"
            ]
          },
          "metadata": {},
          "execution_count": 77
        }
      ]
    },
    {
      "cell_type": "code",
      "source": [
        "# 073\n",
        "t = (1) # 이렇게 하면 int로 인식\n",
        "print(type(t))\n",
        "\n",
        "# 하나의 데이터가 저장되는 경우, 아래와 같이 쉼표를 입력해야만 한다.\n",
        "t2 = (1,)\n",
        "print(type(t2))"
      ],
      "metadata": {
        "colab": {
          "base_uri": "https://localhost:8080/"
        },
        "id": "imlfAzUu3F6R",
        "outputId": "91a4939b-5919-4094-e5f1-feb4bebe1c3b"
      },
      "execution_count": null,
      "outputs": [
        {
          "output_type": "stream",
          "name": "stdout",
          "text": [
            "<class 'int'>\n",
            "<class 'tuple'>\n"
          ]
        }
      ]
    },
    {
      "cell_type": "code",
      "source": [
        "# 074 다음 코들르 실행해보고 오류가 발생하는 원인을 설명\n",
        "t = (1, 2, 3)\n",
        "t[0] = 'a'\n",
        "Traceback (most recent call last):\n",
        "  File \"<pyshell#46>\", line 1, in <module>\n",
        "    t[0] = 'a'\n",
        "TypeError: 'tuple' object does not support item assignment\n",
        "\n",
        "# -> t는 immutable 객체라 원소(element)값을 변경할 수 없다."
      ],
      "metadata": {
        "id": "LigQzMXX3VtK"
      },
      "execution_count": null,
      "outputs": []
    },
    {
      "cell_type": "code",
      "source": [
        "# 075\n",
        "t = 1, 2, 3, 4\n",
        "# 원칙적으로 튜플은 괄호와 함께 데이터를 정의해야 하지만, 사용자 편의를 위해 괄호 없이도 동작한다."
      ],
      "metadata": {
        "id": "0AoJyPlD3tbq"
      },
      "execution_count": null,
      "outputs": []
    },
    {
      "cell_type": "code",
      "source": [
        "# 076\n",
        "t = ('a', 'b', 'c')\n",
        "t[0] = 'A'\n",
        "# 새로운 튜플을 만들고 t라는 변수를 업데이트 해야 한다. 기존의 튜플 ('a', 'b', 'c')은 자동으로 삭제됩니다.\n",
        "\n",
        "t = ('A', 'b', 'c')"
      ],
      "metadata": {
        "id": "cc1mKQmp4xWj"
      },
      "execution_count": null,
      "outputs": []
    },
    {
      "cell_type": "code",
      "source": [
        "# 077\n",
        "interest = ('삼성전자', 'LG전자', 'SK Hynix')\n",
        "data = list(interest)\n",
        "data"
      ],
      "metadata": {
        "colab": {
          "base_uri": "https://localhost:8080/"
        },
        "id": "NFGSBz1Y5QUl",
        "outputId": "6dae12ad-497d-4b70-eb07-d6a2820f91b8"
      },
      "execution_count": null,
      "outputs": [
        {
          "output_type": "execute_result",
          "data": {
            "text/plain": [
              "['삼성전자', 'LG전자', 'SK Hynix']"
            ]
          },
          "metadata": {},
          "execution_count": 86
        }
      ]
    },
    {
      "cell_type": "code",
      "source": [
        "# 078\n",
        "interest = ['삼성전자', 'LG전자', 'SK Hynix']\n",
        "data = tuple(interest)\n",
        "data"
      ],
      "metadata": {
        "colab": {
          "base_uri": "https://localhost:8080/"
        },
        "id": "BlUDvwEw5bHy",
        "outputId": "0422cf43-75ba-46b2-8b7d-426312034b58"
      },
      "execution_count": null,
      "outputs": [
        {
          "output_type": "execute_result",
          "data": {
            "text/plain": [
              "('삼성전자', 'LG전자', 'SK Hynix')"
            ]
          },
          "metadata": {},
          "execution_count": 90
        }
      ]
    },
    {
      "cell_type": "code",
      "source": [
        "# 079 튜플 언팩킹\n",
        "temp = ('apple', 'banana', 'cake')\n",
        "a, b, c = temp\n",
        "print(a, b, c)"
      ],
      "metadata": {
        "colab": {
          "base_uri": "https://localhost:8080/"
        },
        "id": "nxtKn3VS5mB-",
        "outputId": "8d239972-df9f-4463-8112-21ef570302fb"
      },
      "execution_count": null,
      "outputs": [
        {
          "output_type": "stream",
          "name": "stdout",
          "text": [
            "apple banana cake\n"
          ]
        }
      ]
    },
    {
      "cell_type": "code",
      "source": [
        "# 080 range 함수\n",
        "data = tuple(range(2,100,2))\n",
        "print(data)"
      ],
      "metadata": {
        "colab": {
          "base_uri": "https://localhost:8080/"
        },
        "id": "EVou0WPT55pJ",
        "outputId": "ef21d727-b763-4545-c785-1f87b07b50c8"
      },
      "execution_count": null,
      "outputs": [
        {
          "output_type": "stream",
          "name": "stdout",
          "text": [
            "(2, 4, 6, 8, 10, 12, 14, 16, 18, 20, 22, 24, 26, 28, 30, 32, 34, 36, 38, 40, 42, 44, 46, 48, 50, 52, 54, 56, 58, 60, 62, 64, 66, 68, 70, 72, 74, 76, 78, 80, 82, 84, 86, 88, 90, 92, 94, 96, 98)\n"
          ]
        }
      ]
    },
    {
      "cell_type": "markdown",
      "source": [
        "# 06. 파이썬 딕셔너리"
      ],
      "metadata": {
        "id": "A9fFNkFdPItK"
      }
    },
    {
      "cell_type": "markdown",
      "source": [
        "## dict(딕셔너리)\n",
        "- 딕셔너리는 순서가 없는 자료형\n",
        "- 사전형은 Key와 value가 하나의 묶음으로 이루어진 자료체계\n",
        "- 값의 변경 가능 하지만 key는 변경할 수 없다.\n",
        "- 다른 자료형 입력 가능\n",
        "- 키의 중복 허락하지 않는다. 값의 중복은 허락\n",
        "- 인덱싱 가능\n",
        "\n",
        "## 딕셔너리의 method\n",
        "- keys()\n",
        "- values()\n",
        "- items()\n",
        "- get()  // ex) key in 변수\n",
        "- fromkeys()\n",
        "- update() // update({})\n",
        "- del 딕셔너리[key]"
      ],
      "metadata": {
        "id": "k5UfFdUhPLw7"
      }
    },
    {
      "cell_type": "code",
      "source": [
        "d = {'one':'하나', 'two':'둘', 'three':'셋'}\n",
        "d['two'] = 1000\n",
        "d"
      ],
      "metadata": {
        "colab": {
          "base_uri": "https://localhost:8080/"
        },
        "id": "YfNq3I6NVhPk",
        "outputId": "d618f572-eab2-4900-e2a7-bd7e0f824605"
      },
      "execution_count": null,
      "outputs": [
        {
          "output_type": "execute_result",
          "data": {
            "text/plain": [
              "{'one': '하나', 'two': 1000, 'three': '셋'}"
            ]
          },
          "metadata": {},
          "execution_count": 1
        }
      ]
    },
    {
      "cell_type": "code",
      "source": [
        "# 딕셔너리를 만드는 다양한 방법\n",
        "dict([('one','하나'),('two','둘')])\n",
        "dict(name='kimyeoju', age='10')"
      ],
      "metadata": {
        "colab": {
          "base_uri": "https://localhost:8080/"
        },
        "id": "63hNhC_FZFjy",
        "outputId": "379991cc-503e-451d-e05e-26e523e03c00"
      },
      "execution_count": null,
      "outputs": [
        {
          "output_type": "execute_result",
          "data": {
            "text/plain": [
              "{'name': 'kimyeoju', 'age': '10'}"
            ]
          },
          "metadata": {},
          "execution_count": 4
        }
      ]
    },
    {
      "cell_type": "code",
      "source": [
        "# zip을 사용\n",
        "list(zip('ABC','123','abc'))"
      ],
      "metadata": {
        "colab": {
          "base_uri": "https://localhost:8080/"
        },
        "id": "62MnMTFterzA",
        "outputId": "f9f22cbb-4d67-4b58-fc4b-9205ccbbc6f7"
      },
      "execution_count": null,
      "outputs": [
        {
          "output_type": "execute_result",
          "data": {
            "text/plain": [
              "[('A', '1', 'a'), ('B', '2', 'b'), ('C', '3', 'c')]"
            ]
          },
          "metadata": {},
          "execution_count": 5
        }
      ]
    },
    {
      "cell_type": "code",
      "source": [
        "dict(zip('ABC','123'))"
      ],
      "metadata": {
        "colab": {
          "base_uri": "https://localhost:8080/"
        },
        "id": "7rhkIwBne2ep",
        "outputId": "93af147d-9637-4870-f3e0-6d1a3832193d"
      },
      "execution_count": null,
      "outputs": [
        {
          "output_type": "execute_result",
          "data": {
            "text/plain": [
              "{'A': '1', 'B': '2', 'C': '3'}"
            ]
          },
          "metadata": {},
          "execution_count": 6
        }
      ]
    },
    {
      "cell_type": "code",
      "source": [
        "dict(zip('ABC',[[10,20],[20,30],[30,40]]))"
      ],
      "metadata": {
        "colab": {
          "base_uri": "https://localhost:8080/"
        },
        "id": "Y38yiA9FfPa2",
        "outputId": "7522496a-b23f-4c1a-8ac7-c991bcfc444d"
      },
      "execution_count": null,
      "outputs": [
        {
          "output_type": "execute_result",
          "data": {
            "text/plain": [
              "{'A': [10, 20], 'B': [20, 30], 'C': [30, 40]}"
            ]
          },
          "metadata": {},
          "execution_count": 7
        }
      ]
    },
    {
      "cell_type": "code",
      "source": [
        "# in연산자를 사용하여 key여부 알 수 있음\n",
        "d = dict([('one','하나'),('two','둘')])\n",
        "'하나' in d #false\n",
        "'one' in d #true"
      ],
      "metadata": {
        "colab": {
          "base_uri": "https://localhost:8080/"
        },
        "id": "fbu0Dh2FflMX",
        "outputId": "a9676fed-b0f7-41dc-b08c-fd4093fb5f86"
      },
      "execution_count": null,
      "outputs": [
        {
          "output_type": "execute_result",
          "data": {
            "text/plain": [
              "True"
            ]
          },
          "metadata": {},
          "execution_count": 9
        }
      ]
    },
    {
      "cell_type": "code",
      "source": [
        "# 사전형에 값을 추가할 때 키 값을 []안에 넣고, 값을 할당\n",
        "my_score = {\n",
        "    'korean' : 90,\n",
        "    'english' : 80,\n",
        "    'match' : 100\n",
        "}\n",
        "my_score['science'] = 95\n",
        "my_score"
      ],
      "metadata": {
        "colab": {
          "base_uri": "https://localhost:8080/"
        },
        "id": "SD7OWxjTf27i",
        "outputId": "f0faf967-919a-4bbf-f0b3-072dd5350122"
      },
      "execution_count": null,
      "outputs": [
        {
          "output_type": "execute_result",
          "data": {
            "text/plain": [
              "{'korean': 90, 'english': 80, 'match': 100, 'science': 95}"
            ]
          },
          "metadata": {},
          "execution_count": 11
        }
      ]
    },
    {
      "cell_type": "code",
      "source": [
        "# 삭제할 때\n",
        "my_score = {\n",
        "    'korean' : 90,\n",
        "    'english' : 80,\n",
        "    'match' : 100\n",
        "}\n",
        "del my_score['korean']\n",
        "my_score"
      ],
      "metadata": {
        "colab": {
          "base_uri": "https://localhost:8080/"
        },
        "id": "hjGgcQaWgeHJ",
        "outputId": "bce8a4a3-41bc-45ed-8a30-56bb428d828a"
      },
      "execution_count": null,
      "outputs": [
        {
          "output_type": "execute_result",
          "data": {
            "text/plain": [
              "{'english': 80, 'match': 100}"
            ]
          },
          "metadata": {},
          "execution_count": 13
        }
      ]
    },
    {
      "cell_type": "code",
      "source": [
        "# 국어 성적을 알고 싶은 경우\n",
        "my_score = {\n",
        "    'korean' : 90,\n",
        "    'english' : 80,\n",
        "    'match' : 100\n",
        "}\n",
        "\n",
        "my_score['korean']\n",
        "my_score.get('korean') # get으로 값을 찾을 수 있다."
      ],
      "metadata": {
        "colab": {
          "base_uri": "https://localhost:8080/"
        },
        "id": "KAZ5WhWygqCZ",
        "outputId": "e6bbb77c-74b7-4496-9831-0394d8455fab"
      },
      "execution_count": null,
      "outputs": [
        {
          "output_type": "execute_result",
          "data": {
            "text/plain": [
              "90"
            ]
          },
          "metadata": {},
          "execution_count": 15
        }
      ]
    },
    {
      "cell_type": "code",
      "source": [
        "# Key는 tuple로 사용 가능 왜냐하면 key는 immutable이기 때문에 tuple로 사용가능\n",
        "map_check = {\n",
        "    (1,3):10293,\n",
        "    (1,2):39492,\n",
        "    (1,1):49377,\n",
        "    (1,4):12375\n",
        "}\n",
        "map_check[(1,3)]\n",
        "map_check.get((1,4))"
      ],
      "metadata": {
        "colab": {
          "base_uri": "https://localhost:8080/"
        },
        "id": "cIaB7fgoiM0G",
        "outputId": "a28885cc-4d8d-4217-ec1a-3927baabf940"
      },
      "execution_count": null,
      "outputs": [
        {
          "output_type": "execute_result",
          "data": {
            "text/plain": [
              "12375"
            ]
          },
          "metadata": {},
          "execution_count": 19
        }
      ]
    },
    {
      "cell_type": "code",
      "source": [
        "# 하지만? list는 mutable객체이기 때문에 불가능하다. key는 immutable\n",
        "map_check = {\n",
        "    [1,3]:10293,\n",
        "    [1,2]:39492,\n",
        "    [1,1]:49377,\n",
        "    [1,4]:12375\n",
        "}\n",
        "# error"
      ],
      "metadata": {
        "id": "1lBWv88_ivcy"
      },
      "execution_count": null,
      "outputs": []
    },
    {
      "cell_type": "code",
      "source": [
        "# 딕셔너리의 Method\n",
        "# 1. keys()\n",
        "map_check = {\n",
        "    (1,3):10293,\n",
        "    (1,2):39492,\n",
        "    (1,1):49377,\n",
        "    (1,4):12375\n",
        "}\n",
        "\n",
        "map_check.keys()"
      ],
      "metadata": {
        "colab": {
          "base_uri": "https://localhost:8080/"
        },
        "id": "z7woKh0gjDe0",
        "outputId": "fa606669-9f83-44fa-e3ef-ab4d3ac1a138"
      },
      "execution_count": null,
      "outputs": [
        {
          "output_type": "execute_result",
          "data": {
            "text/plain": [
              "dict_keys([(1, 3), (1, 2), (1, 1), (1, 4)])"
            ]
          },
          "metadata": {},
          "execution_count": 21
        }
      ]
    },
    {
      "cell_type": "code",
      "source": [
        "# 2. values()\n",
        "map_check = {\n",
        "    (1,3):10293,\n",
        "    (1,2):39492,\n",
        "    (1,1):49377,\n",
        "    (1,4):12375\n",
        "}\n",
        "map_check.values()"
      ],
      "metadata": {
        "colab": {
          "base_uri": "https://localhost:8080/"
        },
        "id": "ZzjUhbeMjWlv",
        "outputId": "c57dac4a-511f-4306-9a05-70d347f794be"
      },
      "execution_count": null,
      "outputs": [
        {
          "output_type": "execute_result",
          "data": {
            "text/plain": [
              "dict_values([10293, 39492, 49377, 12375])"
            ]
          },
          "metadata": {},
          "execution_count": 22
        }
      ]
    },
    {
      "cell_type": "code",
      "source": [
        "# 3. items()\n",
        "map_check = {\n",
        "    (1,3):10293,\n",
        "    (1,2):39492,\n",
        "    (1,1):49377,\n",
        "    (1,4):12375\n",
        "}\n",
        "map_check.items()"
      ],
      "metadata": {
        "colab": {
          "base_uri": "https://localhost:8080/"
        },
        "id": "FkuNjZv7joZm",
        "outputId": "3173796f-145d-4e4c-9b03-091d9d6ea8d8"
      },
      "execution_count": null,
      "outputs": [
        {
          "output_type": "execute_result",
          "data": {
            "text/plain": [
              "dict_items([((1, 3), 10293), ((1, 2), 39492), ((1, 1), 49377), ((1, 4), 12375)])"
            ]
          },
          "metadata": {},
          "execution_count": 23
        }
      ]
    },
    {
      "cell_type": "code",
      "source": [
        "# 자료 사전형에 원하는 key가 있는지 찾아볼 때 in 활용\n",
        "map_check = {\n",
        "    (1,3):10293,\n",
        "    (1,2):39492,\n",
        "    (1,1):49377,\n",
        "    (1,4):12375\n",
        "}\n",
        "\n",
        "(1,3) in map_check # key in 변수\n",
        "(1,4) in map_check"
      ],
      "metadata": {
        "colab": {
          "base_uri": "https://localhost:8080/"
        },
        "id": "sYIK7EeKjwcu",
        "outputId": "01789cbd-1565-434d-87da-964e1a06f0fc"
      },
      "execution_count": null,
      "outputs": [
        {
          "output_type": "execute_result",
          "data": {
            "text/plain": [
              "True"
            ]
          },
          "metadata": {},
          "execution_count": 26
        }
      ]
    },
    {
      "cell_type": "code",
      "source": [
        "# 4. get(key) # 값을 찾아줌\n",
        "map_check = {\n",
        "    (1,3):10293,\n",
        "    (1,2):39492,\n",
        "    (1,1):49377,\n",
        "    (1,4):12375\n",
        "}\n",
        "map_check.get((1,1))"
      ],
      "metadata": {
        "colab": {
          "base_uri": "https://localhost:8080/"
        },
        "id": "pyIduifDkCjE",
        "outputId": "39c337ca-1f08-4e73-eb5f-eec52c0d85f6"
      },
      "execution_count": null,
      "outputs": [
        {
          "output_type": "execute_result",
          "data": {
            "text/plain": [
              "49377"
            ]
          },
          "metadata": {},
          "execution_count": 28
        }
      ]
    },
    {
      "cell_type": "code",
      "source": [
        "# 5. fromkeys() 시퀀스형 자료를 가지고 딕셔너리를 만들 때 fromkeys를 사용\n",
        "keys = ('name','age', 'grade')\n",
        "values = ('kimyeoju', '26', '수')\n",
        "dict.fromkeys(keys,values)"
      ],
      "metadata": {
        "colab": {
          "base_uri": "https://localhost:8080/"
        },
        "id": "ycsl3Yv7kQds",
        "outputId": "8dc71cb9-9a40-4128-b2bc-559981961994"
      },
      "execution_count": null,
      "outputs": [
        {
          "output_type": "execute_result",
          "data": {
            "text/plain": [
              "{'name': ('kimyeoju', '26', '수'),\n",
              " 'age': ('kimyeoju', '26', '수'),\n",
              " 'grade': ('kimyeoju', '26', '수')}"
            ]
          },
          "metadata": {},
          "execution_count": 31
        }
      ]
    },
    {
      "cell_type": "code",
      "source": [
        "# 6. update() 업데이트 할 때 주의! update({})\n",
        "d = {'one':'하나', 'two':'둘'}\n",
        "d.update({'three':'셋'})\n",
        "d"
      ],
      "metadata": {
        "colab": {
          "base_uri": "https://localhost:8080/"
        },
        "id": "CDF4mcQkl0Fv",
        "outputId": "ac780a20-f386-4ae4-c551-a3f007737db6"
      },
      "execution_count": null,
      "outputs": [
        {
          "output_type": "execute_result",
          "data": {
            "text/plain": [
              "{'one': '하나', 'two': '둘', 'three': '셋'}"
            ]
          },
          "metadata": {},
          "execution_count": 35
        }
      ]
    },
    {
      "cell_type": "code",
      "source": [
        "# 딕셔너리의 순회(key의값만)\n",
        "# for문에서 딕셔너리를 순회하면 key의 값만 출력\n",
        "d = {'two':2, 'three':'셋'}\n",
        "for i in d:\n",
        "    print(i)"
      ],
      "metadata": {
        "colab": {
          "base_uri": "https://localhost:8080/"
        },
        "id": "HBlHoCP0nCAz",
        "outputId": "d7a5e8b4-a2cc-4617-cc02-06c77e58db4f"
      },
      "execution_count": null,
      "outputs": [
        {
          "output_type": "stream",
          "name": "stdout",
          "text": [
            "two\n",
            "three\n"
          ]
        }
      ]
    },
    {
      "cell_type": "code",
      "source": [
        "# 딕셔너리의 순회(value값만)\n",
        "d = {'two':2, 'three':'셋'}\n",
        "for i in d:\n",
        "    print(d[i]) # value값만 출력"
      ],
      "metadata": {
        "colab": {
          "base_uri": "https://localhost:8080/"
        },
        "id": "xa81MY__nORi",
        "outputId": "1704d831-5fa2-4e3e-d6ed-ff354a7b1b7b"
      },
      "execution_count": null,
      "outputs": [
        {
          "output_type": "stream",
          "name": "stdout",
          "text": [
            "2\n",
            "셋\n"
          ]
        }
      ]
    },
    {
      "cell_type": "code",
      "source": [
        "# 1) 딕셔너리의 순회(key,value값 둘 다)\n",
        "d = {'two':2, 'three':'셋'}\n",
        "for i in d:\n",
        "    print(i,d[i])"
      ],
      "metadata": {
        "colab": {
          "base_uri": "https://localhost:8080/"
        },
        "id": "GGLe1ZTcncBp",
        "outputId": "fef708e4-e683-4733-f979-e059952c515d"
      },
      "execution_count": null,
      "outputs": [
        {
          "output_type": "stream",
          "name": "stdout",
          "text": [
            "two 2\n",
            "three 셋\n"
          ]
        }
      ]
    },
    {
      "cell_type": "code",
      "source": [
        "# 2) 딕셔너리의 순회(key,value값 둘 다)\n",
        "d = {'two':2, 'three':'셋'}\n",
        "for i,j in d.items():\n",
        "    print(i,j)"
      ],
      "metadata": {
        "colab": {
          "base_uri": "https://localhost:8080/"
        },
        "id": "N0e63Bbqnyko",
        "outputId": "e4540859-9cf2-4d0b-81dd-899483d9edda"
      },
      "execution_count": null,
      "outputs": [
        {
          "output_type": "stream",
          "name": "stdout",
          "text": [
            "two 2\n",
            "three 셋\n"
          ]
        }
      ]
    },
    {
      "cell_type": "code",
      "source": [
        "# 084 비어있는 딕셔너리\n",
        "temp = {}\n",
        "print(type(temp))"
      ],
      "metadata": {
        "colab": {
          "base_uri": "https://localhost:8080/"
        },
        "id": "as4oFNC_oG2M",
        "outputId": "363daa43-a3bb-4b7a-cd5c-04b791e59ddf"
      },
      "execution_count": null,
      "outputs": [
        {
          "output_type": "stream",
          "name": "stdout",
          "text": [
            "<class 'dict'>\n"
          ]
        }
      ]
    },
    {
      "cell_type": "code",
      "source": [
        "# 085\n",
        "아이스크림 = {'메로나':1000, '폴라포':1200, '빵빠레':1800}\n",
        "아이스크림"
      ],
      "metadata": {
        "colab": {
          "base_uri": "https://localhost:8080/"
        },
        "id": "5kGLhn4fs7h7",
        "outputId": "9e53f823-7454-483c-e157-d8eadfcfc423"
      },
      "execution_count": null,
      "outputs": [
        {
          "output_type": "execute_result",
          "data": {
            "text/plain": [
              "{'메로나': 1000, '폴라포': 1200, '빵빠레': 1800}"
            ]
          },
          "metadata": {},
          "execution_count": 44
        }
      ]
    },
    {
      "cell_type": "code",
      "source": [
        "# 086 아이스크림 가격정보 추가\n",
        "아이스크림['죠스바']=1200\n",
        "아이스크림['월드콘']=1500\n",
        "아이스크림"
      ],
      "metadata": {
        "colab": {
          "base_uri": "https://localhost:8080/"
        },
        "id": "VEjbVqwkvGEt",
        "outputId": "d4e875e0-9170-4bad-dafa-ddd6157dfe20"
      },
      "execution_count": null,
      "outputs": [
        {
          "output_type": "execute_result",
          "data": {
            "text/plain": [
              "{'메로나': 1000, '폴라포': 1200, '빵빠레': 1800, '죠스바': 1200, '월드콘': 1500}"
            ]
          },
          "metadata": {},
          "execution_count": 45
        }
      ]
    },
    {
      "cell_type": "code",
      "source": [
        "# 087 메로나 가격을 출력\n",
        "ice = {'메로나': 1000,\n",
        "       '폴로포': 1200,\n",
        "       '빵빠레': 1800,\n",
        "       '죠스바': 1200,\n",
        "       '월드콘': 1500}\n",
        "\n",
        "print(f'메로나 가격:', ice['메로나'])\n",
        "print(f'메로나 가격:', ice.get('메로나'))"
      ],
      "metadata": {
        "colab": {
          "base_uri": "https://localhost:8080/"
        },
        "id": "3X6oDNNnwwfR",
        "outputId": "215188eb-091f-4e88-f754-402e09d7da08"
      },
      "execution_count": null,
      "outputs": [
        {
          "output_type": "stream",
          "name": "stdout",
          "text": [
            "메로나 가격: 1000\n",
            "메로나 가격: 1000\n"
          ]
        }
      ]
    },
    {
      "cell_type": "code",
      "source": [
        "# 088 메로나의 가격을 1300으로 수정\n",
        "ice = {'메로나': 1000,\n",
        "       '폴로포': 1200,\n",
        "       '빵빠레': 1800,\n",
        "       '죠스바': 1200,\n",
        "       '월드콘': 1500}\n",
        "ice['메로나']=1300\n",
        "print(ice)"
      ],
      "metadata": {
        "colab": {
          "base_uri": "https://localhost:8080/"
        },
        "id": "1d7zIFLDxEQ2",
        "outputId": "9cab91c1-7f8e-4a09-f63e-d6c3123fd513"
      },
      "execution_count": null,
      "outputs": [
        {
          "output_type": "stream",
          "name": "stdout",
          "text": [
            "{'메로나': 1300, '폴로포': 1200, '빵빠레': 1800, '죠스바': 1200, '월드콘': 1500}\n"
          ]
        }
      ]
    },
    {
      "cell_type": "code",
      "source": [
        "# 089 메로나를 삭제해라\n",
        "del ice['메로나']\n",
        "print(ice)"
      ],
      "metadata": {
        "colab": {
          "base_uri": "https://localhost:8080/"
        },
        "id": "hRbXoij_xltg",
        "outputId": "64f0e179-a19d-443a-a4c8-8f5432e8a945"
      },
      "execution_count": null,
      "outputs": [
        {
          "output_type": "stream",
          "name": "stdout",
          "text": [
            "{'폴로포': 1200, '빵빠레': 1800, '죠스바': 1200, '월드콘': 1500}\n"
          ]
        }
      ]
    },
    {
      "cell_type": "code",
      "source": [
        "# 090 다음 코드에서 에러가 발생한 원인을 설명\n",
        "icecream['누가바']\n",
        "icecream = {'폴라포': 1200, '빵빠레': 1800, '월드콘': 1500, '메로나': 1000}\n",
        "Traceback (most recent call last):\n",
        "  File \"<pyshell#69>\", line 1, in <module>\n",
        "    icecream['누가바']\n",
        "KeyError: '누가바'\n",
        "\n",
        "# 딕셔너리에 없는 키를 사용해서 인덱싱하면 에러가 발생"
      ],
      "metadata": {
        "id": "fOaJWcbrxvg2"
      },
      "execution_count": null,
      "outputs": []
    },
    {
      "cell_type": "code",
      "source": [
        "# 091 딕셔너리 생성\n",
        "inventory = {'메로나':[300,20], '비비빅':[400,3], '죠스바':[250,100]}\n",
        "inventory"
      ],
      "metadata": {
        "colab": {
          "base_uri": "https://localhost:8080/"
        },
        "id": "TozgujOsx_sL",
        "outputId": "1eae92cd-6ede-4e4b-90ca-ca69269522ad"
      },
      "execution_count": null,
      "outputs": [
        {
          "output_type": "execute_result",
          "data": {
            "text/plain": [
              "{'메로나': [300, 20], '비비빅': [400, 3], '죠스바': [250, 100]}"
            ]
          },
          "metadata": {},
          "execution_count": 53
        }
      ]
    },
    {
      "cell_type": "code",
      "source": [
        "# 092 딕셔너리 인덱싱\n",
        "# 딕셔너리에서 메로나의 가격을 화면에 출력\n",
        "inventory = {\"메로나\": [300, 20],\n",
        "             \"비비빅\": [400, 3],\n",
        "             \"죠스바\": [250, 100]}\n",
        "\n",
        "inventory['메로나'][0]\n",
        "print(inventory.get('메로나')[0],'원')"
      ],
      "metadata": {
        "colab": {
          "base_uri": "https://localhost:8080/"
        },
        "id": "_JW5pig4yVHJ",
        "outputId": "460e4acd-a9d4-420c-ee36-f0d08ca7c313"
      },
      "execution_count": null,
      "outputs": [
        {
          "output_type": "stream",
          "name": "stdout",
          "text": [
            "300 원\n"
          ]
        }
      ]
    },
    {
      "cell_type": "code",
      "source": [
        "# 093 딕셔너리 인덱싱\n",
        "inventory = {\"메로나\": [300, 20],\n",
        "             \"비비빅\": [400, 3],\n",
        "             \"죠스바\": [250, 100]}\n",
        "\n",
        "print(inventory['메로나'][1],'개')\n",
        "print(inventory.get('메로나')[1],'개')"
      ],
      "metadata": {
        "colab": {
          "base_uri": "https://localhost:8080/"
        },
        "id": "-h5aceY-zKPf",
        "outputId": "187b051c-9d6c-476f-91cf-5500d2714c27"
      },
      "execution_count": null,
      "outputs": [
        {
          "output_type": "stream",
          "name": "stdout",
          "text": [
            "20 개\n",
            "20 개\n"
          ]
        }
      ]
    },
    {
      "cell_type": "code",
      "source": [
        "# 094 딕셔너리 추가\n",
        "inventory = {\"메로나\": [300, 20],\n",
        "             \"비비빅\": [400, 3],\n",
        "             \"죠스바\": [250, 100]}\n",
        "\n",
        "inventory['월드콘']=[500,7]\n",
        "inventory"
      ],
      "metadata": {
        "colab": {
          "base_uri": "https://localhost:8080/"
        },
        "id": "F8dR6DUy0Kgg",
        "outputId": "43fc9c28-23c3-4ec5-cb0e-22f8fb2dd3d1"
      },
      "execution_count": null,
      "outputs": [
        {
          "output_type": "execute_result",
          "data": {
            "text/plain": [
              "{'메로나': [300, 20], '비비빅': [400, 3], '죠스바': [250, 100], '월드콘': [500, 7]}"
            ]
          },
          "metadata": {},
          "execution_count": 67
        }
      ]
    },
    {
      "cell_type": "code",
      "source": [
        "# 095 딕셔너리 keys() 메서드\n",
        "icecream = {'탱크보이': 1200, '폴라포': 1200, '빵빠레': 1800, '월드콘': 1500, '메로나': 1000}\n",
        "icecream.keys()"
      ],
      "metadata": {
        "colab": {
          "base_uri": "https://localhost:8080/"
        },
        "id": "4s0mm6Gi0anv",
        "outputId": "74d047a7-153b-4e6c-dd1b-02ab973027fc"
      },
      "execution_count": null,
      "outputs": [
        {
          "output_type": "execute_result",
          "data": {
            "text/plain": [
              "dict_keys(['탱크보이', '폴라포', '빵빠레', '월드콘', '메로나'])"
            ]
          },
          "metadata": {},
          "execution_count": 68
        }
      ]
    },
    {
      "cell_type": "code",
      "source": [
        "# 096 딕셔너리 values() 메서드\n",
        "icecream.values()"
      ],
      "metadata": {
        "colab": {
          "base_uri": "https://localhost:8080/"
        },
        "id": "tadeOEZZ0hpw",
        "outputId": "7fde7dd2-cd3b-4297-f9cf-fb5249bb4434"
      },
      "execution_count": null,
      "outputs": [
        {
          "output_type": "execute_result",
          "data": {
            "text/plain": [
              "dict_values([1200, 1200, 1800, 1500, 1000])"
            ]
          },
          "metadata": {},
          "execution_count": 69
        }
      ]
    },
    {
      "cell_type": "code",
      "source": [
        "# 097 딕셔너리 values() 메서드 -> 아이스크림의 총합\n",
        "sum(icecream.values())"
      ],
      "metadata": {
        "colab": {
          "base_uri": "https://localhost:8080/"
        },
        "id": "dHvt3Tq70lTF",
        "outputId": "8805f939-e13f-4c50-9201-099e40d3e40a"
      },
      "execution_count": null,
      "outputs": [
        {
          "output_type": "execute_result",
          "data": {
            "text/plain": [
              "6700"
            ]
          },
          "metadata": {},
          "execution_count": 70
        }
      ]
    },
    {
      "cell_type": "code",
      "source": [
        "# 098 딕셔너리 update 메서드\n",
        "icecream = {'탱크보이': 1200, '폴라포': 1200, '빵빠레': 1800, '월드콘': 1500, '메로나': 1000}\n",
        "new_product = {'팥빙수':2700, '아맛나':1000}\n",
        "\n",
        "icecream.update(new_product)\n",
        "icecream"
      ],
      "metadata": {
        "colab": {
          "base_uri": "https://localhost:8080/"
        },
        "id": "gtaqfSRH0s-w",
        "outputId": "6641dad8-f0d6-4aee-a245-a6b7c7beabc2"
      },
      "execution_count": null,
      "outputs": [
        {
          "output_type": "execute_result",
          "data": {
            "text/plain": [
              "{'탱크보이': 1200,\n",
              " '폴라포': 1200,\n",
              " '빵빠레': 1800,\n",
              " '월드콘': 1500,\n",
              " '메로나': 1000,\n",
              " '팥빙수': 2700,\n",
              " '아맛나': 1000}"
            ]
          },
          "metadata": {},
          "execution_count": 72
        }
      ]
    },
    {
      "cell_type": "code",
      "source": [
        "# 098 딕셔너리 update 메서드 2\n",
        "icecream = {'탱크보이': 1200, '폴라포': 1200, '빵빠레': 1800, '월드콘': 1500, '메로나': 1000}\n",
        "icecream.update({'허쉬초코':2500,'거북이':1000})\n",
        "icecream"
      ],
      "metadata": {
        "colab": {
          "base_uri": "https://localhost:8080/"
        },
        "id": "qobTdwS40-gp",
        "outputId": "040025a8-07e9-450d-98f0-e941f6763299"
      },
      "execution_count": null,
      "outputs": [
        {
          "output_type": "execute_result",
          "data": {
            "text/plain": [
              "{'탱크보이': 1200,\n",
              " '폴라포': 1200,\n",
              " '빵빠레': 1800,\n",
              " '월드콘': 1500,\n",
              " '메로나': 1000,\n",
              " '허쉬초코': 2500,\n",
              " '거북이': 1000}"
            ]
          },
          "metadata": {},
          "execution_count": 10
        }
      ]
    },
    {
      "cell_type": "code",
      "source": [
        "# 099 zip과 dict\n",
        "keys = (\"apple\", \"pear\", \"peach\")\n",
        "vals = (300, 250, 400)\n",
        "result = dict(zip(keys,vals))\n",
        "result"
      ],
      "metadata": {
        "colab": {
          "base_uri": "https://localhost:8080/"
        },
        "id": "90xw5N8W1MJn",
        "outputId": "877820e4-a872-4cc7-b309-ed845f42e600"
      },
      "execution_count": null,
      "outputs": [
        {
          "output_type": "execute_result",
          "data": {
            "text/plain": [
              "{'apple': 300, 'pear': 250, 'peach': 400}"
            ]
          },
          "metadata": {},
          "execution_count": 75
        }
      ]
    },
    {
      "cell_type": "code",
      "source": [
        "# 100 zip과 dict\n",
        "date = ['09/05', '09/06', '09/07', '09/08', '09/09']\n",
        "close_price = [10500, 10300, 10100, 10800, 11000]\n",
        "\n",
        "close_table = dict(zip(date,close_price))\n",
        "close_table"
      ],
      "metadata": {
        "colab": {
          "base_uri": "https://localhost:8080/"
        },
        "id": "IwQ4VqiY2hjH",
        "outputId": "d994e104-9292-497b-ed82-0261670c7c54"
      },
      "execution_count": null,
      "outputs": [
        {
          "output_type": "execute_result",
          "data": {
            "text/plain": [
              "{'09/05': 10500,\n",
              " '09/06': 10300,\n",
              " '09/07': 10100,\n",
              " '09/08': 10800,\n",
              " '09/09': 11000}"
            ]
          },
          "metadata": {},
          "execution_count": 77
        }
      ]
    },
    {
      "cell_type": "markdown",
      "source": [
        "# Set (집합)"
      ],
      "metadata": {
        "id": "FJGLcBdJ24Es"
      }
    },
    {
      "cell_type": "markdown",
      "source": [
        "## Set(집합)\n",
        "- 집합 자료형은 중복을 허용하지 않으며 순서가 없는 자료형\n",
        "\n",
        "## Set의 method\n",
        "- add() 1개 추가\n",
        "- update() 여러개 추가\n",
        "- remove() -> 오류 출력 o\n",
        "- discard() -> 오류 출력 x\n",
        "- intersection() 교집합\n",
        "- union() 합집합\n",
        "- difference() 차집합\n",
        "- issubset()\n",
        "- isdisjoint()\n",
        "- symmetric_difference_update()\n",
        "- ps. 참고로 set에서는 pop을 사용하지 않음 값을 랜덤으로 뽑기 때문에"
      ],
      "metadata": {
        "id": "HvpJW9Ny28yQ"
      }
    },
    {
      "cell_type": "code",
      "source": [
        "n = set([1,1,2,2,3,3,4])\n",
        "print(n)"
      ],
      "metadata": {
        "colab": {
          "base_uri": "https://localhost:8080/"
        },
        "id": "DfcEzIaE265d",
        "outputId": "5e06a65c-00ad-4ce1-d948-ffbb8ba8b785"
      },
      "execution_count": null,
      "outputs": [
        {
          "output_type": "stream",
          "name": "stdout",
          "text": [
            "{1, 2, 3, 4}\n"
          ]
        }
      ]
    },
    {
      "cell_type": "code",
      "source": [
        "n = set([1,1,2,2,3,3,4])\n",
        "n.update({1000}) # 주의! update({})할 때 대괄호 중괄호 주의하기\n",
        "n"
      ],
      "metadata": {
        "colab": {
          "base_uri": "https://localhost:8080/"
        },
        "id": "l8hpDuQv31_1",
        "outputId": "8bd33aba-8fec-4633-f1f2-7f2354b89642"
      },
      "execution_count": null,
      "outputs": [
        {
          "output_type": "execute_result",
          "data": {
            "text/plain": [
              "{1, 2, 3, 4, 1000}"
            ]
          },
          "metadata": {},
          "execution_count": 81
        }
      ]
    },
    {
      "cell_type": "code",
      "source": [
        "n = set([1,1,2,2,3,3,4])\n",
        "n.update({10,20}) # 주의! update({})할 때 대괄호 중괄호 주의하기\n",
        "n"
      ],
      "metadata": {
        "colab": {
          "base_uri": "https://localhost:8080/"
        },
        "id": "qoxzSzhe4JG5",
        "outputId": "2fdbb8df-4339-40a4-f636-b9c172948a6e"
      },
      "execution_count": null,
      "outputs": [
        {
          "output_type": "execute_result",
          "data": {
            "text/plain": [
              "{1, 2, 3, 4, 10, 20}"
            ]
          },
          "metadata": {},
          "execution_count": 82
        }
      ]
    },
    {
      "cell_type": "code",
      "source": [
        "# add (1개 추가)\n",
        "menu = set(['americano','cafe latte'])\n",
        "menu.add('ice coffee')\n",
        "menu"
      ],
      "metadata": {
        "colab": {
          "base_uri": "https://localhost:8080/"
        },
        "id": "YaxIADq07FqW",
        "outputId": "900d1009-1776-48da-8455-71b7f17d1301"
      },
      "execution_count": null,
      "outputs": [
        {
          "output_type": "execute_result",
          "data": {
            "text/plain": [
              "{'americano', 'cafe latte', 'ice coffee'}"
            ]
          },
          "metadata": {},
          "execution_count": 83
        }
      ]
    },
    {
      "cell_type": "code",
      "source": [
        "# update (여러개 추가)\n",
        "menu = set(['americano','cafe latte'])\n",
        "menu.update({'espresso','ice tea','green tea'})\n",
        "menu\n",
        "# 순서가 바뀌는 이유는 set은 순서가 없는 자료형이기 때문"
      ],
      "metadata": {
        "colab": {
          "base_uri": "https://localhost:8080/"
        },
        "id": "yXl2le2T7Qqe",
        "outputId": "6573d9c3-d332-4fae-baf7-8c2a5276a6bf"
      },
      "execution_count": null,
      "outputs": [
        {
          "output_type": "execute_result",
          "data": {
            "text/plain": [
              "{'americano', 'cafe latte', 'espresso', 'green tea', 'ice tea'}"
            ]
          },
          "metadata": {},
          "execution_count": 85
        }
      ]
    },
    {
      "cell_type": "code",
      "source": [
        "# remove() 오류출력 o\n",
        "# menu = (['americano', 'espresso'])\n",
        "# menu.remove('espresso')\n",
        "# menu\n",
        "\n",
        "menu = (['americano', 'espresso'])\n",
        "menu.remove('green tea')\n",
        "menu"
      ],
      "metadata": {
        "colab": {
          "base_uri": "https://localhost:8080/",
          "height": 258
        },
        "id": "wdv0nwio-osi",
        "outputId": "74ae942d-36bb-404b-875d-65655db2d9fd"
      },
      "execution_count": null,
      "outputs": [
        {
          "output_type": "error",
          "ename": "ValueError",
          "evalue": "ignored",
          "traceback": [
            "\u001b[0;31m---------------------------------------------------------------------------\u001b[0m",
            "\u001b[0;31mValueError\u001b[0m                                Traceback (most recent call last)",
            "\u001b[0;32m<ipython-input-87-c0498ceccee1>\u001b[0m in \u001b[0;36m<cell line: 7>\u001b[0;34m()\u001b[0m\n\u001b[1;32m      5\u001b[0m \u001b[0;34m\u001b[0m\u001b[0m\n\u001b[1;32m      6\u001b[0m \u001b[0mmenu\u001b[0m \u001b[0;34m=\u001b[0m \u001b[0;34m(\u001b[0m\u001b[0;34m[\u001b[0m\u001b[0;34m'americano'\u001b[0m\u001b[0;34m,\u001b[0m \u001b[0;34m'espresso'\u001b[0m\u001b[0;34m]\u001b[0m\u001b[0;34m)\u001b[0m\u001b[0;34m\u001b[0m\u001b[0;34m\u001b[0m\u001b[0m\n\u001b[0;32m----> 7\u001b[0;31m \u001b[0mmenu\u001b[0m\u001b[0;34m.\u001b[0m\u001b[0mremove\u001b[0m\u001b[0;34m(\u001b[0m\u001b[0;34m'green tea'\u001b[0m\u001b[0;34m)\u001b[0m\u001b[0;34m\u001b[0m\u001b[0;34m\u001b[0m\u001b[0m\n\u001b[0m\u001b[1;32m      8\u001b[0m \u001b[0mmenu\u001b[0m\u001b[0;34m\u001b[0m\u001b[0;34m\u001b[0m\u001b[0m\n",
            "\u001b[0;31mValueError\u001b[0m: list.remove(x): x not in list"
          ]
        }
      ]
    },
    {
      "cell_type": "code",
      "source": [
        "menu = (['americano', 'espresso'])\n",
        "del menu[0]\n",
        "menu"
      ],
      "metadata": {
        "colab": {
          "base_uri": "https://localhost:8080/"
        },
        "id": "h4vaP4rQm-P3",
        "outputId": "3f1b1d3f-805b-40b0-ee6d-385aeb6a5a8e"
      },
      "execution_count": null,
      "outputs": [
        {
          "output_type": "execute_result",
          "data": {
            "text/plain": [
              "['espresso']"
            ]
          },
          "metadata": {},
          "execution_count": 11
        }
      ]
    },
    {
      "cell_type": "code",
      "source": [
        "# discard() 오류출력 x\n",
        "# s = {2,3,4,5,6}\n",
        "# s.discard(2)\n",
        "# s\n",
        "\n",
        "s = {2,3,4,5,6}\n",
        "s.discard(1) # 1이 없는데도 오류를 발생시키지 않음\n",
        "s"
      ],
      "metadata": {
        "colab": {
          "base_uri": "https://localhost:8080/"
        },
        "id": "AIgIGE-8_Db6",
        "outputId": "7af7b6e0-f8ed-473c-eedb-9fa6ac9da8c1"
      },
      "execution_count": null,
      "outputs": [
        {
          "output_type": "execute_result",
          "data": {
            "text/plain": [
              "{2, 3, 4, 5, 6}"
            ]
          },
          "metadata": {},
          "execution_count": 92
        }
      ]
    },
    {
      "cell_type": "code",
      "source": [
        "# discard 오류를 발생시키지 않음\n",
        "menu = set(['americano', 'espresso'])\n",
        "menu.discard('milk tea')\n",
        "menu"
      ],
      "metadata": {
        "colab": {
          "base_uri": "https://localhost:8080/"
        },
        "id": "YgmArzL7nYzC",
        "outputId": "61cf6def-943a-4631-b59e-812995e83062"
      },
      "execution_count": null,
      "outputs": [
        {
          "output_type": "execute_result",
          "data": {
            "text/plain": [
              "{'americano', 'espresso'}"
            ]
          },
          "metadata": {},
          "execution_count": 14
        }
      ]
    },
    {
      "cell_type": "code",
      "source": [
        "# 교집합 & , intersection()\n",
        "a = {1,2,3}\n",
        "b = {3,4,5}\n",
        "print(a & b)\n",
        "print(a.intersection(b))"
      ],
      "metadata": {
        "colab": {
          "base_uri": "https://localhost:8080/"
        },
        "id": "f8JZQKN2Aptm",
        "outputId": "3417a465-ee5e-4a62-b81a-30eb5e8211e2"
      },
      "execution_count": null,
      "outputs": [
        {
          "output_type": "stream",
          "name": "stdout",
          "text": [
            "{3}\n",
            "{3}\n"
          ]
        }
      ]
    },
    {
      "cell_type": "code",
      "source": [
        "# 합집합 | , union()\n",
        "a = {1,2,3}\n",
        "b = {3,4,5}\n",
        "print(a|b)\n",
        "print(a.union(b))"
      ],
      "metadata": {
        "colab": {
          "base_uri": "https://localhost:8080/"
        },
        "id": "jt7wRmkwBnRg",
        "outputId": "432443e5-04b5-4cc8-c3b5-c6909fd33f64"
      },
      "execution_count": null,
      "outputs": [
        {
          "output_type": "stream",
          "name": "stdout",
          "text": [
            "{1, 2, 3, 4, 5}\n",
            "{1, 2, 3, 4, 5}\n"
          ]
        }
      ]
    },
    {
      "cell_type": "code",
      "source": [
        "# 차집합 - , difference()\n",
        "a = {1,2,3}\n",
        "b = {3,4,5}\n",
        "print(a-b)\n",
        "print(a.difference(b))"
      ],
      "metadata": {
        "colab": {
          "base_uri": "https://localhost:8080/"
        },
        "id": "EEy6lxLiB4hb",
        "outputId": "0d0116fe-aeb5-4cb0-df3e-22a1483c9b7c"
      },
      "execution_count": null,
      "outputs": [
        {
          "output_type": "stream",
          "name": "stdout",
          "text": [
            "{1, 2}\n",
            "{1, 2}\n"
          ]
        }
      ]
    },
    {
      "cell_type": "code",
      "source": [
        "# 대칭차집합 ^ , symmetric.difference()\n",
        "# 두 개의 집합이 있을 때 공통된 부분을 제외한 나머지 부분을 '대칭차집합'이라고 한다.\n",
        "# ^ 또는 symmetric_difference 함수 사용\n",
        "s = {1,2,3,4}\n",
        "ss = {3,4,5,6}\n",
        "print(s^ss)\n",
        "print(set.symmetric_difference(s,ss))"
      ],
      "metadata": {
        "colab": {
          "base_uri": "https://localhost:8080/"
        },
        "id": "WqkTrTJLCE8v",
        "outputId": "2453bb4d-1ef2-411e-ec4f-6baa9364efaa"
      },
      "execution_count": null,
      "outputs": [
        {
          "output_type": "stream",
          "name": "stdout",
          "text": [
            "{1, 2, 5, 6}\n",
            "{1, 2, 5, 6}\n"
          ]
        }
      ]
    },
    {
      "cell_type": "code",
      "source": [
        "# issubset() 함수\n",
        "# 새로운 값에 원래의 값이 속하는지 확인하고 싶을 때\n",
        "s = {1,2,3,4}\n",
        "print(s.issubset({1,2}))\n",
        "print(s.issubset({1,2,3,4,5,6})) # s에 있는 요소들이 다 들어가야함"
      ],
      "metadata": {
        "colab": {
          "base_uri": "https://localhost:8080/"
        },
        "id": "BMhinn5qCq3E",
        "outputId": "8812a9ff-976d-4a97-8517-21ed75c75abe"
      },
      "execution_count": null,
      "outputs": [
        {
          "output_type": "stream",
          "name": "stdout",
          "text": [
            "False\n",
            "True\n"
          ]
        }
      ]
    },
    {
      "cell_type": "code",
      "source": [
        "# isdisjoint() 함수\n",
        "# 데이터가 서로 겹치는 부분이 있는지 확인하고 싶을 때\n",
        "s = {1,2,3,4}\n",
        "ss = {3,4,5,6}\n",
        "s.isdisjoint(ss) # {3,4}가 겹치니까 False가 출력\n",
        "\n",
        "# 겹치는 부분이 있으면 'False'\n",
        "# 겹치는 부분이 없으면 'True'"
      ],
      "metadata": {
        "colab": {
          "base_uri": "https://localhost:8080/"
        },
        "id": "-z-P5TKUDAFK",
        "outputId": "42348db2-189d-45b0-c553-addf20d01df7"
      },
      "execution_count": null,
      "outputs": [
        {
          "output_type": "execute_result",
          "data": {
            "text/plain": [
              "False"
            ]
          },
          "metadata": {},
          "execution_count": 102
        }
      ]
    },
    {
      "cell_type": "code",
      "source": [
        "# symmetric_difference_update\n",
        "# 지금 set과 비교 할 다른 set 중에서 겹치지 않는 요소만 출력하고 싶을 때\n",
        "s = {1,2,3}\n",
        "ss = {3,4,5}\n",
        "s.symmetric_difference_update(ss)\n",
        "s\n",
        "# 겹치는 요소 {3} 말고 {1,2,4,5}가 출력"
      ],
      "metadata": {
        "colab": {
          "base_uri": "https://localhost:8080/"
        },
        "id": "X--c82gfDTm7",
        "outputId": "551a2492-ccf2-4d7d-b3f4-31155b1bedbc"
      },
      "execution_count": null,
      "outputs": [
        {
          "output_type": "execute_result",
          "data": {
            "text/plain": [
              "{1, 2, 4, 5}"
            ]
          },
          "metadata": {},
          "execution_count": 104
        }
      ]
    },
    {
      "cell_type": "markdown",
      "source": [
        "# built-in-function (내장함수)\n",
        "- abs()\n",
        "- all()\n",
        "- any()\n",
        "- chr()\n",
        "- dir()\n",
        "- divmod()\n",
        "- enumerate() 순서가 있는 데이터(리스트,튜플,문자열만)\n",
        "- eval()\n",
        "- filter(함수, 리스트(반복가능한데이터))\n",
        "- hex() 정수를 입력받아 16진수 문자열로 반환\n",
        "- id()\n",
        "- input()\n",
        "- int()\n",
        "- isinstance() -> boolean으로 반환\n",
        "- len()\n",
        "- list()\n",
        "- map(f,iterable) 함수(f)와 반복 가능한 데이터를 입력\n",
        "- max(iterable)\n",
        "- min(iterable)\n",
        "- oct() 정수를 8진수 문자열로 바꾸어 리턴\n",
        "- open(filename, [mode])\n",
        "  - '파일이름'과 읽기 방법'을 입력받아 파일 객체를 리턴 하는 함수\n",
        "- ord() 문자의 유니코드 숫자 값을 리턴\n",
        "- pow(x,y) x를 y제곱한 결괏값 리턴\n",
        "- range()\n",
        "- round()\n",
        "- sorted(iterable)\n",
        "- str()\n",
        "- sum(iterable)\n",
        "- tuple(iterable)\n",
        "- type()\n",
        "- zip(iterable) -> 반복 가능한 데이터를 여러 개 입력할 수 있음\n"
      ],
      "metadata": {
        "id": "xL-yLidQ6fug"
      }
    },
    {
      "cell_type": "code",
      "source": [
        "# all\n",
        "# all(x)는 반복 가능한 데이터 x를 입력값으로 받으며 이 x의 요소가 모두 참이면 True, 거짓이 하나라도 있으면 False\n",
        "all([1, 2, 3])\n",
        "True\n",
        "\n",
        "all([1, 2, 3, 0])\n",
        "False"
      ],
      "metadata": {
        "id": "4oPe_MKS_fvv"
      },
      "execution_count": null,
      "outputs": []
    },
    {
      "cell_type": "code",
      "source": [
        "# any\n",
        "# any(x)는 반복 가능한 데이터 x를 입력으로 받아 x의 요소 중 하나라도 참이 있으면 True 모두 거짓일 때 False\n",
        "any([1, 2, 3, 0])\n",
        "True\n",
        "\n",
        "any([0, \"\"])\n",
        "False\n",
        "\n",
        "any([])\n",
        "False"
      ],
      "metadata": {
        "colab": {
          "base_uri": "https://localhost:8080/"
        },
        "id": "2WO2-1KF_vuI",
        "outputId": "1429bbbb-f681-42a0-d49f-229614effb1c"
      },
      "execution_count": null,
      "outputs": [
        {
          "output_type": "execute_result",
          "data": {
            "text/plain": [
              "True"
            ]
          },
          "metadata": {},
          "execution_count": 4
        }
      ]
    },
    {
      "cell_type": "code",
      "source": [
        "# divmod(a,b)는 2개의 숫자 a,b를 입력 받음 a를 b로 나눈 몫과 나머지를 튜플로 리턴\n",
        "divmod(7, 3)\n",
        "(2, 1)"
      ],
      "metadata": {
        "id": "yQkw08fxACqI"
      },
      "execution_count": null,
      "outputs": []
    },
    {
      "cell_type": "code",
      "source": [
        "# map\n",
        "def two_times(x):\n",
        "    return x*2\n",
        "\n",
        "list(map(two_times, [1, 2, 3, 4]))\n",
        "[2, 4, 6, 8]"
      ],
      "metadata": {
        "colab": {
          "base_uri": "https://localhost:8080/"
        },
        "id": "pCCFh4g6Aaes",
        "outputId": "a743ad07-6878-4dd0-a20b-02146533cebd"
      },
      "execution_count": null,
      "outputs": [
        {
          "output_type": "execute_result",
          "data": {
            "text/plain": [
              "[2, 4, 6, 8]"
            ]
          },
          "metadata": {},
          "execution_count": 5
        }
      ]
    },
    {
      "cell_type": "code",
      "source": [
        "# map\n",
        "list(map(lambda a: a*2, [1, 2, 3, 4]))\n",
        "[2, 4, 6, 8]"
      ],
      "metadata": {
        "id": "9gU435q--b64"
      },
      "execution_count": null,
      "outputs": []
    },
    {
      "cell_type": "code",
      "source": [
        "# map 이랑 filter만\n",
        "# -> lambda x:x, 리스트\n",
        "# max, sorted, min, reversed 등\n",
        "# -> max(l, key=lambda x: d[x])\n",
        "# -> max(l, key=l.get)\n",
        "# -> sorted(l, key=lambda x:x)\n",
        "# filter\n",
        "list(filter(lambda x:x!=20, [10,20,30,40,20,20,20]))\n",
        "\n",
        "list(filter(lambda x: x > 90, range(100)))\n",
        "\n",
        "def 제곱(x):\n",
        "    return x**2\n",
        "list(map(제곱,[1,2,3,4]))\n",
        "\n",
        "list(map(lambda x:x**2, [1,2,3,4]))"
      ],
      "metadata": {
        "colab": {
          "base_uri": "https://localhost:8080/"
        },
        "id": "R3mcPc2RA6Re",
        "outputId": "1320a66c-ea5f-4cc6-c9da-f4e752122a9a"
      },
      "execution_count": null,
      "outputs": [
        {
          "output_type": "execute_result",
          "data": {
            "text/plain": [
              "[1, 4, 9, 16]"
            ]
          },
          "metadata": {},
          "execution_count": 13
        }
      ]
    },
    {
      "cell_type": "code",
      "source": [
        "# max\n",
        "max([1, 2, 3])\n",
        "3\n",
        "max(\"python\")\n",
        "'y'"
      ],
      "metadata": {
        "id": "tcXVa0HI-kxh"
      },
      "execution_count": null,
      "outputs": []
    },
    {
      "cell_type": "markdown",
      "source": [
        "# 07. 파이썬 분기문"
      ],
      "metadata": {
        "id": "xc4jaqRR8pVq"
      }
    },
    {
      "cell_type": "markdown",
      "source": [
        "## 조건문(if)\n",
        "- if문은 조건에 합당하다면 들여쓰기 되어 있는 곳까지 code를 실행시키는 구문\n",
        "\n",
        "- if '',{},[]는 모두 false\n",
        "\n",
        "## if 문의 기본구조\n",
        "- if 조건문:\n",
        "  수행 할 문장1\n",
        "  수행 할 문장2\n",
        "\n",
        "## if, else\n",
        "- if 조건문: -> 조건 '참' if 실행\n",
        "  수행 할 문장1\n",
        "  수행 할 문장2\n",
        "  else: -> 조건 '거짓' else 실행\n",
        "    수행 할 문장3\n",
        "    수행 할 문장4\n",
        "\n",
        "## if, elif, else\n",
        "- 여러개의 조건을 한꺼번에 검사 할 경우에는 elif를 사용 elif는 여러개 사용가능\n",
        "\n",
        "- if 조건문: -> 조건문을 확인해서 '참'이면 실행\n",
        "\n",
        "수행할문장1\n",
        "수행할문장2\n",
        "\n",
        "- elif: -> if문의 조건이 '참'이 아니라면 elif문을 확인하고 elif문이 참이라면 수행\n",
        "\n",
        "수행할문장1\n",
        "수행할문장2\n",
        "\n",
        "- else: -> if문과 elif문이 거짓이라면 else 실행\n",
        "\n",
        "수행할문장1\n",
        "수행할문장2"
      ],
      "metadata": {
        "id": "mHDIuvLJ8tPZ"
      }
    },
    {
      "cell_type": "code",
      "source": [
        "if True:\n",
        "    print('hello')\n",
        "print('one')"
      ],
      "metadata": {
        "colab": {
          "base_uri": "https://localhost:8080/"
        },
        "id": "6iY7H7LG8v-6",
        "outputId": "53a3d900-7504-44f9-b45c-0f51c4623803"
      },
      "execution_count": null,
      "outputs": [
        {
          "output_type": "stream",
          "name": "stdout",
          "text": [
            "hello\n",
            "one\n"
          ]
        }
      ]
    },
    {
      "cell_type": "code",
      "source": [
        "if False:\n",
        "    print('world')\n",
        "print('two')"
      ],
      "metadata": {
        "colab": {
          "base_uri": "https://localhost:8080/"
        },
        "id": "K5YM0zX-9NRW",
        "outputId": "74d0be05-a8ff-47b8-bfec-4da98698503c"
      },
      "execution_count": null,
      "outputs": [
        {
          "output_type": "stream",
          "name": "stdout",
          "text": [
            "two\n"
          ]
        }
      ]
    },
    {
      "cell_type": "code",
      "source": [
        "def f():\n",
        "    return False\n",
        "    if f():\n",
        "        print('hello')\n",
        "        print('one')\n",
        "print('two')"
      ],
      "metadata": {
        "colab": {
          "base_uri": "https://localhost:8080/"
        },
        "id": "YnwBxQ_49RTa",
        "outputId": "66b4161d-a35c-4875-dc51-abe0c3228f56"
      },
      "execution_count": null,
      "outputs": [
        {
          "output_type": "stream",
          "name": "stdout",
          "text": [
            "two\n"
          ]
        }
      ]
    },
    {
      "cell_type": "code",
      "source": [
        "# if가 true일 때\n",
        "if ' ':\n",
        "    print('hello')\n",
        "    print('one')\n",
        "print('two')"
      ],
      "metadata": {
        "colab": {
          "base_uri": "https://localhost:8080/"
        },
        "id": "XsmwzuQq_J2a",
        "outputId": "a50d61b3-b4df-4871-db57-c1fdc95ce231"
      },
      "execution_count": null,
      "outputs": [
        {
          "output_type": "stream",
          "name": "stdout",
          "text": [
            "hello\n",
            "one\n",
            "two\n"
          ]
        }
      ]
    },
    {
      "cell_type": "code",
      "source": [
        "# if가 false일 때\n",
        "if '':\n",
        "    print('hello')\n",
        "    print('one')\n",
        "print('two')"
      ],
      "metadata": {
        "colab": {
          "base_uri": "https://localhost:8080/"
        },
        "id": "Do4Yl9op_Q2y",
        "outputId": "0b0e8c3e-6962-42ac-fbca-3e846bd215d6"
      },
      "execution_count": null,
      "outputs": [
        {
          "output_type": "stream",
          "name": "stdout",
          "text": [
            "two\n"
          ]
        }
      ]
    },
    {
      "cell_type": "code",
      "source": [
        "# if가 True일 때\n",
        "if not '': # not '' 이니까 True\n",
        "    print('hello')\n",
        "print('end')\n",
        "\n",
        "if not None:\n",
        "    print('hello')\n",
        "print('end')"
      ],
      "metadata": {
        "colab": {
          "base_uri": "https://localhost:8080/"
        },
        "id": "MnQmB8J0_6rE",
        "outputId": "ecdaeb1d-4801-430b-f1c0-138b2f2d1116"
      },
      "execution_count": null,
      "outputs": [
        {
          "output_type": "stream",
          "name": "stdout",
          "text": [
            "hello\n",
            "end\n",
            "hello\n",
            "end\n"
          ]
        }
      ]
    },
    {
      "cell_type": "code",
      "source": [
        "# if가 false일 때\n",
        "if None:\n",
        "    print('hello')\n",
        "print('end')"
      ],
      "metadata": {
        "colab": {
          "base_uri": "https://localhost:8080/"
        },
        "id": "pPfhM1tjAJKo",
        "outputId": "1f16a095-fb07-467e-a114-abda5abdc250"
      },
      "execution_count": null,
      "outputs": [
        {
          "output_type": "stream",
          "name": "stdout",
          "text": [
            "end\n"
          ]
        }
      ]
    },
    {
      "cell_type": "code",
      "source": [
        "# if문의 기본구조\n",
        "if 10 > 11:\n",
        "    print('one')\n",
        "    print('two')\n",
        "else:\n",
        "    print('three')"
      ],
      "metadata": {
        "colab": {
          "base_uri": "https://localhost:8080/"
        },
        "id": "rRTwiZmFAqbg",
        "outputId": "a4d9a101-179c-48ee-cafd-aeafd72d26bd"
      },
      "execution_count": null,
      "outputs": [
        {
          "output_type": "stream",
          "name": "stdout",
          "text": [
            "three\n"
          ]
        }
      ]
    },
    {
      "cell_type": "code",
      "source": [
        "def f():\n",
        "    if 10 > 11:\n",
        "        return 'one'\n",
        "    return 'two'\n",
        "print(f())"
      ],
      "metadata": {
        "colab": {
          "base_uri": "https://localhost:8080/"
        },
        "id": "xpApQdjIAxXg",
        "outputId": "1053af9c-6281-4deb-cf04-fd60e2c46796"
      },
      "execution_count": null,
      "outputs": [
        {
          "output_type": "stream",
          "name": "stdout",
          "text": [
            "two\n"
          ]
        }
      ]
    },
    {
      "cell_type": "code",
      "source": [
        "x = 10\n",
        "if x > 5:\n",
        "    if type(x) == int:\n",
        "        print('one')"
      ],
      "metadata": {
        "colab": {
          "base_uri": "https://localhost:8080/"
        },
        "id": "tbRakh-KA5mm",
        "outputId": "b684e10f-980c-4b85-be3d-a4d7cc012f24"
      },
      "execution_count": null,
      "outputs": [
        {
          "output_type": "stream",
          "name": "stdout",
          "text": [
            "one\n"
          ]
        }
      ]
    },
    {
      "cell_type": "code",
      "source": [
        "x = 10\n",
        "if x > 5 and type(x) == int:\n",
        "    print('one')"
      ],
      "metadata": {
        "colab": {
          "base_uri": "https://localhost:8080/"
        },
        "id": "TqRPGWXoBF_A",
        "outputId": "65b29c5c-324c-4561-eead-82466f2a9379"
      },
      "execution_count": null,
      "outputs": [
        {
          "output_type": "stream",
          "name": "stdout",
          "text": [
            "one\n"
          ]
        }
      ]
    },
    {
      "cell_type": "code",
      "source": [
        "# if, elif, else\n",
        "if True: # True가 참이면 elif, else를 반환하지 않고 if 조건문 'hello'하나만 출력\n",
        "    print('hello')\n",
        "elif True:\n",
        "    print('hello')\n",
        "else:\n",
        "    print('hello')"
      ],
      "metadata": {
        "colab": {
          "base_uri": "https://localhost:8080/"
        },
        "id": "CtGucLIHCeK7",
        "outputId": "f0e6b0eb-d3cf-47c8-d2a3-db86bd8ec86d"
      },
      "execution_count": null,
      "outputs": [
        {
          "output_type": "stream",
          "name": "stdout",
          "text": [
            "hello\n"
          ]
        }
      ]
    },
    {
      "cell_type": "code",
      "source": [
        "# if 심화\n",
        "# 코드를 한 줄로 쓰기 가능 하지만 가독성이 좋지 않음\n",
        "x = 10\n",
        "if x > 5: print('hello')\n",
        "elif x < 1: print('world')"
      ],
      "metadata": {
        "colab": {
          "base_uri": "https://localhost:8080/"
        },
        "id": "4RN0L7SECty6",
        "outputId": "e7637206-5e99-42c4-d5a7-2a58b45b485d"
      },
      "execution_count": null,
      "outputs": [
        {
          "output_type": "stream",
          "name": "stdout",
          "text": [
            "hello\n"
          ]
        }
      ]
    },
    {
      "cell_type": "code",
      "source": [
        "# 3항 연산자\n",
        "# 처음에 true일 때 나오는 값을 적고, if 조건문을 적고, else를 적음\n",
        "x = 10\n",
        "'hello' if x > 5 else 'world'"
      ],
      "metadata": {
        "colab": {
          "base_uri": "https://localhost:8080/",
          "height": 36
        },
        "id": "z6mDkNXnD5lX",
        "outputId": "32abc1cf-e182-4797-e847-776c69d3f81c"
      },
      "execution_count": null,
      "outputs": [
        {
          "output_type": "execute_result",
          "data": {
            "text/plain": [
              "'hello'"
            ],
            "application/vnd.google.colaboratory.intrinsic+json": {
              "type": "string"
            }
          },
          "metadata": {},
          "execution_count": 23
        }
      ]
    },
    {
      "cell_type": "code",
      "source": [
        "# 3항 연산자\n",
        "x = 5\n",
        "'one' if x < 1 else 'two'"
      ],
      "metadata": {
        "colab": {
          "base_uri": "https://localhost:8080/",
          "height": 36
        },
        "id": "pvW4msObEMyt",
        "outputId": "38e9ad30-6996-4db7-dcee-8fd676f07916"
      },
      "execution_count": null,
      "outputs": [
        {
          "output_type": "execute_result",
          "data": {
            "text/plain": [
              "'two'"
            ],
            "application/vnd.google.colaboratory.intrinsic+json": {
              "type": "string"
            }
          },
          "metadata": {},
          "execution_count": 24
        }
      ]
    },
    {
      "cell_type": "code",
      "source": [
        "# 3항 연산자\n",
        "y = 100\n",
        "x = 'one' if y > 100 else None"
      ],
      "metadata": {
        "id": "VO1jiiVZEZh4"
      },
      "execution_count": null,
      "outputs": []
    },
    {
      "cell_type": "code",
      "source": [
        "# 3항 연산자\n",
        "def f(y):\n",
        "    return 'one' if y > 80 else None\n",
        "f(100) # one\n",
        "f(30) # None"
      ],
      "metadata": {
        "id": "QxFNQyTLEoqR"
      },
      "execution_count": null,
      "outputs": []
    },
    {
      "cell_type": "code",
      "source": [
        "# 101\n",
        "# 파이썬에서 True 혹은 False를 갖는 데이터 타입은 무엇인가?\n",
        "# answer: boolean"
      ],
      "metadata": {
        "id": "1K4qKqC5F3qL"
      },
      "execution_count": null,
      "outputs": []
    },
    {
      "cell_type": "code",
      "source": [
        "# 102\n",
        "print(3 == 5)\n",
        "# False"
      ],
      "metadata": {
        "colab": {
          "base_uri": "https://localhost:8080/"
        },
        "id": "X3igKK6NF83P",
        "outputId": "a20a56ce-ab2f-419c-d684-8c165da139ab"
      },
      "execution_count": null,
      "outputs": [
        {
          "output_type": "stream",
          "name": "stdout",
          "text": [
            "False\n"
          ]
        }
      ]
    },
    {
      "cell_type": "code",
      "source": [
        "# 103\n",
        "print(3 < 5)\n",
        "# True"
      ],
      "metadata": {
        "colab": {
          "base_uri": "https://localhost:8080/"
        },
        "id": "RG6Cxn1IGBtH",
        "outputId": "5247ba06-47a0-4afc-9e3a-9ec932dcec99"
      },
      "execution_count": null,
      "outputs": [
        {
          "output_type": "stream",
          "name": "stdout",
          "text": [
            "True\n"
          ]
        }
      ]
    },
    {
      "cell_type": "code",
      "source": [
        "# 104\n",
        "x = 4\n",
        "print(1 < x < 5)\n",
        "# True"
      ],
      "metadata": {
        "colab": {
          "base_uri": "https://localhost:8080/"
        },
        "id": "FOq8lzvNGF-i",
        "outputId": "6c37e2b0-5656-4f4c-df31-e1452830b359"
      },
      "execution_count": null,
      "outputs": [
        {
          "output_type": "stream",
          "name": "stdout",
          "text": [
            "True\n"
          ]
        }
      ]
    },
    {
      "cell_type": "code",
      "source": [
        "# 105\n",
        "print ((3 == 3) and (4 != 3))\n",
        "# True"
      ],
      "metadata": {
        "colab": {
          "base_uri": "https://localhost:8080/"
        },
        "id": "3-OPT1aEGKzp",
        "outputId": "61dc7270-af15-4a29-a2c9-ef22b57437fb"
      },
      "execution_count": null,
      "outputs": [
        {
          "output_type": "stream",
          "name": "stdout",
          "text": [
            "True\n"
          ]
        }
      ]
    },
    {
      "cell_type": "code",
      "source": [
        "# 106\n",
        "print(3 => 4)\n",
        "# 지원하지 않는 연산자"
      ],
      "metadata": {
        "id": "JRf7jBY1GQZN"
      },
      "execution_count": null,
      "outputs": []
    },
    {
      "cell_type": "code",
      "source": [
        "# 107\n",
        "if 4 < 3:\n",
        "    print(\"Hello World\")\n",
        "# False이기 때문에 출력이 되지 않음"
      ],
      "metadata": {
        "id": "LHo4udWTGWqw"
      },
      "execution_count": null,
      "outputs": []
    },
    {
      "cell_type": "code",
      "source": [
        "# 108\n",
        "if 4 < 3:\n",
        "    print(\"Hello World.\")\n",
        "else:\n",
        "    print(\"Hi, there.\")"
      ],
      "metadata": {
        "colab": {
          "base_uri": "https://localhost:8080/"
        },
        "id": "PlTp5fKHGetl",
        "outputId": "7162a0b6-e05e-4de9-f41f-c697b1cb98c4"
      },
      "execution_count": null,
      "outputs": [
        {
          "output_type": "stream",
          "name": "stdout",
          "text": [
            "Hi, there.\n"
          ]
        }
      ]
    },
    {
      "cell_type": "code",
      "source": [
        "# 109\n",
        "if True :\n",
        "    print (\"1\")\n",
        "    print (\"2\")\n",
        "else :\n",
        "    print(\"3\")\n",
        "print(\"4\")"
      ],
      "metadata": {
        "colab": {
          "base_uri": "https://localhost:8080/"
        },
        "id": "YzyYTU01Giyg",
        "outputId": "6eea8a3c-79f1-45cc-bbf8-528299321ee7"
      },
      "execution_count": null,
      "outputs": [
        {
          "output_type": "stream",
          "name": "stdout",
          "text": [
            "1\n",
            "2\n",
            "4\n"
          ]
        }
      ]
    },
    {
      "cell_type": "code",
      "source": [
        "# 110\n",
        "if True :\n",
        "    if False:\n",
        "        print(\"1\")\n",
        "        print(\"2\")\n",
        "    else:\n",
        "        print(\"3\")\n",
        "else :\n",
        "    print(\"4\")\n",
        "print(\"5\")"
      ],
      "metadata": {
        "colab": {
          "base_uri": "https://localhost:8080/"
        },
        "id": "kgUIPYbSGmp5",
        "outputId": "ab381b75-48bd-433c-d079-231cb77abb60"
      },
      "execution_count": null,
      "outputs": [
        {
          "output_type": "stream",
          "name": "stdout",
          "text": [
            "3\n",
            "5\n"
          ]
        }
      ]
    },
    {
      "cell_type": "code",
      "source": [
        "# 111\n",
        "user_input = input('입력:')\n",
        "print(user_input*2)"
      ],
      "metadata": {
        "colab": {
          "base_uri": "https://localhost:8080/"
        },
        "id": "YwVB5Xz9GumJ",
        "outputId": "4000ed17-88f0-46aa-d454-021e3fd8aab3"
      },
      "execution_count": null,
      "outputs": [
        {
          "output_type": "stream",
          "name": "stdout",
          "text": [
            "입력:안녕하세요\n",
            "안녕하세요안녕하세요\n"
          ]
        }
      ]
    },
    {
      "cell_type": "code",
      "source": [
        "# 112\n",
        "user_input = int(input())\n",
        "print(user_input+10)"
      ],
      "metadata": {
        "colab": {
          "base_uri": "https://localhost:8080/"
        },
        "id": "u2DOy9LNHCwR",
        "outputId": "866714c4-f4ed-4e4c-8e56-4a218dc7b862"
      },
      "execution_count": null,
      "outputs": [
        {
          "output_type": "stream",
          "name": "stdout",
          "text": [
            "30\n",
            "40\n"
          ]
        }
      ]
    },
    {
      "cell_type": "code",
      "source": [
        "# 113\n",
        "# 여기서 주의할 것은 input은 원래 문자열로 되어 있음\n",
        "user_input = int(input())\n",
        "if user_input % 2 ==0:\n",
        "    print('짝수')\n",
        "else:\n",
        "    print('홀수')"
      ],
      "metadata": {
        "colab": {
          "base_uri": "https://localhost:8080/"
        },
        "id": "Z3MArkPDHL7A",
        "outputId": "42c1004e-04e0-4095-c845-70b54d40fff2"
      },
      "execution_count": null,
      "outputs": [
        {
          "output_type": "stream",
          "name": "stdout",
          "text": [
            "30\n",
            "짝수\n"
          ]
        }
      ]
    },
    {
      "cell_type": "code",
      "source": [
        "# 114\n",
        "user_input = int(input())\n",
        "a = user_input + 20\n",
        "if a > 255:\n",
        "    print(255)\n",
        "else:\n",
        "    print(a)\n",
        "\n",
        "# user = input('입력값:')\n",
        "# num = 20 + int(user)\n",
        "# if num > 255:\n",
        "#     print(255)\n",
        "# else:\n",
        "#     print(num)"
      ],
      "metadata": {
        "colab": {
          "base_uri": "https://localhost:8080/"
        },
        "id": "RBPKVMWjHi07",
        "outputId": "696ca23e-7bfe-4b5f-bc4e-f69594212d16"
      },
      "execution_count": null,
      "outputs": [
        {
          "name": "stdout",
          "output_type": "stream",
          "text": [
            "220\n"
          ]
        }
      ]
    },
    {
      "cell_type": "code",
      "source": [
        "# 115\n",
        "user_input = int(input())\n",
        "data = user_input - 20\n",
        "if data > 255:\n",
        "    print(255)\n",
        "elif data < 0:\n",
        "    print(0)\n",
        "else:\n",
        "    print(data)"
      ],
      "metadata": {
        "colab": {
          "base_uri": "https://localhost:8080/"
        },
        "id": "-dPbBLL-Ied8",
        "outputId": "56a70138-5b00-4264-d36f-4995a8c55bae"
      },
      "execution_count": null,
      "outputs": [
        {
          "output_type": "stream",
          "name": "stdout",
          "text": [
            "15\n",
            "0\n"
          ]
        }
      ]
    },
    {
      "cell_type": "code",
      "source": [
        "# 116\n",
        "user_input = input()\n",
        "if user_input[-2:] == '00':\n",
        "    print('정각 입니다.')\n",
        "else:\n",
        "    print('정각이 아닙니다')"
      ],
      "metadata": {
        "colab": {
          "base_uri": "https://localhost:8080/"
        },
        "id": "mrM5CXJ6JGWV",
        "outputId": "aabab225-44b9-4af4-c51a-0b9100559a46"
      },
      "execution_count": null,
      "outputs": [
        {
          "output_type": "stream",
          "name": "stdout",
          "text": [
            "2:00\n",
            "정각 입니다.\n"
          ]
        }
      ]
    },
    {
      "cell_type": "code",
      "source": [
        "# 117\n",
        "fruit = [\"사과\", \"포도\", \"홍시\"]\n",
        "user_input = input()\n",
        "if user_input in fruit: # in 리스트!\n",
        "    print('정답입니다.')\n",
        "else:\n",
        "    print('오답입니다.')"
      ],
      "metadata": {
        "colab": {
          "base_uri": "https://localhost:8080/"
        },
        "id": "7PYj_5A_JoKt",
        "outputId": "d738d490-7b98-49e8-b3c2-cbb2c6cd7048"
      },
      "execution_count": null,
      "outputs": [
        {
          "output_type": "stream",
          "name": "stdout",
          "text": [
            "포도\n",
            "정답입니다.\n"
          ]
        }
      ]
    },
    {
      "cell_type": "code",
      "source": [
        "# 118\n",
        "warn_investment_list = [\"Microsoft\", \"Google\", \"Naver\", \"Kakao\", \"SAMSUNG\", \"LG\"]\n",
        "user_input = input()\n",
        "if user_input in warn_investment_list:\n",
        "    print('투자 경고 종목입니다.')\n",
        "else:\n",
        "    print('투자 경고 종목이 아닙니다.')"
      ],
      "metadata": {
        "colab": {
          "base_uri": "https://localhost:8080/"
        },
        "id": "BaCKnVlWKLjm",
        "outputId": "d1f9acff-c517-4d2d-eba4-0275ddbdcd8e"
      },
      "execution_count": null,
      "outputs": [
        {
          "output_type": "stream",
          "name": "stdout",
          "text": [
            "wenic\n",
            "투자 경고 종목이 아닙니다.\n"
          ]
        }
      ]
    },
    {
      "cell_type": "code",
      "source": [
        "# 119\n",
        "fruit = {\"봄\" : \"딸기\", \"여름\" : \"토마토\", \"가을\" : \"사과\"}\n",
        "user_input = input()\n",
        "if user_input in fruit.keys():\n",
        "    print('정답입니다.')\n",
        "else:\n",
        "    print('오답입니다.')"
      ],
      "metadata": {
        "colab": {
          "base_uri": "https://localhost:8080/"
        },
        "id": "iJ-I1_Y6K6_3",
        "outputId": "7b862e3c-7333-4e2a-8858-27b1e5e0cf4f"
      },
      "execution_count": null,
      "outputs": [
        {
          "output_type": "stream",
          "name": "stdout",
          "text": [
            "토마토\n",
            "오답입니다.\n"
          ]
        }
      ]
    },
    {
      "cell_type": "code",
      "source": [
        "# 120\n",
        "fruit = {\"봄\" : \"딸기\", \"여름\" : \"토마토\", \"가을\" : \"사과\"}\n",
        "user_input = input()\n",
        "if user_input in fruit.values():\n",
        "    print('정답입니다.')\n",
        "else:\n",
        "    print('오답입니다.')"
      ],
      "metadata": {
        "colab": {
          "base_uri": "https://localhost:8080/"
        },
        "id": "6jhy6qn6LRK8",
        "outputId": "07e7b8cf-ee6e-4115-d191-6f5158a7aea8"
      },
      "execution_count": null,
      "outputs": [
        {
          "output_type": "stream",
          "name": "stdout",
          "text": [
            "봄\n",
            "오답입니다.\n"
          ]
        }
      ]
    },
    {
      "cell_type": "code",
      "source": [
        "fruit = {\"봄\" : \"딸기\", \"여름\" : \"토마토\", \"가을\" : \"사과\"}\n",
        "'봄' in fruit\n",
        "'딸기' in fruit # in은 참고로 key만 찾을 수 있음"
      ],
      "metadata": {
        "colab": {
          "base_uri": "https://localhost:8080/"
        },
        "id": "bGcu7K4LLs6x",
        "outputId": "8dbe960e-46d8-4afb-bfa4-7ee05923adb5"
      },
      "execution_count": null,
      "outputs": [
        {
          "output_type": "execute_result",
          "data": {
            "text/plain": [
              "False"
            ]
          },
          "metadata": {},
          "execution_count": 71
        }
      ]
    },
    {
      "cell_type": "code",
      "source": [
        "# 121\n",
        "user_input = input()\n",
        "if user_input.islower():\n",
        "    print(user_input.upper())\n",
        "else:\n",
        "    print(user_input.lower())"
      ],
      "metadata": {
        "colab": {
          "base_uri": "https://localhost:8080/"
        },
        "id": "V6EgjQClLj0d",
        "outputId": "84d202fb-ae0c-4f6c-f5be-acba9912c276"
      },
      "execution_count": null,
      "outputs": [
        {
          "output_type": "stream",
          "name": "stdout",
          "text": [
            "A\n",
            "a\n"
          ]
        }
      ]
    },
    {
      "cell_type": "code",
      "source": [
        "# 122\n",
        "user_input = int(input('score:'))\n",
        "if user_input >= 81:\n",
        "    print('A')\n",
        "elif user_input >= 61:\n",
        "    print('B')\n",
        "elif user_input >= 41:\n",
        "    print('C')\n",
        "elif user_input >= 21:\n",
        "    print('D')\n",
        "else:\n",
        "    print('E')"
      ],
      "metadata": {
        "colab": {
          "base_uri": "https://localhost:8080/"
        },
        "id": "zjpULT9vMMN5",
        "outputId": "d67e3b88-82ab-4904-d625-9464f6570486"
      },
      "execution_count": null,
      "outputs": [
        {
          "output_type": "stream",
          "name": "stdout",
          "text": [
            "score:83\n",
            "A\n"
          ]
        }
      ]
    },
    {
      "cell_type": "code",
      "source": [
        "# 123\n",
        "환율 = {\"달러\": 1167,\n",
        "        \"엔\": 1.096,\n",
        "        \"유로\": 1268,\n",
        "        \"위안\": 171}\n",
        "user_input = input()\n",
        "num, currency = user_input.split()\n",
        "print(float(num)*환율[currency],'원')"
      ],
      "metadata": {
        "id": "KHWslvOXPwh6"
      },
      "execution_count": null,
      "outputs": []
    },
    {
      "cell_type": "code",
      "source": [
        "# 124 가장 큰 숫자를 출력하랏\n",
        "user_input1 = int(input())\n",
        "user_input2 = int(input())\n",
        "user_input3 = int(input())\n",
        "\n",
        "if user_input1 >= user_input2 and user_input1 >= user_input3:\n",
        "    print(user_input1)\n",
        "elif user_input2 >= user_input1 and user_input2 >= user_input3:\n",
        "    print(user_input2)\n",
        "else:\n",
        "    print(user_input3)"
      ],
      "metadata": {
        "colab": {
          "base_uri": "https://localhost:8080/"
        },
        "id": "Tr9bAeLDUEAL",
        "outputId": "a200f253-94a3-4a16-f19a-20b8bc6f5931"
      },
      "execution_count": null,
      "outputs": [
        {
          "output_type": "stream",
          "name": "stdout",
          "text": [
            "50\n",
            "10\n",
            "5\n",
            "50\n"
          ]
        }
      ]
    },
    {
      "cell_type": "code",
      "source": [
        "# 125\n",
        "user_input = input()\n",
        "if user_input[0:3] == '011':\n",
        "    print('당신은 SKT 사용자입니다.')\n",
        "elif user_input[0:3] == '016':\n",
        "    print('당신은 KT 사용자입니다.')\n",
        "elif user_input[0:3] == '019':\n",
        "    print('당신은 LGU 사용자입니다.')\n",
        "else:\n",
        "    print('알수없습니다.')"
      ],
      "metadata": {
        "colab": {
          "base_uri": "https://localhost:8080/"
        },
        "id": "arAEn7EyUz0A",
        "outputId": "f0c00db6-3c47-4162-ecd6-6cea212390be"
      },
      "execution_count": null,
      "outputs": [
        {
          "output_type": "stream",
          "name": "stdout",
          "text": [
            "011-345-1922\n",
            "당신은 SKT 사용자입니다.\n"
          ]
        }
      ]
    },
    {
      "cell_type": "code",
      "source": [
        "# 125 2번째 풀이\n",
        "number = input('휴대전화 번호 입력:')\n",
        "num = number.split('-')[0]\n",
        "if num == '011':\n",
        "    com = 'SKT'\n",
        "elif num == '016':\n",
        "    com = 'KT'\n",
        "elif num == '019':\n",
        "    com = 'LGU'\n",
        "else:\n",
        "    com = '알수없음'\n",
        "print(f'당신은 {com} 사용자입니다.')"
      ],
      "metadata": {
        "colab": {
          "base_uri": "https://localhost:8080/"
        },
        "id": "r6OxxsynV6fy",
        "outputId": "94d41e40-9f47-4c6e-cfd7-a6aafe36fca3"
      },
      "execution_count": null,
      "outputs": [
        {
          "output_type": "stream",
          "name": "stdout",
          "text": [
            "휴대전화 번호 입력:011-11\n",
            "당신은 SKT 사용자입니다.\n"
          ]
        }
      ]
    },
    {
      "cell_type": "code",
      "source": [
        "# 126\n",
        "user_input = input()\n",
        "우편번호 = user_input[:3]\n",
        "if 우편번호 in ['010','011','012']:\n",
        "    print('강북구')\n",
        "elif 우편번호 in ['013','014','015']:\n",
        "    print('도봉구')\n",
        "else:\n",
        "    print('노원구')"
      ],
      "metadata": {
        "colab": {
          "base_uri": "https://localhost:8080/"
        },
        "id": "Nn01GVZ3Wdf7",
        "outputId": "c80efd60-5a4d-49e9-e22f-bf980059263d"
      },
      "execution_count": null,
      "outputs": [
        {
          "output_type": "stream",
          "name": "stdout",
          "text": [
            "018\n",
            "노원구\n"
          ]
        }
      ]
    },
    {
      "cell_type": "code",
      "source": [
        "# 127\n",
        "user_input = input()\n",
        "if user_input[7] in ['1','3']:\n",
        "    print('남자')\n",
        "else:\n",
        "    print('여자')"
      ],
      "metadata": {
        "colab": {
          "base_uri": "https://localhost:8080/"
        },
        "id": "HUqGyRgbYJJk",
        "outputId": "845c021c-cd54-468e-f3f3-70d1da3e8700"
      },
      "execution_count": null,
      "outputs": [
        {
          "output_type": "stream",
          "name": "stdout",
          "text": [
            "222222-11\n",
            "남자\n"
          ]
        }
      ]
    },
    {
      "cell_type": "code",
      "source": [
        "# 127 다른 풀이\n",
        "주민번호 = input('주민등록번호:')\n",
        "주민번호 = 주민번호.split('-')[1]\n",
        "if 주민번호[0] == '1' or 주민번호[0] == '3':\n",
        "    print('남자')\n",
        "else:\n",
        "    print('여자')"
      ],
      "metadata": {
        "colab": {
          "base_uri": "https://localhost:8080/"
        },
        "id": "UAM8ze7GYopp",
        "outputId": "0f0562a6-12ce-4f2d-c843-efc3faf9eda3"
      },
      "execution_count": null,
      "outputs": [
        {
          "output_type": "stream",
          "name": "stdout",
          "text": [
            "주민등록번호:222222-1111111\n",
            "남자\n"
          ]
        }
      ]
    },
    {
      "cell_type": "code",
      "source": [
        "# 128\n",
        "주민번호 = input()\n",
        "주민번호 = 주민번호.split('-')[1]\n",
        "if 주민번호[-2] in ['00','01','02','03','04','05','06','07','08']:\n",
        "    print('서울입니다.')\n",
        "else:\n",
        "    print('서울이 아닙니다.')"
      ],
      "metadata": {
        "colab": {
          "base_uri": "https://localhost:8080/"
        },
        "id": "TRl55EClZgc_",
        "outputId": "6f8de4eb-916c-48da-e057-e57eb95949bf"
      },
      "execution_count": null,
      "outputs": [
        {
          "output_type": "stream",
          "name": "stdout",
          "text": [
            "222222-2222219\n",
            "서울이 아닙니다.\n"
          ]
        }
      ]
    },
    {
      "cell_type": "code",
      "source": [
        "# 128 다른 풀이\n",
        "주민번호 = input('주민등록번호:')\n",
        "뒷자리 = 주민번호.split('-')[1]\n",
        "if 0 <= int(뒷자리[1:3]) <= 8:\n",
        "    print('서울입니다.')\n",
        "else:\n",
        "    print('서울이 아닙니다.')"
      ],
      "metadata": {
        "id": "_ERU4VsGaNJK"
      },
      "execution_count": null,
      "outputs": []
    },
    {
      "cell_type": "code",
      "source": [
        "# 130\n",
        "import requests\n",
        "btc = requests.get(\"https://api.bithumb.com/public/ticker/\").json()['data']\n",
        "변동폭 = float(btc['max_price']) - float(btc['min_ㅇprice'])\n",
        "시가 = float(btc['opening_price'])\n",
        "최고가 = float(btc['max_price'])\n",
        "if (시가+변동폭) > 최고가:\n",
        "    print('상승장')\n",
        "else:\n",
        "    print('하락장')\n"
      ],
      "metadata": {
        "colab": {
          "base_uri": "https://localhost:8080/"
        },
        "id": "7vNtIMtvbP2Y",
        "outputId": "bba27bed-1b75-4a40-915e-a342609a559e"
      },
      "execution_count": null,
      "outputs": [
        {
          "output_type": "stream",
          "name": "stdout",
          "text": [
            "상승장\n"
          ]
        }
      ]
    },
    {
      "cell_type": "markdown",
      "source": [
        "# 08. 파이썬 반복문"
      ],
      "metadata": {
        "id": "qezH9XGRfT6K"
      }
    },
    {
      "cell_type": "markdown",
      "source": [
        "## for문(반복문)\n",
        "\n",
        "- 반복문의 기본 형태\n",
        "---\n",
        "- for (변수명) in (순회가능한객체,리스트):\n",
        "    - 여기서 '순회가능한객체'는 시퀀스자료형인 (문자열,리스트,튜플)\n",
        "- 수행 할 문장1\n",
        "- 수행 할 문장2\n",
        "---\n",
        "\n",
        "- 유용한 순회 가능한 객체\n",
        "  - range(), enumerate(), zip(), map(), filter(), sorted(), reversed()\n",
        "\n",
        "- range(start,stop,step) -> 마지막 요소가 종료값보다 한 단계적음\n",
        "\n",
        "\n",
        "\n"
      ],
      "metadata": {
        "id": "4gZ7rM9FfWDZ"
      }
    },
    {
      "cell_type": "code",
      "source": [
        "# 딕셔너리 key와 value 같이 순회\n",
        "\n",
        "data = {'사과':1000,'복숭아':2000}\n",
        "# 1)\n",
        "for i,j in data.items():\n",
        "    print(i,j)\n",
        "\n",
        "# 2)\n",
        "for i in data:\n",
        "    print(i,data[i])"
      ],
      "metadata": {
        "colab": {
          "base_uri": "https://localhost:8080/"
        },
        "id": "VF20R9fhenQ3",
        "outputId": "e6c9ab15-6cf7-4692-8c88-70ac6c607a57"
      },
      "execution_count": null,
      "outputs": [
        {
          "output_type": "stream",
          "name": "stdout",
          "text": [
            "사과 1000\n",
            "복숭아 2000\n"
          ]
        }
      ]
    },
    {
      "cell_type": "markdown",
      "source": [
        "- for, else\n",
        "    - 'else'는 'if'뿐만 아니라 for문에서도 else를 사용할 수 있다. else는 루프가 정상 종료 되었을 때, 처음부터 자료형이 비어있었을 때 실행 break문을 만나면 else문을 실행하지 않고 빠져나옴\n"
      ],
      "metadata": {
        "id": "90_C5gG2g1WU"
      }
    },
    {
      "cell_type": "code",
      "source": [
        "for i in range(10):\n",
        "    print(i)\n",
        "    if i == 5:\n",
        "        break"
      ],
      "metadata": {
        "colab": {
          "base_uri": "https://localhost:8080/"
        },
        "id": "YWpPUoufiCPQ",
        "outputId": "114dc6f4-033c-4132-fade-23f7d61c0036"
      },
      "execution_count": null,
      "outputs": [
        {
          "output_type": "stream",
          "name": "stdout",
          "text": [
            "0\n",
            "1\n",
            "2\n",
            "3\n",
            "4\n",
            "5\n"
          ]
        }
      ]
    },
    {
      "cell_type": "code",
      "source": [
        "# 반복문이 'break'를 쓰지 않고 정상 종료 되었을 때 else구문이 실행\n",
        "for i in range(10):\n",
        "    if i == 5:\n",
        "        pass\n",
        "    else:\n",
        "        print('정상종료')"
      ],
      "metadata": {
        "colab": {
          "base_uri": "https://localhost:8080/"
        },
        "id": "6pk1OcoBijJh",
        "outputId": "913a4496-03de-4194-e67a-8493d0b02846"
      },
      "execution_count": null,
      "outputs": [
        {
          "output_type": "stream",
          "name": "stdout",
          "text": [
            "정상종료\n",
            "정상종료\n",
            "정상종료\n",
            "정상종료\n",
            "정상종료\n",
            "정상종료\n",
            "정상종료\n",
            "정상종료\n",
            "정상종료\n"
          ]
        }
      ]
    },
    {
      "cell_type": "code",
      "source": [
        "# break를 쓰면 else는 작동되지 않는다.\n",
        "for i in range(10):\n",
        "    print(i)\n",
        "    if i == 5:\n",
        "        break\n",
        "    else:\n",
        "        print('정상종료')"
      ],
      "metadata": {
        "colab": {
          "base_uri": "https://localhost:8080/"
        },
        "id": "ObrBHFbMjG03",
        "outputId": "b3074fb1-d049-4d19-9124-2f7008139517"
      },
      "execution_count": null,
      "outputs": [
        {
          "output_type": "stream",
          "name": "stdout",
          "text": [
            "0\n",
            "정상종료\n",
            "1\n",
            "정상종료\n",
            "2\n",
            "정상종료\n",
            "3\n",
            "정상종료\n",
            "4\n",
            "정상종료\n",
            "5\n"
          ]
        }
      ]
    },
    {
      "cell_type": "code",
      "source": [
        "# 복습 # 3항 연산자\n",
        "x = 10\n",
        "'짝수' if x % 2 ==0 else '홀수'"
      ],
      "metadata": {
        "colab": {
          "base_uri": "https://localhost:8080/",
          "height": 36
        },
        "id": "AFdpG6ddjnYt",
        "outputId": "7224c5cc-ee6d-4d38-fc90-51ad316830b2"
      },
      "execution_count": null,
      "outputs": [
        {
          "output_type": "execute_result",
          "data": {
            "text/plain": [
              "'짝수'"
            ],
            "application/vnd.google.colaboratory.intrinsic+json": {
              "type": "string"
            }
          },
          "metadata": {},
          "execution_count": 115
        }
      ]
    },
    {
      "cell_type": "code",
      "source": [
        "result = []\n",
        "for i in range(10):\n",
        "    result.append(i)\n",
        "print(result)"
      ],
      "metadata": {
        "colab": {
          "base_uri": "https://localhost:8080/"
        },
        "id": "0FThZvU1j3Z-",
        "outputId": "27464e62-030a-4acb-d268-ad44d29ac633"
      },
      "execution_count": null,
      "outputs": [
        {
          "output_type": "stream",
          "name": "stdout",
          "text": [
            "[0, 1, 2, 3, 4, 5, 6, 7, 8, 9]\n"
          ]
        }
      ]
    },
    {
      "cell_type": "code",
      "source": [
        "# list comprehension\n",
        "[i for i in range(10)]\n",
        "[i for i in range(10) if i % 2 ==0]"
      ],
      "metadata": {
        "colab": {
          "base_uri": "https://localhost:8080/"
        },
        "id": "E7JYd3gekD5c",
        "outputId": "aa3ed4df-6645-4fc0-e6bb-172f765c6eda"
      },
      "execution_count": null,
      "outputs": [
        {
          "output_type": "execute_result",
          "data": {
            "text/plain": [
              "[0, 2, 4, 6, 8]"
            ]
          },
          "metadata": {},
          "execution_count": 118
        }
      ]
    },
    {
      "cell_type": "code",
      "source": [
        "result = []\n",
        "for i in range(10):\n",
        "    if i % 2 ==0:\n",
        "        result.append(i)\n",
        "print(result)"
      ],
      "metadata": {
        "colab": {
          "base_uri": "https://localhost:8080/"
        },
        "id": "GblV0pcNkZv7",
        "outputId": "f143e71c-812f-402b-c8fd-3639e75f1565"
      },
      "execution_count": null,
      "outputs": [
        {
          "output_type": "stream",
          "name": "stdout",
          "text": [
            "[0, 2, 4, 6, 8]\n"
          ]
        }
      ]
    },
    {
      "cell_type": "code",
      "source": [
        "# 다중리스트 순회\n",
        "skill = [('고기잡이',[1,100]),\n",
        "         ('고기팔기',[1,100]),\n",
        "         ('낚시',[2,100]),\n",
        "         ('통발',[2,100]),\n",
        "         ('큰그물',[2,100])]\n",
        "\n",
        "for i,[x,y] in skill:\n",
        "    print(i,x,y)"
      ],
      "metadata": {
        "colab": {
          "base_uri": "https://localhost:8080/"
        },
        "id": "G26RmpHmkhR-",
        "outputId": "e2a33629-5bdc-44b1-ef4b-4445ac8d683f"
      },
      "execution_count": null,
      "outputs": [
        {
          "output_type": "stream",
          "name": "stdout",
          "text": [
            "고기잡이 1 100\n",
            "고기팔기 1 100\n",
            "낚시 2 100\n",
            "통발 2 100\n",
            "큰그물 2 100\n"
          ]
        }
      ]
    },
    {
      "cell_type": "code",
      "source": [
        "# enumerate\n",
        "# enumerate는 순서를 매길 때 사용\n",
        "언어순위 = ['Python', 'JavaScript','Java','Django']\n",
        "for i,j in enumerate(언어순위,1):\n",
        "    print(i,j)"
      ],
      "metadata": {
        "colab": {
          "base_uri": "https://localhost:8080/"
        },
        "id": "zwkZobLglCJG",
        "outputId": "3aeca978-4092-4027-e38d-8a2c3e24ed3f"
      },
      "execution_count": null,
      "outputs": [
        {
          "output_type": "stream",
          "name": "stdout",
          "text": [
            "1 Python\n",
            "2 JavaScript\n",
            "3 Java\n",
            "4 Django\n"
          ]
        }
      ]
    },
    {
      "cell_type": "markdown",
      "source": [
        "### while구문\n",
        "  - while문은 조건이 참인 동안에 명령을 반복해서 수행 반복 할 명령은 들여쓰기로 구분되며 조건이 거짓이면 들여쓰기로 구분되어있는 반복구문을 탈출\n",
        "---\n",
        "- while문의 구조\n",
        "- while 조건문:\n",
        "- 수행 할 문장 1\n",
        "- 수행 할 문장 2\n",
        "---\n",
        "\n",
        "- 무한반복 while, break\n",
        " - while문의 조건을 부분에 bool형인 True가 오게 하면 반복문은 무한반복 되게 한다. 무한반복이 되면 프로그램 서비스가 죽기 때문에 break문으로 조건을 탈출하도록 설계해야한다.\n",
        "\n",
        "- while, else"
      ],
      "metadata": {
        "id": "8W5yAwBemH3Z"
      }
    },
    {
      "cell_type": "code",
      "source": [
        "# while\n",
        "a = 1\n",
        "while a < 10:\n",
        "    print(a)\n",
        "    a += 1\n",
        "# a = 10이 되면 조건이 '거짓'이 되므로 루프를 탈출"
      ],
      "metadata": {
        "colab": {
          "base_uri": "https://localhost:8080/"
        },
        "id": "1bEaq7y9lenL",
        "outputId": "130d9ec7-8860-452c-dbdf-4a290df7547e"
      },
      "execution_count": null,
      "outputs": [
        {
          "output_type": "stream",
          "name": "stdout",
          "text": [
            "1\n",
            "2\n",
            "3\n",
            "4\n",
            "5\n",
            "6\n",
            "7\n",
            "8\n",
            "9\n"
          ]
        }
      ]
    },
    {
      "cell_type": "code",
      "source": [
        "# 무한반복 while, break\n",
        "숫자 = 0\n",
        "while True:\n",
        "    print('현재 숫자는', 숫자, '입니다.')\n",
        "    숫자 += 1\n",
        "    if 숫자 > 5:\n",
        "        print('반복문을 종료합니다.')\n",
        "        break"
      ],
      "metadata": {
        "colab": {
          "base_uri": "https://localhost:8080/"
        },
        "id": "odJsEKQ4pgx7",
        "outputId": "6f9f8a68-e4c9-4478-80db-0f98427049dd"
      },
      "execution_count": null,
      "outputs": [
        {
          "output_type": "stream",
          "name": "stdout",
          "text": [
            "현재 숫자는 0 입니다.\n",
            "현재 숫자는 1 입니다.\n",
            "현재 숫자는 2 입니다.\n",
            "현재 숫자는 3 입니다.\n",
            "현재 숫자는 4 입니다.\n",
            "현재 숫자는 5 입니다.\n",
            "반복문을 종료합니다.\n"
          ]
        }
      ]
    },
    {
      "cell_type": "code",
      "source": [
        "# while, else\n",
        "숫자 = 0\n",
        "while 숫자 < 5:\n",
        "    print('현재 숫자는', 숫자, '입니다')\n",
        "    숫자 += 1\n",
        "else:\n",
        "    print('반복문을 종료합니다.')"
      ],
      "metadata": {
        "colab": {
          "base_uri": "https://localhost:8080/"
        },
        "id": "sdsDGjeLq0ea",
        "outputId": "2d38c612-a85e-4083-ebb3-15dcd4e27fcc"
      },
      "execution_count": null,
      "outputs": [
        {
          "output_type": "stream",
          "name": "stdout",
          "text": [
            "현재 숫자는 0 입니다\n",
            "현재 숫자는 1 입니다\n",
            "현재 숫자는 2 입니다\n",
            "현재 숫자는 3 입니다\n",
            "현재 숫자는 4 입니다\n",
            "반복문을 종료합니다.\n"
          ]
        }
      ]
    },
    {
      "cell_type": "code",
      "source": [
        "# while 특정요소\n",
        "# 특정요소가 모두 없어질 때가지\n",
        "l = [1,2,3]\n",
        "while l:\n",
        "    print(l.pop())"
      ],
      "metadata": {
        "colab": {
          "base_uri": "https://localhost:8080/"
        },
        "id": "xMKINYWBrtdf",
        "outputId": "a6abaa7b-c055-400e-abf2-9fedd94109e6"
      },
      "execution_count": null,
      "outputs": [
        {
          "output_type": "stream",
          "name": "stdout",
          "text": [
            "3\n",
            "2\n",
            "1\n"
          ]
        }
      ]
    },
    {
      "cell_type": "markdown",
      "source": [
        "### break 구문\n",
        "  - break 구문은 for or while문만 탈출\n",
        "\n",
        "---\n",
        "- while 조건:\n",
        "- 반복 실행 할 코드\n",
        "- if 조건:\n",
        "- break\n",
        "---\n",
        "---\n",
        "- for 변수 in 범위:\n",
        "- 반복 실행 할 코드\n",
        "- if 조건:\n",
        "- break\n",
        "---\n"
      ],
      "metadata": {
        "id": "svd4beCvtJm3"
      }
    },
    {
      "cell_type": "code",
      "source": [
        "for i in range(2,10):\n",
        "    for j in range(1,10):\n",
        "        if j > 5:\n",
        "            break\n",
        "        print(f'{i}x{j}={i*j}')"
      ],
      "metadata": {
        "id": "DKd_0ORjtFz5"
      },
      "execution_count": null,
      "outputs": []
    },
    {
      "cell_type": "markdown",
      "source": [
        "### continue, pass구문\n",
        "- continue문은 반복문이 실행하는 코드 블록의 나머지 부분을 실행하지 않고 다음 반복으로 건너가게 흐름을 조정\n",
        "\n",
        "- pass문은 단순히 실행 할 코드가 없다는 것을 의미하며 아무런 동작을 하지 않고 다음 코드 실행\n",
        "\n",
        "---\n",
        "- while:\n",
        "- 반복 실행 할 코드\n",
        "- if 조건:\n",
        "-     continue (while 다음 반복문 실행)\n",
        "- 반복 실행 할 코드 (continue 사용시 무시되는 코드)\n",
        "---\n",
        "\n",
        "---\n",
        "- for 변수 in 범위:\n",
        "-    반복실행할코드\n",
        "- if 조건:\n",
        "-    countinue (for문 다음 반복문 실행)\n",
        "- 반복실행할코드\n",
        "---\n",
        "\n",
        "- continue\n",
        "  - if 조건문에 해당하는 것이 True면 continue를 실행시켜 if 조건문에 해당하는 True는 넘어가게 됨\n",
        "\n",
        "- pass\n",
        "  - 신경 안쓰고 다 출력"
      ],
      "metadata": {
        "id": "htLmOl9tu1XL"
      }
    },
    {
      "cell_type": "markdown",
      "source": [
        "#### while ~ else\n",
        "- 여기서 else는 if의 else '그렇지 않으면' 이라는 의미보다 '그런 다음'이라는 의미가 강함\n",
        "\n",
        "---\n",
        "- while조건:\n",
        "-   반복실행할코드\n",
        "- else:\n",
        "- while 반복문이 모두 실행되어 종료되고 실행 할 코드\n",
        "---\n",
        "\n",
        "---\n",
        "- for 변수 in 범위:\n",
        "-     반복실행할코드\n",
        "- else:\n",
        "- for 반복문이 모두 실행되어 종료되고 실행 할 코드\n",
        "---"
      ],
      "metadata": {
        "id": "-fvDMS54v9UX"
      }
    },
    {
      "cell_type": "code",
      "source": [
        "# break를 썼을 때와 안썼을 때의 차이\n",
        "for i in range(5,0,-1):\n",
        "    print('고등어',i,'개 남았습니다.')\n",
        "else:\n",
        "    print('고등어 팔렸습니다.') # for반복문이 모두 실행되고 else 실행"
      ],
      "metadata": {
        "colab": {
          "base_uri": "https://localhost:8080/"
        },
        "id": "rorvdnXtuq5p",
        "outputId": "31cf3fa1-b2c3-440b-9e61-4e99a07d1b3f"
      },
      "execution_count": null,
      "outputs": [
        {
          "output_type": "stream",
          "name": "stdout",
          "text": [
            "고등어 5 개 남았습니다.\n",
            "고등어 4 개 남았습니다.\n",
            "고등어 3 개 남았습니다.\n",
            "고등어 2 개 남았습니다.\n",
            "고등어 1 개 남았습니다.\n",
            "고등어 팔렸습니다.\n"
          ]
        }
      ]
    },
    {
      "cell_type": "code",
      "source": [
        "for i in range(5,0,-1):\n",
        "    print('고등어',i,'개 남았습니다.')\n",
        "    if i == 1:\n",
        "        break # break를 쓰면 else는 실행되지 않음\n",
        "else:\n",
        "    print('고등어 다 팔렸습니다.')"
      ],
      "metadata": {
        "colab": {
          "base_uri": "https://localhost:8080/"
        },
        "id": "DOSTl5oTw9PV",
        "outputId": "a112facb-fef2-49e1-97fa-a426edbe527b"
      },
      "execution_count": null,
      "outputs": [
        {
          "output_type": "stream",
          "name": "stdout",
          "text": [
            "고등어 5 개 남았습니다.\n",
            "고등어 4 개 남았습니다.\n",
            "고등어 3 개 남았습니다.\n",
            "고등어 2 개 남았습니다.\n",
            "고등어 1 개 남았습니다.\n"
          ]
        }
      ]
    },
    {
      "cell_type": "code",
      "source": [
        "# 여기서 주의 !!\n",
        "# IF - else는!?!?!?!?!!?!?!\n",
        "# '그렇지 않으면' 이라는 의미로 조건이 거짓일 때 쓰임\n",
        "\n",
        "# if 조건:\n",
        "#     조건이 참일 경우 실행문\n",
        "# else:\n",
        "#     조건이 거짓일 경우 실행문"
      ],
      "metadata": {
        "id": "f3UUF_mRxUVV"
      },
      "execution_count": null,
      "outputs": []
    },
    {
      "cell_type": "code",
      "source": [
        "i = 2\n",
        "if i < 4:\n",
        "    print('i는 4보다 작습니다.')\n",
        "else:\n",
        "    print('i는 4보다 큽니다.')"
      ],
      "metadata": {
        "colab": {
          "base_uri": "https://localhost:8080/"
        },
        "id": "I9IIZGRixmQQ",
        "outputId": "5b3146ef-b98e-4463-f2cd-95c93e31647a"
      },
      "execution_count": null,
      "outputs": [
        {
          "output_type": "stream",
          "name": "stdout",
          "text": [
            "i는 4보다 작습니다.\n"
          ]
        }
      ]
    },
    {
      "cell_type": "markdown",
      "source": [
        "### try except else\n",
        "\n",
        "---\n",
        "- try:\n",
        "- 실행문\n",
        "- except:\n",
        "- 예외 발생시 처리문\n",
        "- else:\n",
        "- 예외 발생하지 않는 경우 실행문\n",
        "---\n"
      ],
      "metadata": {
        "id": "KPQIsOn4x1AR"
      }
    },
    {
      "cell_type": "code",
      "source": [
        "try:\n",
        "    i = 1\n",
        "    j = 1\n",
        "    x = i/j\n",
        "except:\n",
        "    print('error')\n",
        "else:\n",
        "    print(x) # 예외가 발생하지 않는 경우 실행문"
      ],
      "metadata": {
        "colab": {
          "base_uri": "https://localhost:8080/"
        },
        "id": "s7xVmeKbx_Qd",
        "outputId": "5d4dca94-177c-4462-f474-30d33a9fae2a"
      },
      "execution_count": null,
      "outputs": [
        {
          "output_type": "stream",
          "name": "stdout",
          "text": [
            "1.0\n"
          ]
        }
      ]
    },
    {
      "cell_type": "code",
      "source": [
        "# 유용한 순회 가능 객체\n",
        "def f(x):\n",
        "    return x > 15\n",
        "list(filter(f,[10,20,30,40]))"
      ],
      "metadata": {
        "colab": {
          "base_uri": "https://localhost:8080/"
        },
        "id": "OBWuQfKjyMsX",
        "outputId": "63c0c73c-8527-4330-db28-95944a040026"
      },
      "execution_count": null,
      "outputs": [
        {
          "output_type": "execute_result",
          "data": {
            "text/plain": [
              "[20, 30, 40]"
            ]
          },
          "metadata": {},
          "execution_count": 151
        }
      ]
    },
    {
      "cell_type": "code",
      "source": [
        "# true인것만 반환\n",
        "list(filter(None,[True,True,False,False]))"
      ],
      "metadata": {
        "colab": {
          "base_uri": "https://localhost:8080/"
        },
        "id": "zHth5ZgL0iSE",
        "outputId": "c57683e8-9fc9-4150-b4b5-2de40f792e02"
      },
      "execution_count": null,
      "outputs": [
        {
          "output_type": "execute_result",
          "data": {
            "text/plain": [
              "[True, True]"
            ]
          },
          "metadata": {},
          "execution_count": 152
        }
      ]
    },
    {
      "cell_type": "code",
      "source": [
        "list(filter(None,[[],'abc','',{}]))"
      ],
      "metadata": {
        "colab": {
          "base_uri": "https://localhost:8080/"
        },
        "id": "uZOtueMe015M",
        "outputId": "97d59584-075c-4c3e-eeae-17711835cc4e"
      },
      "execution_count": null,
      "outputs": [
        {
          "output_type": "execute_result",
          "data": {
            "text/plain": [
              "['abc']"
            ]
          },
          "metadata": {},
          "execution_count": 153
        }
      ]
    },
    {
      "cell_type": "code",
      "source": [
        "# 131\n",
        "과일 = [\"사과\", \"귤\", \"수박\"]\n",
        "for 변수 in 과일:\n",
        "    print(변수)\n",
        "# 사과\n",
        "# 귤\n",
        "# 수박"
      ],
      "metadata": {
        "colab": {
          "base_uri": "https://localhost:8080/"
        },
        "id": "jjQRNb7aOj2g",
        "outputId": "daa75a31-41df-4c55-bfdd-cbded8d565b5"
      },
      "execution_count": null,
      "outputs": [
        {
          "output_type": "stream",
          "name": "stdout",
          "text": [
            "사과\n",
            "귤\n",
            "수박\n"
          ]
        }
      ]
    },
    {
      "cell_type": "code",
      "source": [
        "# 132\n",
        "과일 = [\"사과\", \"귤\", \"수박\"]\n",
        "for 변수 in 과일:\n",
        "  print(\"#####\")"
      ],
      "metadata": {
        "colab": {
          "base_uri": "https://localhost:8080/"
        },
        "id": "pa0rvAIlO0FO",
        "outputId": "1f7e2166-3cd8-4795-e59e-7a8390305f1f"
      },
      "execution_count": null,
      "outputs": [
        {
          "output_type": "stream",
          "name": "stdout",
          "text": [
            "#####\n",
            "#####\n",
            "#####\n"
          ]
        }
      ]
    },
    {
      "cell_type": "code",
      "source": [
        "# 133\n",
        "for 변수 in [\"A\", \"B\", \"C\"]:\n",
        "  print(변수)"
      ],
      "metadata": {
        "colab": {
          "base_uri": "https://localhost:8080/"
        },
        "id": "E4Nqp__bO5HJ",
        "outputId": "fec8d51d-2fe7-4e3c-d26c-3ee760a9655e"
      },
      "execution_count": null,
      "outputs": [
        {
          "output_type": "stream",
          "name": "stdout",
          "text": [
            "A\n",
            "B\n",
            "C\n"
          ]
        }
      ]
    },
    {
      "cell_type": "code",
      "source": [
        "# 134\n",
        "for 변수 in [\"A\", \"B\", \"C\"]:\n",
        "  print(\"출력:\", 변수)"
      ],
      "metadata": {
        "colab": {
          "base_uri": "https://localhost:8080/"
        },
        "id": "C2rcwxI5PE3M",
        "outputId": "02458573-810a-454e-db69-2d7148e7d56a"
      },
      "execution_count": null,
      "outputs": [
        {
          "output_type": "stream",
          "name": "stdout",
          "text": [
            "출력: A\n",
            "출력: B\n",
            "출력: C\n"
          ]
        }
      ]
    },
    {
      "cell_type": "code",
      "source": [
        "# 134\n",
        "# for문을 풀어서 동일한 동작을 하는 코드를 작성하라\n",
        "변수 = \"A\"\n",
        "print('출력:',변수)\n",
        "변수 = \"B\"\n",
        "print('출력:',변수)\n",
        "변수 = \"C\"\n",
        "print('출력:',변수)"
      ],
      "metadata": {
        "colab": {
          "base_uri": "https://localhost:8080/"
        },
        "id": "J1aCdhpDPK68",
        "outputId": "e946d4eb-1a2d-45d5-f349-9be98a09f1bc"
      },
      "execution_count": null,
      "outputs": [
        {
          "output_type": "stream",
          "name": "stdout",
          "text": [
            "출력: A\n",
            "출력: B\n",
            "출력: C\n"
          ]
        }
      ]
    },
    {
      "cell_type": "code",
      "source": [
        "# 135\n",
        "for i in ['A','B','C']:\n",
        "    a = i.lower()\n",
        "    print('변환:',a)"
      ],
      "metadata": {
        "colab": {
          "base_uri": "https://localhost:8080/"
        },
        "id": "id9t_f1pPlaz",
        "outputId": "6cb7b3b6-d729-44fa-b2db-24b1ab0e2915"
      },
      "execution_count": null,
      "outputs": [
        {
          "output_type": "stream",
          "name": "stdout",
          "text": [
            "변환: a\n",
            "변환: b\n",
            "변환: c\n"
          ]
        }
      ]
    },
    {
      "cell_type": "code",
      "source": [
        "# 136 다음 코드를 for문으로 작성하라\n",
        "# 변수 = 10\n",
        "# print(변수)\n",
        "# 변수 = 20\n",
        "# print(변수)\n",
        "# 변수 = 30\n",
        "# print(변수)\n",
        "\n",
        "for i in [10,20,30]:\n",
        "    print('변수:',i)"
      ],
      "metadata": {
        "colab": {
          "base_uri": "https://localhost:8080/"
        },
        "id": "g-7TQLcgPz6N",
        "outputId": "b8869918-05fb-4cd5-97e0-2068ffe61d5b"
      },
      "execution_count": null,
      "outputs": [
        {
          "output_type": "stream",
          "name": "stdout",
          "text": [
            "변수: 10\n",
            "변수: 20\n",
            "변수: 30\n"
          ]
        }
      ]
    },
    {
      "cell_type": "code",
      "source": [
        "# 137 다음 코드를 for문으로 작성하라.\n",
        "# print(10)\n",
        "# print(20)\n",
        "# print(30)\n",
        "for i in [10,20,30]:\n",
        "    print(i)"
      ],
      "metadata": {
        "colab": {
          "base_uri": "https://localhost:8080/"
        },
        "id": "i4IDvokUQBvG",
        "outputId": "43f54829-ff68-4eff-d7c0-8d2aa3f6a5d9"
      },
      "execution_count": null,
      "outputs": [
        {
          "output_type": "stream",
          "name": "stdout",
          "text": [
            "10\n",
            "20\n",
            "30\n"
          ]
        }
      ]
    },
    {
      "cell_type": "code",
      "source": [
        "# 138 다음 코드를 for문으로 작성하라.\n",
        "for i in [10,20,30]:\n",
        "    print(i)\n",
        "    print('-------')"
      ],
      "metadata": {
        "colab": {
          "base_uri": "https://localhost:8080/"
        },
        "id": "6ABJsbVQQJUQ",
        "outputId": "d4e90b31-11ac-452f-c277-5c8a5831a74f"
      },
      "execution_count": null,
      "outputs": [
        {
          "output_type": "stream",
          "name": "stdout",
          "text": [
            "10\n",
            "-------\n",
            "20\n",
            "-------\n",
            "30\n",
            "-------\n"
          ]
        }
      ]
    },
    {
      "cell_type": "code",
      "source": [
        "# 139\n",
        "print('++++')\n",
        "for i in [10,20,30]:\n",
        "    print(i)"
      ],
      "metadata": {
        "colab": {
          "base_uri": "https://localhost:8080/"
        },
        "id": "2PheWUBwaOCk",
        "outputId": "9bac0861-2617-4c4b-99c8-31775cbf387b"
      },
      "execution_count": null,
      "outputs": [
        {
          "output_type": "stream",
          "name": "stdout",
          "text": [
            "++++\n",
            "10\n",
            "20\n",
            "30\n"
          ]
        }
      ]
    },
    {
      "cell_type": "code",
      "source": [
        "# 140\n",
        "for i in range(5):\n",
        "    print('-------')"
      ],
      "metadata": {
        "colab": {
          "base_uri": "https://localhost:8080/"
        },
        "id": "TjkDCOIgQWD4",
        "outputId": "b7713bf1-760a-411b-d1d4-dc9c808ade5a"
      },
      "execution_count": null,
      "outputs": [
        {
          "output_type": "stream",
          "name": "stdout",
          "text": [
            "-------\n",
            "-------\n",
            "-------\n",
            "-------\n",
            "-------\n"
          ]
        }
      ]
    },
    {
      "cell_type": "code",
      "source": [
        "# 141\n",
        "리스트 = [100, 200, 300]\n",
        "for i in 리스트:\n",
        "    print(i+10)"
      ],
      "metadata": {
        "colab": {
          "base_uri": "https://localhost:8080/"
        },
        "id": "czhGUdoIaIga",
        "outputId": "f8cd2e8a-8052-40be-df41-6ff849e44125"
      },
      "execution_count": null,
      "outputs": [
        {
          "output_type": "stream",
          "name": "stdout",
          "text": [
            "110\n",
            "210\n",
            "310\n"
          ]
        }
      ]
    },
    {
      "cell_type": "code",
      "source": [
        "# 142\n",
        "리스트 = [\"김밥\", \"라면\", \"튀김\"]\n",
        "for i in 리스트:\n",
        "    print('오늘의 메뉴:',i)"
      ],
      "metadata": {
        "colab": {
          "base_uri": "https://localhost:8080/"
        },
        "id": "OLMffkURbhuj",
        "outputId": "2cc4d46b-4641-4651-f026-b0d14cae9c95"
      },
      "execution_count": null,
      "outputs": [
        {
          "output_type": "stream",
          "name": "stdout",
          "text": [
            "오늘의 메뉴: 김밥\n",
            "오늘의 메뉴: 라면\n",
            "오늘의 메뉴: 튀김\n"
          ]
        }
      ]
    },
    {
      "cell_type": "code",
      "source": [
        "# 143\n",
        "리스트 = [\"SK하이닉스\", \"삼성전자\", \"LG전자\"]\n",
        "for i in 리스트:\n",
        "    print(len(i))"
      ],
      "metadata": {
        "colab": {
          "base_uri": "https://localhost:8080/"
        },
        "id": "sHSKNfOUboL5",
        "outputId": "b9e84606-61ee-4351-b1a2-5e2d2d1015da"
      },
      "execution_count": null,
      "outputs": [
        {
          "output_type": "stream",
          "name": "stdout",
          "text": [
            "6\n",
            "4\n",
            "4\n"
          ]
        }
      ]
    },
    {
      "cell_type": "code",
      "source": [
        "# 144\n",
        "리스트 = ['dog', 'cat', 'parrot']\n",
        "for i in 리스트:\n",
        "    print(i,len(i))"
      ],
      "metadata": {
        "colab": {
          "base_uri": "https://localhost:8080/"
        },
        "id": "mNguoV-Aetp3",
        "outputId": "863d1e44-a885-4d55-d645-09bc93676751"
      },
      "execution_count": null,
      "outputs": [
        {
          "output_type": "stream",
          "name": "stdout",
          "text": [
            "dog 3\n",
            "cat 3\n",
            "parrot 6\n"
          ]
        }
      ]
    },
    {
      "cell_type": "code",
      "source": [
        "# 145\n",
        "리스트 = ['dog', 'cat', 'parrot']\n",
        "for i in 리스트:\n",
        "    print(i[0])"
      ],
      "metadata": {
        "colab": {
          "base_uri": "https://localhost:8080/"
        },
        "id": "bNxUoIAqe_M-",
        "outputId": "a815bcc6-9a9c-4f13-9a57-ed79c1a424fb"
      },
      "execution_count": null,
      "outputs": [
        {
          "output_type": "stream",
          "name": "stdout",
          "text": [
            "d\n",
            "c\n",
            "p\n"
          ]
        }
      ]
    },
    {
      "cell_type": "code",
      "source": [
        "# 146\n",
        "리스트 = [1,2,3]\n",
        "for i in 리스트:\n",
        "    print('3 X',i)"
      ],
      "metadata": {
        "colab": {
          "base_uri": "https://localhost:8080/"
        },
        "id": "f_tGaf2XfbGc",
        "outputId": "0e0a06ad-2493-4462-c071-5fbae3074dd3"
      },
      "execution_count": null,
      "outputs": [
        {
          "output_type": "stream",
          "name": "stdout",
          "text": [
            "3 X 1\n",
            "3 X 2\n",
            "3 X 3\n"
          ]
        }
      ]
    },
    {
      "cell_type": "code",
      "source": [
        "# 147\n",
        "리스트 = [1,2,3]\n",
        "for i in 리스트:\n",
        "    print('3 X',i,'=',3*i)"
      ],
      "metadata": {
        "colab": {
          "base_uri": "https://localhost:8080/"
        },
        "id": "BDYi3lDdgVek",
        "outputId": "4c04042f-cced-48bc-9723-3f129d52e7bb"
      },
      "execution_count": null,
      "outputs": [
        {
          "output_type": "stream",
          "name": "stdout",
          "text": [
            "3 X 1 = 3\n",
            "3 X 2 = 6\n",
            "3 X 3 = 9\n"
          ]
        }
      ]
    },
    {
      "cell_type": "code",
      "source": [
        "# 147\n",
        "리스트 = [1,2,3]\n",
        "for i in 리스트:\n",
        "    print('3 x {} = {}'.format(i,3*i))"
      ],
      "metadata": {
        "colab": {
          "base_uri": "https://localhost:8080/"
        },
        "id": "mzuluI1xgjGB",
        "outputId": "0063cb12-00c6-4da7-e9ac-bb743e94010e"
      },
      "execution_count": null,
      "outputs": [
        {
          "output_type": "stream",
          "name": "stdout",
          "text": [
            "3 x 1 = 3\n",
            "3 x 2 = 6\n",
            "3 x 3 = 9\n"
          ]
        }
      ]
    },
    {
      "cell_type": "code",
      "source": [
        "# 147\n",
        "리스트 = [1,2,3]\n",
        "for i in 리스트:\n",
        "    print(f'3 x {i} = {3*i}')"
      ],
      "metadata": {
        "colab": {
          "base_uri": "https://localhost:8080/"
        },
        "id": "8PagMPXOg-Un",
        "outputId": "c7f7c052-fcb8-4397-966b-e264167c8bb3"
      },
      "execution_count": null,
      "outputs": [
        {
          "output_type": "stream",
          "name": "stdout",
          "text": [
            "3 x 1 = 3\n",
            "3 x 2 = 6\n",
            "3 x 3 = 9\n"
          ]
        }
      ]
    },
    {
      "cell_type": "code",
      "source": [
        "# 148\n",
        "리스트 = [\"가\", \"나\", \"다\", \"라\"]\n",
        "for i in 리스트[1:]:\n",
        "    print(i)"
      ],
      "metadata": {
        "colab": {
          "base_uri": "https://localhost:8080/"
        },
        "id": "0ppgRyYahGEt",
        "outputId": "f513cdb9-2541-47b2-b31b-e0f404d457b6"
      },
      "execution_count": null,
      "outputs": [
        {
          "output_type": "stream",
          "name": "stdout",
          "text": [
            "나\n",
            "다\n",
            "라\n"
          ]
        }
      ]
    },
    {
      "cell_type": "code",
      "source": [
        "# 149\n",
        "리스트 = [\"가\", \"나\", \"다\", \"라\"]\n",
        "for i in 리스트[::2]:\n",
        "    print(i)"
      ],
      "metadata": {
        "colab": {
          "base_uri": "https://localhost:8080/"
        },
        "id": "7_n77R9CmFLX",
        "outputId": "d00d4bb4-d3ff-4764-fea3-14289b8090da"
      },
      "execution_count": null,
      "outputs": [
        {
          "output_type": "stream",
          "name": "stdout",
          "text": [
            "가\n",
            "다\n"
          ]
        }
      ]
    },
    {
      "cell_type": "code",
      "source": [
        "# 150\n",
        "리스트 = [\"가\", \"나\", \"다\", \"라\"]\n",
        "for i in 리스트[::-1]:\n",
        "    print(i)"
      ],
      "metadata": {
        "colab": {
          "base_uri": "https://localhost:8080/"
        },
        "id": "jQM0zhtgni3t",
        "outputId": "5a5b5c62-7372-491d-c20d-76cd879a1140"
      },
      "execution_count": null,
      "outputs": [
        {
          "output_type": "stream",
          "name": "stdout",
          "text": [
            "라\n",
            "다\n",
            "나\n",
            "가\n"
          ]
        }
      ]
    },
    {
      "cell_type": "code",
      "source": [
        "# 151\n",
        "리스트 = [3, -20, -3, 44]\n",
        "for i in 리스트[1:3]:\n",
        "    print(i)"
      ],
      "metadata": {
        "colab": {
          "base_uri": "https://localhost:8080/"
        },
        "id": "YlUUIKVdnw8k",
        "outputId": "80c2bc69-ced3-444c-de4a-221c0da2aaa1"
      },
      "execution_count": null,
      "outputs": [
        {
          "output_type": "stream",
          "name": "stdout",
          "text": [
            "-20\n",
            "-3\n"
          ]
        }
      ]
    },
    {
      "cell_type": "code",
      "source": [
        "리스트 = [3, -20, -3, 44]\n",
        "for i in 리스트:\n",
        "    if i < 0:\n",
        "        print(i)"
      ],
      "metadata": {
        "colab": {
          "base_uri": "https://localhost:8080/"
        },
        "id": "82-ilTOAoC3J",
        "outputId": "c8d0be50-178f-4565-8195-09a4be9242fd"
      },
      "execution_count": null,
      "outputs": [
        {
          "output_type": "stream",
          "name": "stdout",
          "text": [
            "-20\n",
            "-3\n"
          ]
        }
      ]
    },
    {
      "cell_type": "code",
      "source": [
        "# 152\n",
        "리스트 = [3, 100, 23, 44]\n",
        "for i in 리스트:\n",
        "    if i % 3 ==0:\n",
        "        print(i)"
      ],
      "metadata": {
        "colab": {
          "base_uri": "https://localhost:8080/"
        },
        "id": "NbKPBWDGoM89",
        "outputId": "0ccf375d-eb21-4e9c-c5e0-13050140a4f5"
      },
      "execution_count": null,
      "outputs": [
        {
          "output_type": "stream",
          "name": "stdout",
          "text": [
            "3\n"
          ]
        }
      ]
    },
    {
      "cell_type": "code",
      "source": [
        "# 153\n",
        "리스트 = [13, 21, 12, 14, 30, 18]\n",
        "for i in 리스트:\n",
        "    if i % 3 == 0 and i < 20:\n",
        "        print(i)"
      ],
      "metadata": {
        "colab": {
          "base_uri": "https://localhost:8080/"
        },
        "id": "A6G4SIGHoYiF",
        "outputId": "be08021d-5e9a-403d-ee2a-9e48bb3aabed"
      },
      "execution_count": null,
      "outputs": [
        {
          "output_type": "stream",
          "name": "stdout",
          "text": [
            "12\n",
            "18\n"
          ]
        }
      ]
    },
    {
      "cell_type": "code",
      "source": [
        "# 154\n",
        "리스트 = [\"I\", \"study\", \"python\", \"language\", \"!\"]\n",
        "for i in 리스트:\n",
        "    if len(i) >= 3:\n",
        "        print(i)"
      ],
      "metadata": {
        "colab": {
          "base_uri": "https://localhost:8080/"
        },
        "id": "kmpVnW57pZK-",
        "outputId": "bf9d6cd3-4b01-4c91-d533-502b0e3cff90"
      },
      "execution_count": null,
      "outputs": [
        {
          "output_type": "stream",
          "name": "stdout",
          "text": [
            "study\n",
            "python\n",
            "language\n"
          ]
        }
      ]
    },
    {
      "cell_type": "code",
      "source": [
        "# 155\n",
        "리스트 = [\"A\", \"b\", \"c\", \"D\"]\n",
        "for i in 리스트:\n",
        "    if i.isupper():\n",
        "        print(i)"
      ],
      "metadata": {
        "colab": {
          "base_uri": "https://localhost:8080/"
        },
        "id": "BOoWUp93poPg",
        "outputId": "b81b5e8a-a7ce-4d59-a084-983469ab6acc"
      },
      "execution_count": null,
      "outputs": [
        {
          "output_type": "stream",
          "name": "stdout",
          "text": [
            "A\n",
            "D\n"
          ]
        }
      ]
    },
    {
      "cell_type": "code",
      "source": [
        "# 156\n",
        "리스트 = [\"A\", \"b\", \"c\", \"D\"]\n",
        "for i in 리스트:\n",
        "    if i.islower():\n",
        "        print(i)"
      ],
      "metadata": {
        "colab": {
          "base_uri": "https://localhost:8080/"
        },
        "id": "0_ZcSjpbqGR_",
        "outputId": "9f7b6764-9927-4400-a799-3f634609aae9"
      },
      "execution_count": null,
      "outputs": [
        {
          "output_type": "stream",
          "name": "stdout",
          "text": [
            "b\n",
            "c\n"
          ]
        }
      ]
    },
    {
      "cell_type": "code",
      "source": [
        "# 157\n",
        "리스트 = ['dog', 'cat', 'parrot']\n",
        "for i in 리스트:\n",
        "    print(i[0].upper() + i[1:])"
      ],
      "metadata": {
        "colab": {
          "base_uri": "https://localhost:8080/"
        },
        "id": "eV5JoQiyqZkB",
        "outputId": "113d57f2-0306-435b-8dbd-0411c9b313bc"
      },
      "execution_count": null,
      "outputs": [
        {
          "output_type": "stream",
          "name": "stdout",
          "text": [
            "Dog\n",
            "Cat\n",
            "Parrot\n"
          ]
        }
      ]
    },
    {
      "cell_type": "code",
      "source": [
        "# 158\n",
        "리스트 = ['hello.py', 'ex01.py', 'intro.hwp']\n",
        "for i in 리스트:\n",
        "    print(i.split('.')[0])"
      ],
      "metadata": {
        "colab": {
          "base_uri": "https://localhost:8080/"
        },
        "id": "jQCF-hEcrB7X",
        "outputId": "7d50c67b-a40a-404a-af56-8f895ce9718d"
      },
      "execution_count": null,
      "outputs": [
        {
          "output_type": "stream",
          "name": "stdout",
          "text": [
            "hello\n",
            "ex01\n",
            "intro\n"
          ]
        }
      ]
    },
    {
      "cell_type": "code",
      "source": [
        "# 159\n",
        "리스트 = ['intra.h', 'intra.c', 'define.h', 'run.py']\n",
        "for i in 리스트:\n",
        "    if i.split('.')[1] == 'h':\n",
        "        print(i)"
      ],
      "metadata": {
        "colab": {
          "base_uri": "https://localhost:8080/"
        },
        "id": "Ugb56hFXrXIp",
        "outputId": "da574ec6-9c9e-4c90-b6b6-29dfd243b24f"
      },
      "execution_count": null,
      "outputs": [
        {
          "output_type": "stream",
          "name": "stdout",
          "text": [
            "intra.h\n",
            "define.h\n"
          ]
        }
      ]
    },
    {
      "cell_type": "code",
      "source": [
        "# 160\n",
        "리스트 = ['intra.h', 'intra.c', 'define.h', 'run.py']\n",
        "for i in 리스트:\n",
        "    if i.split('.')[1] == 'h' or i.split('.')[1] =='c':\n",
        "        print(i)"
      ],
      "metadata": {
        "colab": {
          "base_uri": "https://localhost:8080/"
        },
        "id": "O7-4ApLLr5bH",
        "outputId": "77fd5cd0-3e30-47bf-d5d1-ff2a4bf73032"
      },
      "execution_count": null,
      "outputs": [
        {
          "output_type": "stream",
          "name": "stdout",
          "text": [
            "intra.h\n",
            "intra.c\n",
            "define.h\n"
          ]
        }
      ]
    },
    {
      "cell_type": "code",
      "source": [
        "# 160\n",
        "리스트 = ['intra.h', 'intra.c', 'define.h', 'run.py']\n",
        "for i in 리스트:\n",
        "    split = i.split('.')\n",
        "    if split[1] =='h' or split[1] =='c':\n",
        "        print(i)"
      ],
      "metadata": {
        "colab": {
          "base_uri": "https://localhost:8080/"
        },
        "id": "BkONc4JPsp2T",
        "outputId": "867f0c2c-034c-42e1-f8e9-8c69cb15cc80"
      },
      "execution_count": null,
      "outputs": [
        {
          "output_type": "stream",
          "name": "stdout",
          "text": [
            "intra.h\n",
            "intra.c\n",
            "define.h\n"
          ]
        }
      ]
    },
    {
      "cell_type": "code",
      "source": [
        "# 161\n",
        "for i in range(100):\n",
        "    print(i)"
      ],
      "metadata": {
        "id": "ykLfMTsXs0Hd"
      },
      "execution_count": null,
      "outputs": []
    },
    {
      "cell_type": "code",
      "source": [
        "# 162\n",
        "for i in range(2002,2051,4):\n",
        "    print(i)"
      ],
      "metadata": {
        "colab": {
          "base_uri": "https://localhost:8080/"
        },
        "id": "P0YjL9Kfukp2",
        "outputId": "bbbd185d-d4f2-4b25-812e-cae8a40975be"
      },
      "execution_count": null,
      "outputs": [
        {
          "output_type": "stream",
          "name": "stdout",
          "text": [
            "2002\n",
            "2006\n",
            "2010\n",
            "2014\n",
            "2018\n",
            "2022\n",
            "2026\n",
            "2030\n",
            "2034\n",
            "2038\n",
            "2042\n",
            "2046\n",
            "2050\n"
          ]
        }
      ]
    },
    {
      "cell_type": "code",
      "source": [
        "# 163\n",
        "for i in range(1,31):\n",
        "    if i % 3 ==0:\n",
        "        print(i)"
      ],
      "metadata": {
        "colab": {
          "base_uri": "https://localhost:8080/"
        },
        "id": "pabgi5EQuuqM",
        "outputId": "445f8c35-f0f3-43f7-e406-800480380e8c"
      },
      "execution_count": null,
      "outputs": [
        {
          "output_type": "stream",
          "name": "stdout",
          "text": [
            "3\n",
            "6\n",
            "9\n",
            "12\n",
            "15\n",
            "18\n",
            "21\n",
            "24\n",
            "27\n",
            "30\n"
          ]
        }
      ]
    },
    {
      "cell_type": "code",
      "source": [
        "for i in range(3,31,3):\n",
        "        print(i)"
      ],
      "metadata": {
        "colab": {
          "base_uri": "https://localhost:8080/"
        },
        "id": "KVzF1FV3w5cd",
        "outputId": "6053d812-a36e-4a59-c389-4f7581bcdc39"
      },
      "execution_count": null,
      "outputs": [
        {
          "output_type": "stream",
          "name": "stdout",
          "text": [
            "3\n",
            "6\n",
            "9\n",
            "12\n",
            "15\n",
            "18\n",
            "21\n",
            "24\n",
            "27\n",
            "30\n"
          ]
        }
      ]
    },
    {
      "cell_type": "code",
      "source": [
        "# 164\n",
        "result = []\n",
        "for i in range(99,-1,-1):\n",
        "    result.append(i)\n",
        "print(result)"
      ],
      "metadata": {
        "colab": {
          "base_uri": "https://localhost:8080/"
        },
        "id": "-P4oKiPgw-k0",
        "outputId": "a8a61c69-f537-476a-d9de-fad151a2360d"
      },
      "execution_count": null,
      "outputs": [
        {
          "output_type": "stream",
          "name": "stdout",
          "text": [
            "[99, 98, 97, 96, 95, 94, 93, 92, 91, 90, 89, 88, 87, 86, 85, 84, 83, 82, 81, 80, 79, 78, 77, 76, 75, 74, 73, 72, 71, 70, 69, 68, 67, 66, 65, 64, 63, 62, 61, 60, 59, 58, 57, 56, 55, 54, 53, 52, 51, 50, 49, 48, 47, 46, 45, 44, 43, 42, 41, 40, 39, 38, 37, 36, 35, 34, 33, 32, 31, 30, 29, 28, 27, 26, 25, 24, 23, 22, 21, 20, 19, 18, 17, 16, 15, 14, 13, 12, 11, 10, 9, 8, 7, 6, 5, 4, 3, 2, 1, 0]\n"
          ]
        }
      ]
    },
    {
      "cell_type": "code",
      "source": [
        "# 164\n",
        "for i in range(100):\n",
        "    print(99 - i)"
      ],
      "metadata": {
        "id": "p5sOpjmTxUN6"
      },
      "execution_count": null,
      "outputs": []
    },
    {
      "cell_type": "code",
      "source": [
        "# 165\n",
        "for i in range(10):\n",
        "    print('0.' + str(i))"
      ],
      "metadata": {
        "colab": {
          "base_uri": "https://localhost:8080/"
        },
        "id": "ogxposgRxeCs",
        "outputId": "2b7c05be-91cb-4f45-8538-0206510d6a81"
      },
      "execution_count": null,
      "outputs": [
        {
          "output_type": "stream",
          "name": "stdout",
          "text": [
            "0.0\n",
            "0.1\n",
            "0.2\n",
            "0.3\n",
            "0.4\n",
            "0.5\n",
            "0.6\n",
            "0.7\n",
            "0.8\n",
            "0.9\n"
          ]
        }
      ]
    },
    {
      "cell_type": "code",
      "source": [
        "# 165\n",
        "for i in range(10):\n",
        "    print(i/10)"
      ],
      "metadata": {
        "colab": {
          "base_uri": "https://localhost:8080/"
        },
        "id": "XaM3Micsx31F",
        "outputId": "65ec5495-f724-4f41-ff6d-6e9e58133025"
      },
      "execution_count": null,
      "outputs": [
        {
          "output_type": "stream",
          "name": "stdout",
          "text": [
            "0.0\n",
            "0.1\n",
            "0.2\n",
            "0.3\n",
            "0.4\n",
            "0.5\n",
            "0.6\n",
            "0.7\n",
            "0.8\n",
            "0.9\n"
          ]
        }
      ]
    },
    {
      "cell_type": "code",
      "source": [
        "# 166\n",
        "for i in range(1,10):\n",
        "    print(f'3 x',i,'=',3*i)"
      ],
      "metadata": {
        "colab": {
          "base_uri": "https://localhost:8080/"
        },
        "id": "BALxe4Box_wQ",
        "outputId": "c4bf9e97-fdb5-4534-9f33-721c3cbefec9"
      },
      "execution_count": null,
      "outputs": [
        {
          "output_type": "stream",
          "name": "stdout",
          "text": [
            "3 x 1 = 3\n",
            "3 x 2 = 6\n",
            "3 x 3 = 9\n",
            "3 x 4 = 12\n",
            "3 x 5 = 15\n",
            "3 x 6 = 18\n",
            "3 x 7 = 21\n",
            "3 x 8 = 24\n",
            "3 x 9 = 27\n"
          ]
        }
      ]
    },
    {
      "cell_type": "code",
      "source": [
        "# 167\n",
        "for i in range(1,10):\n",
        "    if i % 2 != 0:\n",
        "        print(f'3 x',i,'=',i*3)"
      ],
      "metadata": {
        "colab": {
          "base_uri": "https://localhost:8080/"
        },
        "id": "8sN4aW3qygTG",
        "outputId": "6f510b97-d99f-488a-ce22-33d6b3b7fd31"
      },
      "execution_count": null,
      "outputs": [
        {
          "output_type": "stream",
          "name": "stdout",
          "text": [
            "3 x 1 = 3\n",
            "3 x 3 = 9\n",
            "3 x 5 = 15\n",
            "3 x 7 = 21\n",
            "3 x 9 = 27\n"
          ]
        }
      ]
    },
    {
      "cell_type": "code",
      "source": [
        "# 168\n",
        "count = 0 # count라는 변수에 0을 저장\n",
        "for i in range(1,11):\n",
        "    count += i # for문을 통해 모든 값에 대해 누적\n",
        "print(count)"
      ],
      "metadata": {
        "colab": {
          "base_uri": "https://localhost:8080/"
        },
        "id": "7LWmxe1mzJTA",
        "outputId": "e857692f-80c4-4530-e225-abef16b34fc5"
      },
      "execution_count": null,
      "outputs": [
        {
          "output_type": "stream",
          "name": "stdout",
          "text": [
            "55\n"
          ]
        }
      ]
    },
    {
      "cell_type": "code",
      "source": [
        "# 169\n",
        "count = 0\n",
        "for i in range(1,11):\n",
        "    if i % 2 ==1: # i%3 ==0 홀수가 아니야 ! 주의\n",
        "        count += i\n",
        "print(count)"
      ],
      "metadata": {
        "colab": {
          "base_uri": "https://localhost:8080/"
        },
        "id": "PSbQsahU0iRV",
        "outputId": "a01352ed-bba3-4720-fdc0-fad4bc32826e"
      },
      "execution_count": null,
      "outputs": [
        {
          "output_type": "stream",
          "name": "stdout",
          "text": [
            "25\n"
          ]
        }
      ]
    },
    {
      "cell_type": "code",
      "source": [
        "# 170\n",
        "count = 1 # 곱하기니까 1부터 주의!\n",
        "for i in range(1,11):\n",
        "    count *= i\n",
        "print(count)"
      ],
      "metadata": {
        "colab": {
          "base_uri": "https://localhost:8080/"
        },
        "id": "XQCCqBmQ19Oq",
        "outputId": "2c4027d4-25c8-4251-f73e-be5b16ac81a0"
      },
      "execution_count": null,
      "outputs": [
        {
          "output_type": "stream",
          "name": "stdout",
          "text": [
            "3628800\n"
          ]
        }
      ]
    },
    {
      "cell_type": "code",
      "source": [
        "# 171\n",
        "price_list = [32100, 32150, 32000, 32500]\n",
        "for i in price_list:\n",
        "    print(i)"
      ],
      "metadata": {
        "colab": {
          "base_uri": "https://localhost:8080/"
        },
        "id": "QQgsLEG92fDf",
        "outputId": "c083d5e7-cf00-442b-da93-bbdc08a47ca2"
      },
      "execution_count": null,
      "outputs": [
        {
          "output_type": "stream",
          "name": "stdout",
          "text": [
            "32100\n",
            "32150\n",
            "32000\n",
            "32500\n"
          ]
        }
      ]
    },
    {
      "cell_type": "code",
      "source": [
        "# 172\n",
        "price_list = [32100, 32150, 32000, 32500]\n",
        "for i,j in enumerate(price_list):\n",
        "    print(i,j)"
      ],
      "metadata": {
        "colab": {
          "base_uri": "https://localhost:8080/"
        },
        "id": "mDHZv61_2rp8",
        "outputId": "034373e1-f91b-40da-a2b3-1a9a42a58f24"
      },
      "execution_count": null,
      "outputs": [
        {
          "output_type": "stream",
          "name": "stdout",
          "text": [
            "0 32100\n",
            "1 32150\n",
            "2 32000\n",
            "3 32500\n"
          ]
        }
      ]
    },
    {
      "cell_type": "code",
      "source": [
        "# 173\n",
        "price_list = [32100, 32150, 32000, 32500]\n",
        "for i,j in enumerate(price_list):\n",
        "    print(3-i,j)"
      ],
      "metadata": {
        "colab": {
          "base_uri": "https://localhost:8080/"
        },
        "id": "KBG662GD26As",
        "outputId": "37599048-5d13-4038-e14c-1e89fdb23a24"
      },
      "execution_count": null,
      "outputs": [
        {
          "output_type": "stream",
          "name": "stdout",
          "text": [
            "3 32100\n",
            "2 32150\n",
            "1 32000\n",
            "0 32500\n"
          ]
        }
      ]
    },
    {
      "cell_type": "code",
      "source": [
        "# 174\n",
        "price_list = [32100, 32150, 32000, 32500]\n",
        "for i in range(1,4):\n",
        "    print(90+i*10,price_list[i])"
      ],
      "metadata": {
        "colab": {
          "base_uri": "https://localhost:8080/"
        },
        "id": "c8_vRNfC3jUR",
        "outputId": "9af89d29-37bd-4895-ec39-f96c988b5cff"
      },
      "execution_count": null,
      "outputs": [
        {
          "output_type": "stream",
          "name": "stdout",
          "text": [
            "100 32150\n",
            "110 32000\n",
            "120 32500\n"
          ]
        }
      ]
    },
    {
      "cell_type": "code",
      "source": [
        "# 175\n",
        "my_list = [\"가\", \"나\", \"다\", \"라\"]\n",
        "for i in range(1, len(my_list)):\n",
        "    print(my_list[i-1],my_list[i])"
      ],
      "metadata": {
        "colab": {
          "base_uri": "https://localhost:8080/"
        },
        "id": "0Oy7-kQD4jEd",
        "outputId": "e286253e-8ac7-4b10-8c1e-e591032e295a"
      },
      "execution_count": null,
      "outputs": [
        {
          "output_type": "stream",
          "name": "stdout",
          "text": [
            "가 나\n",
            "나 다\n",
            "다 라\n"
          ]
        }
      ]
    },
    {
      "cell_type": "code",
      "source": [
        "# 176\n",
        "my_list = [\"가\", \"나\", \"다\", \"라\", \"마\"]\n",
        "for i in range(2, len(my_list)):\n",
        "    print(my_list[i-2], my_list[i-1], my_list[i])"
      ],
      "metadata": {
        "colab": {
          "base_uri": "https://localhost:8080/"
        },
        "id": "WCSlhFWQ8AEg",
        "outputId": "5b91f10c-8049-4d1d-cf7c-fa1fdbf9833c"
      },
      "execution_count": null,
      "outputs": [
        {
          "output_type": "stream",
          "name": "stdout",
          "text": [
            "가 나 다\n",
            "나 다 라\n",
            "다 라 마\n"
          ]
        }
      ]
    },
    {
      "cell_type": "code",
      "source": [
        "# 177\n",
        "my_list = [\"가\", \"나\", \"다\", \"라\"]\n",
        "for i in range(len(my_list) -1,0,-1):\n",
        "    print(my_list[i], my_list[i-1])"
      ],
      "metadata": {
        "colab": {
          "base_uri": "https://localhost:8080/"
        },
        "id": "lhtxNxSr8dbK",
        "outputId": "c2712a13-d76e-460e-f363-e6849f88fc87"
      },
      "execution_count": null,
      "outputs": [
        {
          "output_type": "stream",
          "name": "stdout",
          "text": [
            "라 다\n",
            "다 나\n",
            "나 가\n"
          ]
        }
      ]
    },
    {
      "cell_type": "code",
      "source": [
        "my_list = [\"가\", \"나\", \"다\", \"라\"]\n",
        "for i in [3,2,1]:\n",
        "    print(my_list[i],my_list[i-1])"
      ],
      "metadata": {
        "colab": {
          "base_uri": "https://localhost:8080/"
        },
        "id": "seo_6PPd-R5J",
        "outputId": "a3c51129-9a93-4bf1-8fbe-ec0ce25837c9"
      },
      "execution_count": null,
      "outputs": [
        {
          "output_type": "stream",
          "name": "stdout",
          "text": [
            "라 다\n",
            "다 나\n",
            "나 가\n"
          ]
        }
      ]
    },
    {
      "cell_type": "code",
      "source": [
        "# 178\n",
        "my_list = [100, 200, 400, 800]\n",
        "for i in range(1, len(my_list)):\n",
        "    print(my_list[i]-my_list[i-1])"
      ],
      "metadata": {
        "colab": {
          "base_uri": "https://localhost:8080/"
        },
        "id": "cKxOc475ATjl",
        "outputId": "e87759b6-f12b-4d45-a7ea-6139e9710555"
      },
      "execution_count": null,
      "outputs": [
        {
          "output_type": "stream",
          "name": "stdout",
          "text": [
            "100\n",
            "200\n",
            "400\n"
          ]
        }
      ]
    },
    {
      "cell_type": "code",
      "source": [
        "my_list = [100, 200, 400, 800]\n",
        "for i in [1,2,3]:\n",
        "    print(my_list[i]-my_list[i-1])"
      ],
      "metadata": {
        "colab": {
          "base_uri": "https://localhost:8080/"
        },
        "id": "k6tAKXQ3A0DH",
        "outputId": "fe6819e0-4081-42dd-8280-f7a690148289"
      },
      "execution_count": null,
      "outputs": [
        {
          "output_type": "stream",
          "name": "stdout",
          "text": [
            "100\n",
            "200\n",
            "400\n"
          ]
        }
      ]
    },
    {
      "cell_type": "code",
      "source": [
        "# 179\n",
        "my_list = [100, 200, 400, 800, 1000, 1300]\n",
        "for i in range(2,len(my_list)):\n",
        "    print(my_list[i-2] + my_list[i-1] + my_list[i] / 3 )"
      ],
      "metadata": {
        "colab": {
          "base_uri": "https://localhost:8080/"
        },
        "id": "taadMCioA6V4",
        "outputId": "312f93c2-9c30-4387-f4c0-23c28f26ba4e"
      },
      "execution_count": null,
      "outputs": [
        {
          "output_type": "stream",
          "name": "stdout",
          "text": [
            "433.33333333333337\n",
            "866.6666666666667\n",
            "1533.3333333333333\n",
            "2233.3333333333335\n"
          ]
        }
      ]
    },
    {
      "cell_type": "code",
      "source": [
        "for i in range(1, len(my_list) - 1):\n",
        "    print(abs(my_list[i-1] + my_list[i] + my_list[i+1]) / 3)"
      ],
      "metadata": {
        "colab": {
          "base_uri": "https://localhost:8080/"
        },
        "id": "OWHOMwZXCHNt",
        "outputId": "797864b2-74c1-499e-ca7f-eed3d00f529f"
      },
      "execution_count": null,
      "outputs": [
        {
          "output_type": "stream",
          "name": "stdout",
          "text": [
            "233.33333333333334\n",
            "466.6666666666667\n",
            "733.3333333333334\n",
            "1033.3333333333333\n"
          ]
        }
      ]
    },
    {
      "cell_type": "code",
      "source": [
        "# 180\n",
        "low_prices  = [100, 200, 400, 800, 1000]\n",
        "high_prices = [150, 300, 430, 880, 1000]\n",
        "\n",
        "volatility = []\n",
        "for i in range(len(low_prices)):\n",
        "    difference = high_prices[i] - low_prices[i]\n",
        "    volatility.append(difference)\n",
        "print(volatility)"
      ],
      "metadata": {
        "colab": {
          "base_uri": "https://localhost:8080/"
        },
        "id": "OGu-TQ3GCCIJ",
        "outputId": "aa28de96-dfe7-4540-dfb7-503fc0797b92"
      },
      "execution_count": null,
      "outputs": [
        {
          "output_type": "stream",
          "name": "stdout",
          "text": [
            "[50, 100, 30, 80, 0]\n"
          ]
        }
      ]
    },
    {
      "cell_type": "code",
      "source": [
        "# 180 list comprehension\n",
        "[high_prices[i]-low_prices[i] for i in range(len(low_prices))]"
      ],
      "metadata": {
        "colab": {
          "base_uri": "https://localhost:8080/"
        },
        "id": "n0mKfUQWD4mM",
        "outputId": "6e5473b2-cf9b-4625-930b-cf54f1054cad"
      },
      "execution_count": null,
      "outputs": [
        {
          "output_type": "execute_result",
          "data": {
            "text/plain": [
              "[50, 100, 30, 80, 0]"
            ]
          },
          "metadata": {},
          "execution_count": 133
        }
      ]
    },
    {
      "cell_type": "code",
      "source": [
        "result = []\n",
        "count = 0\n",
        "for i in range(1,21):\n",
        "    count += i # 주의 count = count + i임\n",
        "    result.append(count)\n",
        "print(result)"
      ],
      "metadata": {
        "colab": {
          "base_uri": "https://localhost:8080/"
        },
        "id": "nZCamGw1CW2m",
        "outputId": "a1267c65-584d-485a-d652-7b7f12e71c8e"
      },
      "execution_count": null,
      "outputs": [
        {
          "output_type": "stream",
          "name": "stdout",
          "text": [
            "[1, 3, 6, 10, 15, 21, 28, 36, 45, 55, 66, 78, 91, 105, 120, 136, 153, 171, 190, 210]\n"
          ]
        }
      ]
    },
    {
      "cell_type": "code",
      "source": [
        "# 181\n",
        "apart = [['101호','102호'],['201호','202호'],['301호','302호']]\n",
        "apart"
      ],
      "metadata": {
        "colab": {
          "base_uri": "https://localhost:8080/"
        },
        "id": "uLYs6V2wDstk",
        "outputId": "fa385a7d-8540-4999-a10c-1b911d0a302f"
      },
      "execution_count": null,
      "outputs": [
        {
          "output_type": "execute_result",
          "data": {
            "text/plain": [
              "[['101호', '102호'], ['201호', '202호'], ['301호', '302호']]"
            ]
          },
          "metadata": {},
          "execution_count": 26
        }
      ]
    },
    {
      "cell_type": "code",
      "source": [
        "# 182\n",
        "stock = [['시가', 100,200,300], ['종가',80,210,330]]\n",
        "stock"
      ],
      "metadata": {
        "colab": {
          "base_uri": "https://localhost:8080/"
        },
        "id": "TE6mN-wxEJ37",
        "outputId": "f39c6d53-7f8b-4885-d902-f6d88c1980cc"
      },
      "execution_count": null,
      "outputs": [
        {
          "output_type": "execute_result",
          "data": {
            "text/plain": [
              "[['시가', 100, 200, 300], ['종가', 80, 210, 330]]"
            ]
          },
          "metadata": {},
          "execution_count": 27
        }
      ]
    },
    {
      "cell_type": "code",
      "source": [
        "# 183\n",
        "stock = {'시가':[100,200,300], '종가':[80,210,330]}\n",
        "stock"
      ],
      "metadata": {
        "colab": {
          "base_uri": "https://localhost:8080/"
        },
        "id": "nFGs9nXHEgO7",
        "outputId": "d99d72e4-662e-4ed0-a323-694464429c13"
      },
      "execution_count": null,
      "outputs": [
        {
          "output_type": "execute_result",
          "data": {
            "text/plain": [
              "{'시가': [100, 200, 300], '종가': [80, 210, 330]}"
            ]
          },
          "metadata": {},
          "execution_count": 28
        }
      ]
    },
    {
      "cell_type": "code",
      "source": [
        "# 184\n",
        "stock = {'10/10':[80,110,70,90], '10/11':[210,230,190,200]}\n",
        "stock"
      ],
      "metadata": {
        "colab": {
          "base_uri": "https://localhost:8080/"
        },
        "id": "higd2ofeFHqK",
        "outputId": "22d121d8-1bae-4993-fab8-382756675869"
      },
      "execution_count": null,
      "outputs": [
        {
          "output_type": "execute_result",
          "data": {
            "text/plain": [
              "{'10/10': [80, 110, 70, 90], '10/11': [210, 230, 190, 200]}"
            ]
          },
          "metadata": {},
          "execution_count": 30
        }
      ]
    },
    {
      "cell_type": "code",
      "source": [
        "# 185\n",
        "apart = [ [101, 102], [201, 202], [301, 302] ]\n",
        "for i in apart:\n",
        "    for j in i:\n",
        "        print(j,'호')"
      ],
      "metadata": {
        "colab": {
          "base_uri": "https://localhost:8080/"
        },
        "id": "l5WBDVUYFTA_",
        "outputId": "0e66f8fc-18ef-4530-877d-8d3d2ab33480"
      },
      "execution_count": null,
      "outputs": [
        {
          "output_type": "stream",
          "name": "stdout",
          "text": [
            "101 호\n",
            "102 호\n",
            "201 호\n",
            "202 호\n",
            "301 호\n",
            "302 호\n"
          ]
        }
      ]
    },
    {
      "cell_type": "code",
      "source": [
        "# 186\n",
        "apart = [ [101, 102], [201, 202], [301, 302] ]\n",
        "for i in apart[::-1]:\n",
        "    for j in i:\n",
        "        print(j, '호')"
      ],
      "metadata": {
        "colab": {
          "base_uri": "https://localhost:8080/"
        },
        "id": "dwPWoh8yFeIN",
        "outputId": "2af80b23-b2e1-4293-ba63-3450d9fb3bc3"
      },
      "execution_count": null,
      "outputs": [
        {
          "output_type": "stream",
          "name": "stdout",
          "text": [
            "301 호\n",
            "302 호\n",
            "201 호\n",
            "202 호\n",
            "101 호\n",
            "102 호\n"
          ]
        }
      ]
    },
    {
      "cell_type": "code",
      "source": [
        "# 187\n",
        "apart = [ [101, 102], [201, 202], [301, 302] ]\n",
        "for i in apart[::-1]:\n",
        "    for j in i[::-1]:\n",
        "        print(j)"
      ],
      "metadata": {
        "colab": {
          "base_uri": "https://localhost:8080/"
        },
        "id": "KwITBbYoFq59",
        "outputId": "999fea98-3bf4-4b56-de01-9c26e4922569"
      },
      "execution_count": null,
      "outputs": [
        {
          "output_type": "stream",
          "name": "stdout",
          "text": [
            "302\n",
            "301\n",
            "202\n",
            "201\n",
            "102\n",
            "101\n"
          ]
        }
      ]
    },
    {
      "cell_type": "code",
      "source": [
        "# 188\n",
        "apart = [ [101, 102], [201, 202], [301, 302] ]\n",
        "for i in apart:\n",
        "    for j in i:\n",
        "        print(j,'호')\n",
        "        print('-----')"
      ],
      "metadata": {
        "colab": {
          "base_uri": "https://localhost:8080/"
        },
        "id": "-gsUaJ0wGAXH",
        "outputId": "6045a780-bb91-4933-a0a8-64cb1e8c5dfd"
      },
      "execution_count": null,
      "outputs": [
        {
          "output_type": "stream",
          "name": "stdout",
          "text": [
            "101 호\n",
            "-----\n",
            "102 호\n",
            "-----\n",
            "201 호\n",
            "-----\n",
            "202 호\n",
            "-----\n",
            "301 호\n",
            "-----\n",
            "302 호\n",
            "-----\n"
          ]
        }
      ]
    },
    {
      "cell_type": "code",
      "source": [
        "# 189\n",
        "apart = [ [101, 102], [201, 202], [301, 302] ]\n",
        "for i in apart:\n",
        "    for j in i:\n",
        "        print(j,'호')\n",
        "    print('-----')"
      ],
      "metadata": {
        "colab": {
          "base_uri": "https://localhost:8080/"
        },
        "id": "hCk1KAxRGeWH",
        "outputId": "a60609ab-7688-411a-9183-d7957fea914a"
      },
      "execution_count": null,
      "outputs": [
        {
          "output_type": "stream",
          "name": "stdout",
          "text": [
            "101 호\n",
            "102 호\n",
            "-----\n",
            "201 호\n",
            "202 호\n",
            "-----\n",
            "301 호\n",
            "302 호\n",
            "-----\n"
          ]
        }
      ]
    },
    {
      "cell_type": "code",
      "source": [
        "# 190\n",
        "apart = [ [101, 102], [201, 202], [301, 302] ]\n",
        "for i in apart:\n",
        "    for j in i:\n",
        "        print(j,'호')\n",
        "print('-----')"
      ],
      "metadata": {
        "colab": {
          "base_uri": "https://localhost:8080/"
        },
        "id": "KsBJa0PrG5Hn",
        "outputId": "5597de5c-d56b-4a03-9293-cf175ae2fdf8"
      },
      "execution_count": null,
      "outputs": [
        {
          "output_type": "stream",
          "name": "stdout",
          "text": [
            "101 호\n",
            "102 호\n",
            "201 호\n",
            "202 호\n",
            "301 호\n",
            "302 호\n",
            "-----\n"
          ]
        }
      ]
    },
    {
      "cell_type": "code",
      "source": [
        "# 191\n",
        "data = [\n",
        "    [ 2000,  3050,  2050,  1980],\n",
        "    [ 7500,  2050,  2050,  1980],\n",
        "    [15450, 15050, 15550, 14900]\n",
        "]\n",
        "\n",
        "for i in data:\n",
        "    for j in i:\n",
        "        print(j * 1.00014) # 수수료 0.014%면 1.00014"
      ],
      "metadata": {
        "colab": {
          "base_uri": "https://localhost:8080/"
        },
        "id": "QMHD8XDTHDNL",
        "outputId": "34d6323e-127c-49b5-d525-031ed5be6e6b"
      },
      "execution_count": null,
      "outputs": [
        {
          "output_type": "stream",
          "name": "stdout",
          "text": [
            "2000.28\n",
            "3050.427\n",
            "2050.2870000000003\n",
            "1980.2772\n",
            "7501.05\n",
            "2050.2870000000003\n",
            "2050.2870000000003\n",
            "1980.2772\n",
            "15452.163\n",
            "15052.107\n",
            "15552.177\n",
            "14902.086000000001\n"
          ]
        }
      ]
    },
    {
      "cell_type": "code",
      "source": [
        "# 192\n",
        "for i in data:\n",
        "    for j in i:\n",
        "        print(j * 1.00014)\n",
        "    print('----')"
      ],
      "metadata": {
        "colab": {
          "base_uri": "https://localhost:8080/"
        },
        "id": "9u5t3ddJHiEK",
        "outputId": "db9062ff-e993-4dc3-b1e4-bce06b20021a"
      },
      "execution_count": null,
      "outputs": [
        {
          "output_type": "stream",
          "name": "stdout",
          "text": [
            "2000.28\n",
            "3050.427\n",
            "2050.2870000000003\n",
            "1980.2772\n",
            "----\n",
            "7501.05\n",
            "2050.2870000000003\n",
            "2050.2870000000003\n",
            "1980.2772\n",
            "----\n",
            "15452.163\n",
            "15052.107\n",
            "15552.177\n",
            "14902.086000000001\n",
            "----\n"
          ]
        }
      ]
    },
    {
      "cell_type": "code",
      "source": [
        "# 193\n",
        "result = []\n",
        "for i in data:\n",
        "    for j in i:\n",
        "        s = j * 1.00014\n",
        "        result.append(s)\n",
        "print(result)"
      ],
      "metadata": {
        "colab": {
          "base_uri": "https://localhost:8080/"
        },
        "id": "HE_XBjfoHvaE",
        "outputId": "edb8bd81-547b-4b7c-b4cc-94d31b89e0a0"
      },
      "execution_count": null,
      "outputs": [
        {
          "output_type": "stream",
          "name": "stdout",
          "text": [
            "[2000.28, 3050.427, 2050.2870000000003, 1980.2772, 7501.05, 2050.2870000000003, 2050.2870000000003, 1980.2772, 15452.163, 15052.107, 15552.177, 14902.086000000001]\n"
          ]
        }
      ]
    },
    {
      "cell_type": "code",
      "source": [
        "# 193\n",
        "result = []\n",
        "for i in data:\n",
        "    for j in i:\n",
        "        result.append(j*1.00014)\n",
        "print(result)"
      ],
      "metadata": {
        "colab": {
          "base_uri": "https://localhost:8080/"
        },
        "id": "sCmSq1W3H7XN",
        "outputId": "15d3b661-e25d-4d71-e7e2-fa865ecd5552"
      },
      "execution_count": null,
      "outputs": [
        {
          "output_type": "stream",
          "name": "stdout",
          "text": [
            "[2000.28, 3050.427, 2050.2870000000003, 1980.2772, 7501.05, 2050.2870000000003, 2050.2870000000003, 1980.2772, 15452.163, 15052.107, 15552.177, 14902.086000000001]\n"
          ]
        }
      ]
    },
    {
      "cell_type": "code",
      "source": [
        "# 193 list comprehension\n",
        "[j*1.00014 for i in data for j in i]"
      ],
      "metadata": {
        "colab": {
          "base_uri": "https://localhost:8080/"
        },
        "id": "j4X_zJqaICCx",
        "outputId": "02ac7113-0352-434e-9b7b-a584f748209c"
      },
      "execution_count": null,
      "outputs": [
        {
          "output_type": "execute_result",
          "data": {
            "text/plain": [
              "[2000.28,\n",
              " 3050.427,\n",
              " 2050.2870000000003,\n",
              " 1980.2772,\n",
              " 7501.05,\n",
              " 2050.2870000000003,\n",
              " 2050.2870000000003,\n",
              " 1980.2772,\n",
              " 15452.163,\n",
              " 15052.107,\n",
              " 15552.177,\n",
              " 14902.086000000001]"
            ]
          },
          "metadata": {},
          "execution_count": 51
        }
      ]
    },
    {
      "cell_type": "code",
      "source": [
        "# 194\n",
        "data = [\n",
        "    [ 2000,  3050,  2050,  1980],\n",
        "    [ 7500,  2050,  2050,  1980],\n",
        "    [15450, 15050, 15550, 14900]\n",
        "]\n",
        "\n",
        "\n",
        "result = []\n",
        "for i in data:\n",
        "    sub = []\n",
        "    for j in i:\n",
        "        sub.append(j*1.00014)\n",
        "    result.append(sub)\n",
        "print(result)"
      ],
      "metadata": {
        "colab": {
          "base_uri": "https://localhost:8080/"
        },
        "id": "MolRmn8jILmf",
        "outputId": "9d045e7c-c6f7-4d98-b05c-72cefc9952a9"
      },
      "execution_count": null,
      "outputs": [
        {
          "output_type": "stream",
          "name": "stdout",
          "text": [
            "[[2000.28, 3050.427, 2050.2870000000003, 1980.2772], [7501.05, 2050.2870000000003, 2050.2870000000003, 1980.2772], [15452.163, 15052.107, 15552.177, 14902.086000000001]]\n"
          ]
        }
      ]
    },
    {
      "cell_type": "code",
      "source": [
        "data = [\n",
        "    [ 2000,  3050,  2050,  1980],\n",
        "    [ 7500,  2050,  2050,  1980],\n",
        "    [15450, 15050, 15550, 14900]\n",
        "]\n",
        "\n",
        "a = []\n",
        "for i in data:\n",
        "    b = []\n",
        "    for j in i:\n",
        "        b.append(j*1.00014)\n",
        "    a.append(b)\n",
        "print(a)"
      ],
      "metadata": {
        "colab": {
          "base_uri": "https://localhost:8080/"
        },
        "id": "Xwr73v8yMtn0",
        "outputId": "0e7dab0b-95ba-4789-fadf-dadbdcd29254"
      },
      "execution_count": null,
      "outputs": [
        {
          "output_type": "stream",
          "name": "stdout",
          "text": [
            "[[2000.28, 3050.427, 2050.2870000000003, 1980.2772], [7501.05, 2050.2870000000003, 2050.2870000000003, 1980.2772], [15452.163, 15052.107, 15552.177, 14902.086000000001]]\n"
          ]
        }
      ]
    },
    {
      "cell_type": "code",
      "source": [
        "# 195\n",
        "ohlc = [[\"open\", \"high\", \"low\", \"close\"],\n",
        "        [100, 110, 70, 100],\n",
        "        [200, 210, 180, 190],\n",
        "        [300, 310, 300, 310]]\n",
        "\n",
        "for i in ohlc[1:]:\n",
        "    print(i[3])"
      ],
      "metadata": {
        "colab": {
          "base_uri": "https://localhost:8080/"
        },
        "id": "zBDA97tGM81I",
        "outputId": "f38bfec6-b038-475d-b563-69227f0d36d9"
      },
      "execution_count": null,
      "outputs": [
        {
          "output_type": "stream",
          "name": "stdout",
          "text": [
            "100\n",
            "190\n",
            "310\n"
          ]
        }
      ]
    },
    {
      "cell_type": "code",
      "source": [
        "# 196\n",
        "ohlc = [[\"open\", \"high\", \"low\", \"close\"],\n",
        "        [100, 110, 70, 100],\n",
        "        [200, 210, 180, 190],\n",
        "        [300, 310, 300, 310]]\n",
        "\n",
        "for i in ohlc[1:]:\n",
        "    if i[3] >= 150:\n",
        "        print(i[3]) # i로만 출력해버리면 190, 310이 속해 있는 i 요소가 다 출력"
      ],
      "metadata": {
        "colab": {
          "base_uri": "https://localhost:8080/"
        },
        "id": "NVf7Q17EN42g",
        "outputId": "2854026b-485e-4536-e432-a1c1d6ca83c0"
      },
      "execution_count": null,
      "outputs": [
        {
          "output_type": "stream",
          "name": "stdout",
          "text": [
            "190\n",
            "310\n"
          ]
        }
      ]
    },
    {
      "cell_type": "code",
      "source": [
        "# 197\n",
        "ohlc = [[\"open\", \"high\", \"low\", \"close\"],\n",
        "        [100, 110, 70, 100],\n",
        "        [200, 210, 180, 190],\n",
        "        [300, 310, 300, 310]]\n",
        "\n",
        "for i in ohlc[1:]:\n",
        "    if i[3] >= i[0]:\n",
        "        print(i[3])"
      ],
      "metadata": {
        "colab": {
          "base_uri": "https://localhost:8080/"
        },
        "id": "hoWFf0_sOg5I",
        "outputId": "70aa0c6d-b890-40bd-d523-e7816e6298dc"
      },
      "execution_count": null,
      "outputs": [
        {
          "output_type": "stream",
          "name": "stdout",
          "text": [
            "100\n",
            "310\n"
          ]
        }
      ]
    },
    {
      "cell_type": "code",
      "source": [
        "# 198\n",
        "ohlc = [[\"open\", \"high\", \"low\", \"close\"],\n",
        "        [100, 110, 70, 100],\n",
        "        [200, 210, 180, 190],\n",
        "        [300, 310, 300, 310]]\n",
        "\n",
        "volatility = []\n",
        "for i in ohlc[1:]:\n",
        "    difference = i[1]-i[2]\n",
        "    volatility.append(difference)\n",
        "print(volatility)"
      ],
      "metadata": {
        "colab": {
          "base_uri": "https://localhost:8080/"
        },
        "id": "Su7Cd_qHO2u0",
        "outputId": "59bd36c3-f929-4992-8d25-9e91e86bb16c"
      },
      "execution_count": null,
      "outputs": [
        {
          "output_type": "stream",
          "name": "stdout",
          "text": [
            "[40, 30, 10]\n"
          ]
        }
      ]
    },
    {
      "cell_type": "code",
      "source": [
        "# range는 숫자이기 때문에 위의 코드랑 다르다는 것 주의\n",
        "\n",
        "volatility = []\n",
        "for i in range(1,len(ohlc)):\n",
        "    volatility.append(ohlc[i][1]-ohlc[i][2])\n",
        "print(volatility)"
      ],
      "metadata": {
        "colab": {
          "base_uri": "https://localhost:8080/"
        },
        "id": "oSGcKxuJPW5k",
        "outputId": "0195dff4-f35a-4b80-c262-7268e6fc78aa"
      },
      "execution_count": null,
      "outputs": [
        {
          "output_type": "stream",
          "name": "stdout",
          "text": [
            "[40, 30, 10]\n"
          ]
        }
      ]
    },
    {
      "cell_type": "code",
      "source": [
        "# 199\n",
        "ohlc = [[\"open\", \"high\", \"low\", \"close\"],\n",
        "        [100, 110, 70, 100],\n",
        "        [200, 210, 180, 190],\n",
        "        [300, 310, 300, 310]]\n",
        "\n",
        "for i in ohlc[1:]:\n",
        "    if i[3] > i[0]:\n",
        "        print(i[1] - i[2])"
      ],
      "metadata": {
        "colab": {
          "base_uri": "https://localhost:8080/"
        },
        "id": "xRo3-DNoQMyP",
        "outputId": "74b8ad5c-496b-4ee5-9be9-c83cc45fda7a"
      },
      "execution_count": null,
      "outputs": [
        {
          "output_type": "stream",
          "name": "stdout",
          "text": [
            "10\n"
          ]
        }
      ]
    },
    {
      "cell_type": "code",
      "source": [
        "# 200\n",
        "ohlc = [[\"open\", \"high\", \"low\", \"close\"],\n",
        "        [100, 110, 70, 100],\n",
        "        [200, 210, 180, 190],\n",
        "        [300, 310, 300, 310]]\n",
        "a = 0\n",
        "for i in range(1,len(ohlc)):\n",
        "    a += ohlc[i][3] - ohlc[i][0]\n",
        "print(a,type(a))"
      ],
      "metadata": {
        "colab": {
          "base_uri": "https://localhost:8080/"
        },
        "id": "RBZT6yZ4QhNd",
        "outputId": "9f8e50ae-f476-4d4d-83bd-7d4749ac3d47"
      },
      "execution_count": null,
      "outputs": [
        {
          "output_type": "stream",
          "name": "stdout",
          "text": [
            "0 <class 'int'>\n"
          ]
        }
      ]
    },
    {
      "cell_type": "code",
      "source": [
        "ohlc = [[\"open\", \"high\", \"low\", \"close\"],\n",
        "        [100, 110, 70, 100],\n",
        "        [200, 210, 180, 190],\n",
        "        [300, 310, 300, 310]]\n",
        "\n",
        "s = 0\n",
        "for i in ohlc[1:]:\n",
        "    s += (i[3] - i[0])\n",
        "print(s,type(s))"
      ],
      "metadata": {
        "colab": {
          "base_uri": "https://localhost:8080/"
        },
        "id": "1ezs5JCgSKKA",
        "outputId": "ec2118d8-8050-4760-ad31-48b90264e1f9"
      },
      "execution_count": null,
      "outputs": [
        {
          "output_type": "stream",
          "name": "stdout",
          "text": [
            "0 <class 'int'>\n"
          ]
        }
      ]
    },
    {
      "cell_type": "markdown",
      "source": [
        "# 09. 파이썬 함수"
      ],
      "metadata": {
        "id": "kIjczq2LTx4q"
      }
    },
    {
      "cell_type": "code",
      "source": [
        "# 201\n",
        "def print_coin():\n",
        "    print('비트코인')"
      ],
      "metadata": {
        "id": "cpGHHNM0T0_G"
      },
      "execution_count": null,
      "outputs": []
    },
    {
      "cell_type": "code",
      "source": [
        "# 202\n",
        "print_coin()"
      ],
      "metadata": {
        "colab": {
          "base_uri": "https://localhost:8080/"
        },
        "id": "Aw4q-B78UETV",
        "outputId": "534d5c40-8b11-43c2-b6c1-8e16792d61ce"
      },
      "execution_count": null,
      "outputs": [
        {
          "output_type": "stream",
          "name": "stdout",
          "text": [
            "비트코인\n"
          ]
        }
      ]
    },
    {
      "cell_type": "code",
      "source": [
        "# 203\n",
        "for i in range(100):\n",
        "    print_coin()"
      ],
      "metadata": {
        "id": "kxgbPN2IUkI_"
      },
      "execution_count": null,
      "outputs": []
    },
    {
      "cell_type": "code",
      "source": [
        "# 204\n",
        "# \"비트코인\" 문자열을 100번 화면에 출력하는 print_coins() 함수를 정의\n",
        "def print_coins():\n",
        "    for i in range(100):\n",
        "        print('비트코인')"
      ],
      "metadata": {
        "id": "LLy0LWEeU6TG"
      },
      "execution_count": null,
      "outputs": []
    },
    {
      "cell_type": "code",
      "source": [
        "# 205\n",
        "# 아래의 에러가 발생하는 이유에 대해 설명\n",
        "hello()\n",
        "def hello():\n",
        "    print(\"Hi\")\n",
        "# 함수가 정의되기 전에 호출되어서 에러가 발생"
      ],
      "metadata": {
        "id": "wN3l7hWRVe_R"
      },
      "execution_count": null,
      "outputs": []
    },
    {
      "cell_type": "code",
      "source": [
        "# 206\n",
        "def message() :\n",
        "    print(\"A\")\n",
        "    print(\"B\")\n",
        "\n",
        "message()\n",
        "print(\"C\")\n",
        "message()"
      ],
      "metadata": {
        "colab": {
          "base_uri": "https://localhost:8080/"
        },
        "id": "U7zBx0d-YR9c",
        "outputId": "bf3d8dc8-7279-4b26-c255-a8054c080ce2"
      },
      "execution_count": null,
      "outputs": [
        {
          "output_type": "stream",
          "name": "stdout",
          "text": [
            "A\n",
            "B\n",
            "C\n",
            "A\n",
            "B\n"
          ]
        }
      ]
    },
    {
      "cell_type": "code",
      "source": [
        "# 207\n",
        "print(\"A\")\n",
        "\n",
        "def message() :\n",
        "    print(\"B\")\n",
        "\n",
        "print(\"C\")\n",
        "message()"
      ],
      "metadata": {
        "colab": {
          "base_uri": "https://localhost:8080/"
        },
        "id": "vwGSccEFYXdj",
        "outputId": "a1a59acb-f3b5-4258-f712-01f002067f79"
      },
      "execution_count": null,
      "outputs": [
        {
          "output_type": "stream",
          "name": "stdout",
          "text": [
            "A\n",
            "C\n",
            "B\n"
          ]
        }
      ]
    },
    {
      "cell_type": "code",
      "source": [
        "# 208\n",
        "print(\"A\")\n",
        "def message1() :\n",
        "    print(\"B\")\n",
        "print(\"C\")\n",
        "def message2() :\n",
        "    print(\"D\")\n",
        "message1()\n",
        "print(\"E\")\n",
        "message2()"
      ],
      "metadata": {
        "colab": {
          "base_uri": "https://localhost:8080/"
        },
        "id": "8Xw7MOwQYcZ-",
        "outputId": "2c008699-b7cc-4ad1-8672-2e86a968a1b8"
      },
      "execution_count": null,
      "outputs": [
        {
          "output_type": "stream",
          "name": "stdout",
          "text": [
            "A\n",
            "C\n",
            "B\n",
            "E\n",
            "D\n"
          ]
        }
      ]
    },
    {
      "cell_type": "code",
      "source": [
        "# 209\n",
        "def message1():\n",
        "    print(\"A\")\n",
        "\n",
        "def message2():\n",
        "    print(\"B\")\n",
        "    message1()\n",
        "\n",
        "message2()"
      ],
      "metadata": {
        "colab": {
          "base_uri": "https://localhost:8080/"
        },
        "id": "j4iJbpOfYiCY",
        "outputId": "ad7f498b-97d2-49de-9e67-825d3fb96815"
      },
      "execution_count": null,
      "outputs": [
        {
          "output_type": "stream",
          "name": "stdout",
          "text": [
            "B\n",
            "A\n"
          ]
        }
      ]
    },
    {
      "cell_type": "code",
      "source": [
        "# 210\n",
        "def message1():\n",
        "    print(\"A\")\n",
        "\n",
        "def message2():\n",
        "    print(\"B\")\n",
        "\n",
        "def message3():\n",
        "    for i in range (3) :\n",
        "        message2()\n",
        "        print(\"C\")\n",
        "    message1()\n",
        "\n",
        "message3()"
      ],
      "metadata": {
        "colab": {
          "base_uri": "https://localhost:8080/"
        },
        "id": "VqmHtVRjYnTq",
        "outputId": "c7ee8bf2-aea7-40d3-d6d9-05deaab6c2b6"
      },
      "execution_count": null,
      "outputs": [
        {
          "output_type": "stream",
          "name": "stdout",
          "text": [
            "B\n",
            "C\n",
            "B\n",
            "C\n",
            "B\n",
            "C\n",
            "A\n"
          ]
        }
      ]
    },
    {
      "cell_type": "code",
      "source": [
        "# 211\n",
        "def 함수(문자열) :\n",
        "    print(문자열)\n",
        "\n",
        "함수(\"안녕\")\n",
        "함수(\"Hi\")"
      ],
      "metadata": {
        "colab": {
          "base_uri": "https://localhost:8080/"
        },
        "id": "X2dXAvbLZaIn",
        "outputId": "c7a75cf8-4ab5-4bb6-d353-17440e256014"
      },
      "execution_count": null,
      "outputs": [
        {
          "output_type": "stream",
          "name": "stdout",
          "text": [
            "안녕\n",
            "Hi\n"
          ]
        }
      ]
    },
    {
      "cell_type": "code",
      "source": [
        "# 212\n",
        "def 함수(a, b) :\n",
        "    print(a + b)\n",
        "\n",
        "함수(3, 4)\n",
        "함수(7, 8)"
      ],
      "metadata": {
        "colab": {
          "base_uri": "https://localhost:8080/"
        },
        "id": "kdK0sP99ZomI",
        "outputId": "94a3fbbe-30b4-4975-ce18-9e4ca4fbee1d"
      },
      "execution_count": null,
      "outputs": [
        {
          "output_type": "stream",
          "name": "stdout",
          "text": [
            "7\n",
            "15\n"
          ]
        }
      ]
    },
    {
      "cell_type": "code",
      "source": [
        "# 213\n",
        "def 함수(문자열) :\n",
        "    print(문자열)\n",
        "\n",
        "함수() # error\n",
        "# 함수에 정의와 다르게 함수를 호출하고 있다. 함수를 호출 할 때 하나의 파라미터를 입력해야함"
      ],
      "metadata": {
        "colab": {
          "base_uri": "https://localhost:8080/",
          "height": 240
        },
        "id": "H8_xFCxrZq6z",
        "outputId": "0d712340-a875-4d50-bfda-ffbbfc322788"
      },
      "execution_count": null,
      "outputs": [
        {
          "output_type": "error",
          "ename": "TypeError",
          "evalue": "ignored",
          "traceback": [
            "\u001b[0;31m---------------------------------------------------------------------------\u001b[0m",
            "\u001b[0;31mTypeError\u001b[0m                                 Traceback (most recent call last)",
            "\u001b[0;32m<ipython-input-106-513b044d7bec>\u001b[0m in \u001b[0;36m<cell line: 4>\u001b[0;34m()\u001b[0m\n\u001b[1;32m      2\u001b[0m \u001b[0;32mdef\u001b[0m \u001b[0m함수\u001b[0m\u001b[0;34m(\u001b[0m\u001b[0m문자열\u001b[0m\u001b[0;34m)\u001b[0m \u001b[0;34m:\u001b[0m\u001b[0;34m\u001b[0m\u001b[0;34m\u001b[0m\u001b[0m\n\u001b[1;32m      3\u001b[0m     \u001b[0mprint\u001b[0m\u001b[0;34m(\u001b[0m\u001b[0m문자열\u001b[0m\u001b[0;34m)\u001b[0m\u001b[0;34m\u001b[0m\u001b[0;34m\u001b[0m\u001b[0m\n\u001b[0;32m----> 4\u001b[0;31m \u001b[0m함수\u001b[0m\u001b[0;34m(\u001b[0m\u001b[0;34m)\u001b[0m\u001b[0;34m\u001b[0m\u001b[0;34m\u001b[0m\u001b[0m\n\u001b[0m",
            "\u001b[0;31mTypeError\u001b[0m: 함수() missing 1 required positional argument: '문자열'"
          ]
        }
      ]
    },
    {
      "cell_type": "code",
      "source": [
        "# 214\n",
        "def 함수(a, b) :\n",
        "    print(a + b)\n",
        "\n",
        "함수(\"안녕\", 3)\n",
        "\n",
        "# 정의된 함수는 같은 타입의 두 개의 값을 입력받아 덧셈 연산을 적용하려는 의도로 설계\n",
        "# 함수를 호출 할 때 문자열과 숫자를 입력해서 문자열과 숫자는 더할 수 없다는 에러"
      ],
      "metadata": {
        "id": "4r9d71TGaJlq"
      },
      "execution_count": null,
      "outputs": []
    },
    {
      "cell_type": "code",
      "source": [
        "# 215 ~ 216\n",
        "def print_with_smile(str):\n",
        "    print(str+':D')\n",
        "print_with_smile('안녕하세요')"
      ],
      "metadata": {
        "colab": {
          "base_uri": "https://localhost:8080/"
        },
        "id": "MOw394eIaf3_",
        "outputId": "119a9fc0-af25-4be9-a197-3b91307edd13"
      },
      "execution_count": null,
      "outputs": [
        {
          "output_type": "stream",
          "name": "stdout",
          "text": [
            "안녕하세요:D\n"
          ]
        }
      ]
    },
    {
      "cell_type": "code",
      "source": [
        "# 217\n",
        "def print_upper_price(price):\n",
        "    print(price * 1.3)\n",
        "print_upper_price(10000)"
      ],
      "metadata": {
        "colab": {
          "base_uri": "https://localhost:8080/"
        },
        "id": "GVmd9YP7a09i",
        "outputId": "810869a7-67b1-4e14-a50e-49f401001793"
      },
      "execution_count": null,
      "outputs": [
        {
          "output_type": "stream",
          "name": "stdout",
          "text": [
            "13000.0\n"
          ]
        }
      ]
    },
    {
      "cell_type": "code",
      "source": [
        "# 218\n",
        "def print_sum(a,b):\n",
        "    print(a+b)\n",
        "print_sum(3,5)"
      ],
      "metadata": {
        "colab": {
          "base_uri": "https://localhost:8080/"
        },
        "id": "DFK-jJQ_bXg6",
        "outputId": "4d85b8ac-31b0-44f4-d81c-90e4894eded7"
      },
      "execution_count": null,
      "outputs": [
        {
          "output_type": "stream",
          "name": "stdout",
          "text": [
            "8\n"
          ]
        }
      ]
    },
    {
      "cell_type": "code",
      "source": [
        "# 219\n",
        "def print_arithmetic_operation(a,b):\n",
        "    print(a, '+', b, '=', a + b)\n",
        "    print(a - b)\n",
        "    print(a * b)\n",
        "    print(a / b)\n",
        "print_arithmetic_operation(3, 4)"
      ],
      "metadata": {
        "colab": {
          "base_uri": "https://localhost:8080/"
        },
        "id": "EW2UWyfEbmgk",
        "outputId": "dbc28117-70ec-4030-82cb-99df226e8a83"
      },
      "execution_count": null,
      "outputs": [
        {
          "output_type": "stream",
          "name": "stdout",
          "text": [
            "3 + 4 = 7\n",
            "-1\n",
            "12\n",
            "0.75\n"
          ]
        }
      ]
    },
    {
      "cell_type": "code",
      "source": [
        "# 220\n",
        "def print_max(a,b,c):\n",
        "    if a > b and a > c:\n",
        "        print(a)\n",
        "    elif b > a and b > c:\n",
        "        print(b)\n",
        "    else:\n",
        "        print(c)\n",
        "\n",
        "print_max(50,20,10)"
      ],
      "metadata": {
        "colab": {
          "base_uri": "https://localhost:8080/"
        },
        "id": "1t6f_bfTcGTy",
        "outputId": "9f5e8553-0a26-4fa0-b07d-961fd2f96d9b"
      },
      "execution_count": null,
      "outputs": [
        {
          "output_type": "stream",
          "name": "stdout",
          "text": [
            "50\n"
          ]
        }
      ]
    },
    {
      "cell_type": "code",
      "source": [
        "def print_max(a,b,c):\n",
        "    print(max(a,b,c))\n",
        "print_max(50,20,10)"
      ],
      "metadata": {
        "colab": {
          "base_uri": "https://localhost:8080/"
        },
        "id": "tNXKVOzUc3lM",
        "outputId": "e53d19ee-2955-4261-8aa0-30a1beae56a9"
      },
      "execution_count": null,
      "outputs": [
        {
          "output_type": "stream",
          "name": "stdout",
          "text": [
            "50\n"
          ]
        }
      ]
    },
    {
      "cell_type": "code",
      "source": [
        "# 221\n",
        "def print_reverse(str):\n",
        "    print(str[::-1])\n",
        "\n",
        "print_reverse('python')"
      ],
      "metadata": {
        "colab": {
          "base_uri": "https://localhost:8080/"
        },
        "id": "3Yz7glAfdCOd",
        "outputId": "951501f6-3dc0-4de6-fdb1-a79a582840af"
      },
      "execution_count": null,
      "outputs": [
        {
          "output_type": "stream",
          "name": "stdout",
          "text": [
            "nohtyp\n"
          ]
        }
      ]
    },
    {
      "cell_type": "code",
      "source": [
        "# 222\n",
        "def print_score(score_list):\n",
        "    print(sum(score_list)/len(score_list))\n",
        "print_score([1,2,3])"
      ],
      "metadata": {
        "colab": {
          "base_uri": "https://localhost:8080/"
        },
        "id": "g7Jd4Q_-dTLX",
        "outputId": "15e9edec-1933-46f8-e1d4-22b7fb4a2612"
      },
      "execution_count": null,
      "outputs": [
        {
          "output_type": "stream",
          "name": "stdout",
          "text": [
            "2.0\n"
          ]
        }
      ]
    },
    {
      "cell_type": "code",
      "source": [
        "# 223\n",
        "def print_even(even_list):\n",
        "    for i in even_list:\n",
        "        if i % 2 ==0:\n",
        "            print(i)\n",
        "print_even([1,3,2,10,12,11,15])"
      ],
      "metadata": {
        "colab": {
          "base_uri": "https://localhost:8080/"
        },
        "id": "r3s2tWa4eK9v",
        "outputId": "7e3099cf-ff55-49b6-981e-5868e765d906"
      },
      "execution_count": null,
      "outputs": [
        {
          "output_type": "stream",
          "name": "stdout",
          "text": [
            "2\n",
            "10\n",
            "12\n"
          ]
        }
      ]
    },
    {
      "cell_type": "code",
      "source": [
        "# 223\n",
        "def print_even(my_list):\n",
        "    for i in my_list:\n",
        "        if i % 2 ==0:\n",
        "            print(i)\n",
        "print_even([1,3,2,10,12,11,15])"
      ],
      "metadata": {
        "colab": {
          "base_uri": "https://localhost:8080/"
        },
        "id": "pK-5mcK2e-Ya",
        "outputId": "a91e0864-7dfb-4451-fe32-ecdf931e9b99"
      },
      "execution_count": null,
      "outputs": [
        {
          "output_type": "stream",
          "name": "stdout",
          "text": [
            "2\n",
            "10\n",
            "12\n"
          ]
        }
      ]
    },
    {
      "cell_type": "code",
      "source": [
        "# 224\n",
        "def print_keys(my_keys):\n",
        "    for i in my_keys.keys(): # .keys()를 굳이 안써도 순수 for문은 key만 출력\n",
        "        print(i)\n",
        "print_keys({'이름':'김말똥','나이':30,'성별':0})"
      ],
      "metadata": {
        "colab": {
          "base_uri": "https://localhost:8080/"
        },
        "id": "4mAQ9m6sfStO",
        "outputId": "7a38a109-e652-4764-9c3d-1aa9cda0e90d"
      },
      "execution_count": null,
      "outputs": [
        {
          "output_type": "stream",
          "name": "stdout",
          "text": [
            "이름\n",
            "나이\n",
            "성별\n"
          ]
        }
      ]
    },
    {
      "cell_type": "code",
      "source": [
        "# 225 이해요망\n",
        "my_dict = {\"10/26\" : [100, 130, 100, 100],\n",
        "           \"10/27\" : [10, 12, 10, 11]}\n",
        "def print_value_by_key(my_dict,key):\n",
        "    print(my_dict[key])\n",
        "print_value_by_key(my_dict,'10/26')"
      ],
      "metadata": {
        "colab": {
          "base_uri": "https://localhost:8080/"
        },
        "id": "_rAyzbiVgB2a",
        "outputId": "22c41e0c-1659-4c2c-abcf-4fe1ec70fe38"
      },
      "execution_count": null,
      "outputs": [
        {
          "output_type": "stream",
          "name": "stdout",
          "text": [
            "[100, 130, 100, 100]\n"
          ]
        }
      ]
    },
    {
      "cell_type": "code",
      "source": [
        "# 226\n",
        "def print_5xn(string):\n",
        "    chunk_num = int(len(string)/5)\n",
        "    for i in range(chunk_num+1):\n",
        "        print(string[i*5:i*5+5])\n",
        "\n",
        "print_5xn('아이엠어보이유알어걸')"
      ],
      "metadata": {
        "id": "6QHuuKsphwf6",
        "colab": {
          "base_uri": "https://localhost:8080/"
        },
        "outputId": "d9c1e895-98a0-48bc-d7f8-216274be9ad7"
      },
      "execution_count": null,
      "outputs": [
        {
          "output_type": "stream",
          "name": "stdout",
          "text": [
            "아이엠어보\n",
            "이유알어걸\n",
            "\n"
          ]
        }
      ]
    },
    {
      "cell_type": "code",
      "source": [
        "# 226\n",
        "def print_5xn(mystr):\n",
        "    str_list = int(len(mystr)/ 5)\n",
        "    for i in range(str_list):\n",
        "        print(mystr[i*5:i*5+5])\n",
        "\n",
        "\n",
        "print_5xn('아이엠어보이유알어걸')"
      ],
      "metadata": {
        "colab": {
          "base_uri": "https://localhost:8080/"
        },
        "id": "SYOj_gfeJF0F",
        "outputId": "8ab337f9-0ffd-4575-bf16-3c36328f91d0"
      },
      "execution_count": null,
      "outputs": [
        {
          "output_type": "stream",
          "name": "stdout",
          "text": [
            "아이엠어보\n",
            "이유알어걸\n"
          ]
        }
      ]
    },
    {
      "cell_type": "code",
      "source": [
        "# 227\n",
        "def printmxn(string,counting):\n",
        "    str_list = round(int(len(string)/counting))\n",
        "    for i in range(str_list):\n",
        "        # i = 0,1,2\n",
        "        print(string[i*3:counting*i*2])\n",
        "\n",
        "printmxn(\"아이엠어보이유알어걸\", 3)"
      ],
      "metadata": {
        "colab": {
          "base_uri": "https://localhost:8080/"
        },
        "id": "4MmHCCB2KiFb",
        "outputId": "c7cf5467-e670-4a38-f1e3-3f81f164bfdb"
      },
      "execution_count": null,
      "outputs": [
        {
          "output_type": "stream",
          "name": "stdout",
          "text": [
            "\n",
            "어보이\n",
            "유알어걸\n"
          ]
        }
      ]
    }
  ]
}